{
  "cells": [
    {
      "cell_type": "markdown",
      "id": "c246215f",
      "metadata": {
        "id": "c246215f"
      },
      "source": [
        "# Test estadísticos\n",
        "\n",
        "### Descripción\n",
        "\n",
        "<font size=\"4\"> Comparación de algoritmos para minimización/maximización utilizando test estadísticos.\n",
        "    \n",
        "### Componentes\n",
        "    \n",
        "- <font size=\"3\"> Se requiere un fichero csv separado para cada problema. En cada fichero csv, las columnas representan los algoritmos a comparar y las filas son las muestras de los resultados. Las cabeceras de todos los ficheros csv deben ser las mismas.\n",
        "    \n",
        "- <font size=\"3\"> Se calculan ranking wins - loss para los siguientes test estadísticos:\n",
        "\n",
        "    - <font size=\"3\"> Mann-Whitney U test (Wilconxon rank-sum test), apropiado para la comparación  de algoritmos probabilistas ejecutados múltiples veces con distintas semillas (muestras independientes).\n",
        "\n",
        "    - <font size=\"3\"> Wilcoxon signed-rank test, apropiado para la comparación de algoritmos de aprendizaje evaluados en $k$-fold cross-validation, $n$ repeticiones (muestras pareadas).\n",
        "\n",
        "- <font size=\"3\"> Se calcula también el ranking wins - loss de los resultados medios.\n",
        "    \n",
        "---"
      ]
    },
    {
      "cell_type": "markdown",
      "source": [
        "## Qué es mejor, obtener la matriz de Wins and Losses a partir de resultados promedios o a partir de los test estadísticos?\n",
        "\n",
        "La respuesta depende del nivel de confianza que quieras tener en la comparación de los algoritmos. Veamos las diferencias entre ambos enfoques y cuál es mejor.\n",
        "\n",
        "### A partir de promedios\n",
        "- No se considera la variabilidad en los datos.\n",
        "    - si dos algoritmos tienen valores muy dispersos, la media puede ser engañosa.\n",
        "    - Ejemplo: $AG1 = [0.9, 0.7]$, con media $0.8$; y $AG2 = [0.75, 0.75]$, con media $0.75$.\n",
        "        - Aunque AG1 tiene una mejor media, su rendimiento NO es consistentemente mejor que AG2.\n",
        "    - Entonces, ¿es realmente mejor AG1 que AG2? ¿O simplemete tuvo suerte en algunas ejecuciones? Por tanto, no sabemos si la diferencia es significativa.\n",
        "\n",
        "### A partir de tests estadísticos\n",
        "- Considera la variabilidad de los resultados.\n",
        "    - Si un algoritmo tiene una media más alta pero mucha variabilidad, no se le da ventaja si las diferencias no son consistentes.\n",
        "- Solo marca diferencias cuando son estadísticamente significativas.\n",
        "    - Evita falsas afirmaciones como \"AG1 es mejor que AG2\", cuando en realidad la diferencia podría ser solo casualidad.\n",
        "- Proporciona más información con la matriz de p-values.\n",
        "    - Nos dice qué comparaciones son seguras y cuáles no tienen suficiente evidencia para concluir algo. Cuando el p-valor al comparar dos algoritmos es superior a 0.05, significa que no tenemos suficiente suficiente evidencia estadística para diferenciarlos, y que la diferencia que se pueda observar entre ambos podría ser simplemente azar."
      ],
      "metadata": {
        "id": "ChX9xr5kKfuw"
      },
      "id": "ChX9xr5kKfuw"
    },
    {
      "cell_type": "markdown",
      "id": "9d6a5f27-570f-428d-9e8f-d78cc4870153",
      "metadata": {
        "id": "9d6a5f27-570f-428d-9e8f-d78cc4870153"
      },
      "source": [
        "### Requerimientos"
      ]
    },
    {
      "cell_type": "code",
      "execution_count": null,
      "id": "d3b1b164",
      "metadata": {
        "id": "d3b1b164"
      },
      "outputs": [],
      "source": [
        "import numpy as np\n",
        "import pandas as pd\n",
        "import csv\n",
        "from scipy.stats import wilcoxon\n",
        "from scipy.stats import mannwhitneyu\n",
        "from statistics import mean"
      ]
    },
    {
      "cell_type": "markdown",
      "id": "a1c7917e",
      "metadata": {
        "id": "a1c7917e"
      },
      "source": [
        "### Definición del tipo de test (maximización o minimización)"
      ]
    },
    {
      "cell_type": "code",
      "execution_count": null,
      "id": "c3cd29c2",
      "metadata": {
        "id": "c3cd29c2"
      },
      "outputs": [],
      "source": [
        "def mejor(x,y):\n",
        "    #return x>y # maximización\n",
        "    return x<y # minimización\n",
        "\n",
        "def peor(x,y):\n",
        "    #return x<y # maximización\n",
        "    return x>y # minimización"
      ]
    },
    {
      "cell_type": "markdown",
      "id": "66cdf152",
      "metadata": {
        "id": "66cdf152"
      },
      "source": [
        "### Definición de la clase Ranking"
      ]
    },
    {
      "cell_type": "code",
      "execution_count": null,
      "id": "8c460fd0",
      "metadata": {
        "id": "8c460fd0"
      },
      "outputs": [],
      "source": [
        "class Ranking:\n",
        "    def __init__(self, name):\n",
        "        self.name = name # Nombre del algoritmo\n",
        "        self.wins = 0 # Veces que ha ganado\n",
        "        self.losses = 0 # Veces que ha perdido\n",
        "    def __lt__(self,x):\n",
        "        return (self.wins-self.losses) < (x.wins-x.losses)\n",
        "    def __str__(self):\n",
        "        return f\"{self.name:<15} {self.wins:>10} {self.losses:>10} {self.wins - self.losses:>15}\""
      ]
    },
    {
      "cell_type": "markdown",
      "id": "ba0814c9-5d2e-4956-a7d9-891e5d0c72b0",
      "metadata": {
        "id": "ba0814c9-5d2e-4956-a7d9-891e5d0c72b0"
      },
      "source": [
        "### Calcula la matriz de wins - losses de las medias a partir de los scores de un problema"
      ]
    },
    {
      "cell_type": "code",
      "execution_count": null,
      "id": "15ac4469-2334-4dca-96e1-db907c758b04",
      "metadata": {
        "id": "15ac4469-2334-4dca-96e1-db907c758b04"
      },
      "outputs": [],
      "source": [
        "def CalculateWinsLossesMatrixMean(scores):\n",
        "    labels = scores.columns.values\n",
        "    nScores = len(labels)\n",
        "    WinLossMatriz = np.zeros((nScores,nScores))\n",
        "    for i in range(nScores-1):\n",
        "        score_i = scores.iloc[:,i].values\n",
        "        for j in range(i+1,nScores):\n",
        "            score_j = scores.iloc[:,j].values\n",
        "            if mejor(mean(score_i),mean(score_j)):\n",
        "                WinLossMatriz[i,j] = 1\n",
        "                WinLossMatriz[j,i] = -1\n",
        "            if peor(mean(score_i),mean(score_j)):\n",
        "                WinLossMatriz[i,j] = -1\n",
        "                WinLossMatriz[j,i] = 1\n",
        "    return WinLossMatriz"
      ]
    },
    {
      "cell_type": "markdown",
      "id": "69e5abc7-a836-4055-a988-c520f1e158b2",
      "metadata": {
        "id": "69e5abc7-a836-4055-a988-c520f1e158b2"
      },
      "source": [
        "### Calcula las veces que cada algoritmo ha ganado y ha perdido a partir de la matriz de wins - losses de un problema"
      ]
    },
    {
      "cell_type": "code",
      "execution_count": null,
      "id": "84b669eb-e84e-4da4-8476-c0a3529cceef",
      "metadata": {
        "id": "84b669eb-e84e-4da4-8476-c0a3529cceef"
      },
      "outputs": [],
      "source": [
        "def CalculateWinsLossesAmount(WinsLossesMatriz,labels):\n",
        "    nScores = len(labels)\n",
        "    WinsLossesAmount = [Ranking(scoreName) for scoreName in labels]\n",
        "    for i in range(nScores-1):\n",
        "        for j in range(i+1,nScores):\n",
        "            if WinsLossesMatriz[i,j]==1:\n",
        "                WinsLossesAmount[i].wins += 1\n",
        "                WinsLossesAmount[j].losses += 1\n",
        "            if WinsLossesMatriz[i,j]==-1:\n",
        "                WinsLossesAmount[j].wins += 1\n",
        "                WinsLossesAmount[i].losses += 1\n",
        "    return WinsLossesAmount"
      ]
    },
    {
      "cell_type": "markdown",
      "id": "b2eba57e-3197-4330-b507-aed23d622072",
      "metadata": {
        "id": "b2eba57e-3197-4330-b507-aed23d622072"
      },
      "source": [
        "### Acumula las cantidades de wins - losses de un problema"
      ]
    },
    {
      "cell_type": "code",
      "execution_count": null,
      "id": "17282443-aa5a-4d1b-bf56-14668cf76c0d",
      "metadata": {
        "id": "17282443-aa5a-4d1b-bf56-14668cf76c0d"
      },
      "outputs": [],
      "source": [
        "def AddWinsLossesAmount(WinsLossesTotalAmount,WinsLossesAmount):\n",
        "    for i in range(len(WinsLossesAmount)):\n",
        "        WinsLossesTotalAmount[i].wins += WinsLossesAmount[i].wins\n",
        "        WinsLossesTotalAmount[i].losses += WinsLossesAmount[i].losses"
      ]
    },
    {
      "cell_type": "markdown",
      "id": "a1c96a99-9ba1-48b9-bc2b-4b1ba58bb008",
      "metadata": {
        "id": "a1c96a99-9ba1-48b9-bc2b-4b1ba58bb008"
      },
      "source": [
        "### Calcula la matriz de wins - losses de las diferencias estadísticamente significativas para un test estadistico dado, junto con la matriz de p-values, a partir de los scores de un problema"
      ]
    },
    {
      "cell_type": "code",
      "execution_count": null,
      "id": "e9f6032e-7116-4930-a796-a4c0d56090fe",
      "metadata": {
        "id": "e9f6032e-7116-4930-a796-a4c0d56090fe"
      },
      "outputs": [],
      "source": [
        "def CalculateWinsLossesMatrixStat(scores,stat):\n",
        "    labels = scores.columns.values\n",
        "    nScores = len(labels)\n",
        "    WinLossMatriz = np.zeros((nScores,nScores))\n",
        "    pValues = np.zeros((nScores,nScores))\n",
        "    for i in range(nScores-1):\n",
        "        score_i = scores.iloc[:,i].values\n",
        "        for j in range(i+1,nScores):\n",
        "            score_j = scores.iloc[:,j].values\n",
        "            if not all(x_i == y_i for x_i, y_i in zip(score_i, score_j)): # si son datos diferentes\n",
        "                _, p_value = stat(score_i, score_j)\n",
        "                pValues[i,j] = p_value\n",
        "                pValues[j,i] = p_value\n",
        "                if p_value<0.05:\n",
        "                    if mejor(mean(score_i),mean(score_j)):\n",
        "                        WinLossMatriz[i,j] = 1\n",
        "                        WinLossMatriz[j,i] = -1\n",
        "                    if peor(mean(score_i),mean(score_j)):\n",
        "                        WinLossMatriz[i,j] = -1\n",
        "                        WinLossMatriz[j,i] = 1\n",
        "    return WinLossMatriz,pValues"
      ]
    },
    {
      "cell_type": "markdown",
      "id": "62ef5da3-3f52-4957-893c-b465b664c248",
      "metadata": {
        "id": "62ef5da3-3f52-4957-893c-b465b664c248"
      },
      "source": [
        "### Impresión de la matriz wins - losses"
      ]
    },
    {
      "cell_type": "markdown",
      "source": [
        "La siguiente funcion se ha creado para que, al imprimir la matriz de Wins and Losses, se interprete como que, si en una celda [i,j] hay \"win\", el algoritmo de la columna (j) gana al de la fila (i), a pesar de que las matrices se construyeron en los metodos anteriores con la lógica opuesta.\n",
        "\n",
        "Esto es porque, segun esta implementada la función, y con razón, es mas facil imprimir primero la cabecera de la tabla (nombres de los algoritmos), es decir, las columnas que va  a tener la tabla. Y luego, se van añadiendo las filas una por una."
      ],
      "metadata": {
        "id": "yUGPsKUoI2xl"
      },
      "id": "yUGPsKUoI2xl"
    },
    {
      "cell_type": "code",
      "execution_count": null,
      "id": "fc5c1ecf-8085-4cb1-9474-4301ba8e6947",
      "metadata": {
        "id": "fc5c1ecf-8085-4cb1-9474-4301ba8e6947"
      },
      "outputs": [],
      "source": [
        "def PrintMatriz(WinLossMatriz,labels):\n",
        "    print(\"win: El algoritmo en la columna gana al algoritmo de la fila\")\n",
        "    print(\"loss: El algoritmo en la columna pierde frente al algoritmo de la fila\")\n",
        "    print(\"tie: El algoritmo en la columna empata con al algoritmo de la fila\")\n",
        "    n = len(labels)\n",
        "    col_width = 10  # Ancho fijo para cada columna\n",
        "    # Imprimir encabezados de columna\n",
        "    print(\" \" * col_width, end=\"\")\n",
        "    for j in range(n):\n",
        "        print(f\"{labels[j]:>{col_width}}\", end=\"\")\n",
        "    print()\n",
        "    for i in range(n):\n",
        "        print(f\"{labels[i]:<{col_width}}\", end=\"\")\n",
        "        for j in range(n):\n",
        "            if i == j:\n",
        "                print(f\"{'-':>{col_width}}\", end=\"\")\n",
        "            elif WinLossMatriz[j,i] == 1:\n",
        "                print(f\"{'win':>{col_width}}\", end=\"\")\n",
        "            elif WinLossMatriz[j,i] == -1:\n",
        "                print(f\"{'loss':>{col_width}}\", end=\"\")\n",
        "            else:\n",
        "                print(f\"{'tie':>{col_width}}\", end=\"\")\n",
        "        print()"
      ]
    },
    {
      "cell_type": "markdown",
      "id": "87d6fb0b-4719-48ce-aa72-4323474113a2",
      "metadata": {
        "id": "87d6fb0b-4719-48ce-aa72-4323474113a2"
      },
      "source": [
        "### Impresión  del ranking wins - losses"
      ]
    },
    {
      "cell_type": "code",
      "execution_count": null,
      "id": "fee859d2-7fff-43f2-8d38-150af1830490",
      "metadata": {
        "id": "fee859d2-7fff-43f2-8d38-150af1830490"
      },
      "outputs": [],
      "source": [
        "def PrintRanking(WinLoss):\n",
        "    Ranking = sorted(WinLoss, reverse=True)\n",
        "    print(f\"{'Ranking':<15} {'Wins':>10} {'Losses':>10} {'Wins-Losses':>15}\")\n",
        "    for r in Ranking:\n",
        "        print(r)"
      ]
    },
    {
      "cell_type": "markdown",
      "id": "ad6aa218-a0ef-48cc-ade3-54588524cd14",
      "metadata": {
        "id": "ad6aa218-a0ef-48cc-ade3-54588524cd14"
      },
      "source": [
        "### Impresión de la matriz de p-values"
      ]
    },
    {
      "cell_type": "code",
      "execution_count": null,
      "id": "7d47de27-e9e8-4d61-a468-c80ae0e5987c",
      "metadata": {
        "id": "7d47de27-e9e8-4d61-a468-c80ae0e5987c"
      },
      "outputs": [],
      "source": [
        "def PrintPValuesMatriz(pValues, labels):\n",
        "    n = len(labels)\n",
        "    col_width = 15  # Ancho fijo para cada columna, ajusta según sea necesario\n",
        "    print(\"p-values\")\n",
        "    # Imprimir encabezados de columna\n",
        "    print(\" \" * col_width, end=\"\")\n",
        "    for j in range(n):\n",
        "        print(f\"{labels[j]:>{col_width}}\", end=\"\")\n",
        "    print()\n",
        "\n",
        "    # Imprimir filas con datos\n",
        "    for i in range(n):\n",
        "        print(f\"{labels[i]:<{col_width}}\", end=\"\")\n",
        "        for j in range(n):\n",
        "            if i == j:\n",
        "                print(f\"{'-':>{col_width}}\", end=\"\")\n",
        "            else:\n",
        "                print(f\"{pValues[i,j]:>{col_width}.8f}\", end=\"\")\n",
        "        print()"
      ]
    },
    {
      "cell_type": "markdown",
      "id": "daaa48a4-e102-468e-ba1a-8ba9190a15d0",
      "metadata": {
        "id": "daaa48a4-e102-468e-ba1a-8ba9190a15d0"
      },
      "source": [
        "### Realización de los test estadísticos e impresión de resultados"
      ]
    },
    {
      "cell_type": "code",
      "execution_count": null,
      "id": "624ddb47-b533-46ad-9dc4-6344aa98270b",
      "metadata": {
        "id": "624ddb47-b533-46ad-9dc4-6344aa98270b",
        "outputId": "dd6625e4-1ced-417e-895b-134e9378ddf3"
      },
      "outputs": [
        {
          "name": "stdout",
          "output_type": "stream",
          "text": [
            "file =  gens\n",
            "    AE1  AE2\n",
            "0  1000   66\n",
            "1   690   67\n",
            "2   908  327\n",
            "3   727   74\n",
            "4   630   72\n",
            "5  1000   86\n",
            "6   674   29\n",
            "7  1000  100\n",
            "8   950  297\n",
            "9   705   81\n",
            "\n",
            "\n",
            "Mean\n",
            "win: El algoritmo en la columna gana al algoritmo de la fila\n",
            "loss: El algoritmo en la columna pierde frente al algoritmo de la fila\n",
            "tie: El algoritmo en la columna empata con al algoritmo de la fila\n",
            "                 AE1       AE2\n",
            "AE1                -       win\n",
            "AE2             loss         -\n",
            "Ranking               Wins     Losses     Wins-Losses\n",
            "AE2                      1          0               1\n",
            "AE1                      0          1              -1\n",
            "\n",
            "\n",
            "Ranksum\n",
            "win: El algoritmo en la columna gana al algoritmo de la fila\n",
            "loss: El algoritmo en la columna pierde frente al algoritmo de la fila\n",
            "tie: El algoritmo en la columna empata con al algoritmo de la fila\n",
            "                 AE1       AE2\n",
            "AE1                -       win\n",
            "AE2             loss         -\n",
            "p-values\n",
            "                           AE1            AE2\n",
            "AE1                          -     0.00017861\n",
            "AE2                 0.00017861              -\n",
            "Ranking               Wins     Losses     Wins-Losses\n",
            "AE2                      1          0               1\n",
            "AE1                      0          1              -1\n",
            "\n",
            "\n",
            "Signed Rank\n",
            "win: El algoritmo en la columna gana al algoritmo de la fila\n",
            "loss: El algoritmo en la columna pierde frente al algoritmo de la fila\n",
            "tie: El algoritmo en la columna empata con al algoritmo de la fila\n",
            "                 AE1       AE2\n",
            "AE1                -       win\n",
            "AE2             loss         -\n",
            "p-values\n",
            "                           AE1            AE2\n",
            "AE1                          -     0.00195312\n",
            "AE2                 0.00195312              -\n",
            "Ranking               Wins     Losses     Wins-Losses\n",
            "AE2                      1          0               1\n",
            "AE1                      0          1              -1\n",
            "\n",
            "\n",
            "Total Mean\n",
            "Ranking               Wins     Losses     Wins-Losses\n",
            "AE2                      1          0               1\n",
            "AE1                      0          1              -1\n",
            "\n",
            "\n",
            "Total Ranksum\n",
            "Ranking               Wins     Losses     Wins-Losses\n",
            "AE2                      1          0               1\n",
            "AE1                      0          1              -1\n",
            "\n",
            "\n",
            "Total Signed Rank\n",
            "Ranking               Wins     Losses     Wins-Losses\n",
            "AE2                      1          0               1\n",
            "AE1                      0          1              -1\n",
            "\n",
            "\n"
          ]
        }
      ],
      "source": [
        "fileName = [\"gens\"] # todas deben tener las mismas cabeceras de algoritmos\n",
        "# En este ejemplo son sklearn.ensemble.RandomForestClassifier, sklearn.svm.SVC y sklearn.neural_network.MLPClassifier\n",
        "\n",
        "scores = pd.read_csv(fileName[0]+\".csv\") # Se coje el primero de ellos para crear los objetos de la clase Ranking\n",
        "labels = scores.columns.values # Nombres de los algoritmos\n",
        "WinsLossesTotalAmountMean = [Ranking(scoreName) for scoreName in labels]\n",
        "WinsLossesTotalAmountRanksum = [Ranking(scoreName) for scoreName in labels]\n",
        "WinsLossesTotalAmountSignedRank = [Ranking(scoreName) for scoreName in labels]\n",
        "\n",
        "for file in fileName:\n",
        "\n",
        "    scores = pd.read_csv(file+\".csv\")\n",
        "    print(\"file = \",file)\n",
        "    print(scores)\n",
        "    print('\\n')\n",
        "\n",
        "    # WINS-LOSSES DE MEDIAS\n",
        "    # Matriz de dos dimensiones con valores -1, 0, 1 para comparar los algoritmos en cada problema\n",
        "    WinsLossesMatrizMean = CalculateWinsLossesMatrixMean(scores)\n",
        "    # Lista con los objetos Ranking de cada algoritmo\n",
        "    WinsLossesAmountMean = CalculateWinsLossesAmount(WinsLossesMatrizMean,labels)\n",
        "    # Acumula los wins-loss de los algoritmos en todos los problemas\n",
        "    AddWinsLossesAmount(WinsLossesTotalAmountMean,WinsLossesAmountMean)\n",
        "    print(\"Mean\")\n",
        "    PrintMatriz(WinsLossesMatrizMean,labels)\n",
        "    PrintRanking(WinsLossesAmountMean)\n",
        "    print('\\n')\n",
        "\n",
        "    # WINS-LOSSES Y P-VALUES DE RANK-SUM\n",
        "    # Matriz de dos dimensiones con valores -1, 0, 1 para comparar los algoritmos en cada problema\n",
        "    # y matriz de dos dimensiones para los p-values\n",
        "    WinsLossesMatrizRanksum, pValuesRanksum = CalculateWinsLossesMatrixStat(scores,mannwhitneyu)\n",
        "    # Lista con los objetos Ranking de cada algoritmo\n",
        "    WinsLossesAmountRanksum = CalculateWinsLossesAmount(WinsLossesMatrizRanksum,labels)\n",
        "    # Acumula los wins-loss de los algoritmos en todos los problemas\n",
        "    AddWinsLossesAmount(WinsLossesTotalAmountRanksum,WinsLossesAmountRanksum)\n",
        "    print(\"Ranksum\")\n",
        "    PrintMatriz(WinsLossesMatrizRanksum,labels)\n",
        "    PrintPValuesMatriz(pValuesRanksum, labels)\n",
        "    PrintRanking(WinsLossesAmountRanksum)\n",
        "    print('\\n')\n",
        "\n",
        "    # WINS-LOSSES Y P-VALUES DE SIGNED-RANK\n",
        "    # Matriz de dos dimensiones con valores -1, 0, 1 para comparar los algoritmos en cada problema\n",
        "    # y matriz de dos dimensiones para los p-values\n",
        "    WinsLossesMatrizSignedRank, pValuesSignedRank = CalculateWinsLossesMatrixStat(scores,wilcoxon)\n",
        "    # Lista con los objetos Ranking de cada algoritmo\n",
        "    WinsLossesAmountSignedRank = CalculateWinsLossesAmount(WinsLossesMatrizRanksum,labels)\n",
        "    # Acumula los wins-loss de los algoritmos en todos los problemas\n",
        "    AddWinsLossesAmount(WinsLossesTotalAmountSignedRank,WinsLossesAmountSignedRank)\n",
        "    print(\"Signed Rank\")\n",
        "    PrintMatriz(WinsLossesMatrizSignedRank,labels)\n",
        "    PrintPValuesMatriz(pValuesSignedRank, labels)\n",
        "    PrintRanking(WinsLossesAmountSignedRank)\n",
        "    print('\\n')\n",
        "\n",
        "\n",
        "print(\"Total Mean\")\n",
        "PrintRanking(WinsLossesTotalAmountMean)\n",
        "print('\\n')\n",
        "\n",
        "print(\"Total Ranksum\")\n",
        "PrintRanking(WinsLossesTotalAmountRanksum)\n",
        "print('\\n')\n",
        "\n",
        "print(\"Total Signed Rank\")\n",
        "PrintRanking(WinsLossesTotalAmountSignedRank)\n",
        "print('\\n')\n"
      ]
    },
    {
      "cell_type": "markdown",
      "id": "8b561d02",
      "metadata": {
        "id": "8b561d02"
      },
      "source": [
        "Los warning se deben a que los p-values son extremedamente pequeños. El cambio a una aproximación normal ocurre porque, en pruebas exactas, como la prueba de Wilcoxon o la de rangos con signo, el cálculo del valor p se basa en la distribución exacta de los datos. Este tipo de pruebas asume ciertas condiciones en la distribución de los datos para que el cálculo sea preciso. Sin embargo, cuando los valores p resultan extremadamente pequeños, puede indicar que las diferencias entre grupos son demasiado grandes, lo que altera la precisión y estabilidad del cálculo exacto.\n",
        "\n",
        "Al tener valores p tan bajos, el test puede asumir que el cálculo exacto no es viable o que sus resultados podrían ser inestables, por lo que automáticamente opta por una aproximación normal. Esta aproximación permite estimar el valor p basándose en una distribución normal, que es robusta y adecuada para conjuntos de datos grandes o con diferencias pronunciadas, y simplifica los cálculos en esos casos extremos.\n",
        "\n",
        "Este cambio, entonces, asegura estabilidad y eficiencia en los resultados cuando las diferencias observadas son significativas y el valor p exacto cae en el rango de números extremadamente pequeños."
      ]
    }
  ],
  "metadata": {
    "kernelspec": {
      "display_name": "Python 3 (ipykernel)",
      "language": "python",
      "name": "python3"
    },
    "language_info": {
      "codemirror_mode": {
        "name": "ipython",
        "version": 3
      },
      "file_extension": ".py",
      "mimetype": "text/x-python",
      "name": "python",
      "nbconvert_exporter": "python",
      "pygments_lexer": "ipython3",
      "version": "3.9.13"
    },
    "vscode": {
      "interpreter": {
        "hash": "455e7757a0ebd502ee644f6352e1cb927ffca889a6f07fcbaecc25228276d414"
      }
    },
    "colab": {
      "provenance": []
    }
  },
  "nbformat": 4,
  "nbformat_minor": 5
}