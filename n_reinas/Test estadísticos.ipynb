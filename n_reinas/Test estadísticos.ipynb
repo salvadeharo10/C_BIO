{
 "cells": [
  {
   "cell_type": "markdown",
   "id": "c246215f",
   "metadata": {},
   "source": [
    "# Test estadísticos\n",
    "\n",
    "### Descripción\n",
    "\n",
    "<font size=\"4\"> Comparación de algoritmos para minimización/maximización utilizando test estadísticos.\n",
    "    \n",
    "### Componentes\n",
    "    \n",
    "- <font size=\"3\"> Se requiere un fichero csv separado para cada problema. En cada fichero csv, las columnas representan los algoritmos a comparar y las filas son las muestras de los resultados. Las cabeceras de todos los ficheros csv deben ser las mismas.\n",
    "    \n",
    "- <font size=\"3\"> Se calculan ranking wins - loss para los siguientes test estadísticos:\n",
    "\n",
    "    - <font size=\"3\"> Mann-Whitney U test (Wilconxon rank-sum test), apropiado para la comparación  de algoritmos probabilistas ejecutados múltiples veces con distintas semillas (muestras independientes).\n",
    "\n",
    "    - <font size=\"3\"> Wilcoxon signed-rank test, apropiado para la comparación de algoritmos de aprendizaje evaluados en $k$-fold cross-validation, $n$ repeticiones (muestras pareadas).\n",
    "\n",
    "- <font size=\"3\"> Se calcula también el ranking wins - loss de los resultados medios. \n",
    "    \n",
    "---"
   ]
  },
  {
   "cell_type": "markdown",
   "id": "9d6a5f27-570f-428d-9e8f-d78cc4870153",
   "metadata": {},
   "source": [
    "### Requerimientos"
   ]
  },
  {
   "cell_type": "code",
   "execution_count": 1,
   "id": "d3b1b164",
   "metadata": {},
   "outputs": [],
   "source": [
    "import numpy as np\n",
    "import pandas as pd\n",
    "import csv\n",
    "from scipy.stats import wilcoxon \n",
    "from scipy.stats import mannwhitneyu\n",
    "from statistics import mean"
   ]
  },
  {
   "cell_type": "markdown",
   "id": "a1c7917e",
   "metadata": {},
   "source": [
    "### Definición del tipo de test (maximización o minimización)"
   ]
  },
  {
   "cell_type": "code",
   "execution_count": 2,
   "id": "c3cd29c2",
   "metadata": {},
   "outputs": [],
   "source": [
    "def mejor(x,y):\n",
    "    #return x>y # maximización\n",
    "    return x<y # minimización\n",
    "\n",
    "def peor(x,y):\n",
    "    #return x<y # maximización\n",
    "    return x>y # minimización"
   ]
  },
  {
   "cell_type": "markdown",
   "id": "66cdf152",
   "metadata": {},
   "source": [
    "### Definición de la clase Ranking"
   ]
  },
  {
   "cell_type": "code",
   "execution_count": 3,
   "id": "8c460fd0",
   "metadata": {},
   "outputs": [],
   "source": [
    "class Ranking:\n",
    "    def __init__(self, name):\n",
    "        self.name = name # Nombre del algoritmo\n",
    "        self.wins = 0 # Veces que ha ganado\n",
    "        self.losses = 0 # Veces que ha perdido\n",
    "    def __lt__(self,x):\n",
    "        return (self.wins-self.losses) < (x.wins-x.losses)\n",
    "    def __str__(self):\n",
    "        return f\"{self.name:<15} {self.wins:>10} {self.losses:>10} {self.wins - self.losses:>15}\""
   ]
  },
  {
   "cell_type": "markdown",
   "id": "ba0814c9-5d2e-4956-a7d9-891e5d0c72b0",
   "metadata": {},
   "source": [
    "### Calcula la matriz de wins - losses de las medias a partir de los scores de un problema"
   ]
  },
  {
   "cell_type": "code",
   "execution_count": 4,
   "id": "15ac4469-2334-4dca-96e1-db907c758b04",
   "metadata": {},
   "outputs": [],
   "source": [
    "def CalculateWinsLossesMatrixMean(scores):\n",
    "    labels = scores.columns.values\n",
    "    nScores = len(labels)\n",
    "    WinLossMatriz = np.zeros((nScores,nScores)) \n",
    "    for i in range(nScores-1):            \n",
    "        score_i = scores.iloc[:,i].values\n",
    "        for j in range(i+1,nScores):\n",
    "            score_j = scores.iloc[:,j].values\n",
    "            if mejor(mean(score_i),mean(score_j)):\n",
    "                WinLossMatriz[i,j] = 1\n",
    "                WinLossMatriz[j,i] = -1\n",
    "            if peor(mean(score_i),mean(score_j)):\n",
    "                WinLossMatriz[i,j] = -1\n",
    "                WinLossMatriz[j,i] = 1\n",
    "    return WinLossMatriz"
   ]
  },
  {
   "cell_type": "markdown",
   "id": "69e5abc7-a836-4055-a988-c520f1e158b2",
   "metadata": {},
   "source": [
    "### Calcula las veces que cada algoritmo ha ganado y ha perdido a partir de la matriz de wins - losses de un problema"
   ]
  },
  {
   "cell_type": "code",
   "execution_count": 5,
   "id": "84b669eb-e84e-4da4-8476-c0a3529cceef",
   "metadata": {},
   "outputs": [],
   "source": [
    "def CalculateWinsLossesAmount(WinsLossesMatriz,labels):\n",
    "    nScores = len(labels)\n",
    "    WinsLossesAmount = [Ranking(scoreName) for scoreName in labels]\n",
    "    for i in range(nScores-1):            \n",
    "        for j in range(i+1,nScores):\n",
    "            if WinsLossesMatriz[i,j]==1:            \n",
    "                WinsLossesAmount[i].wins += 1\n",
    "                WinsLossesAmount[j].losses += 1\n",
    "            if WinsLossesMatriz[i,j]==-1:            \n",
    "                WinsLossesAmount[j].wins += 1\n",
    "                WinsLossesAmount[i].losses += 1\n",
    "    return WinsLossesAmount"
   ]
  },
  {
   "cell_type": "markdown",
   "id": "b2eba57e-3197-4330-b507-aed23d622072",
   "metadata": {},
   "source": [
    "### Acumula las cantidades de wins - losses de un problema"
   ]
  },
  {
   "cell_type": "code",
   "execution_count": 6,
   "id": "17282443-aa5a-4d1b-bf56-14668cf76c0d",
   "metadata": {},
   "outputs": [],
   "source": [
    "def AddWinsLossesAmount(WinsLossesTotalAmount,WinsLossesAmount):\n",
    "    for i in range(len(WinsLossesAmount)):\n",
    "        WinsLossesTotalAmount[i].wins += WinsLossesAmount[i].wins\n",
    "        WinsLossesTotalAmount[i].losses += WinsLossesAmount[i].losses"
   ]
  },
  {
   "cell_type": "markdown",
   "id": "a1c96a99-9ba1-48b9-bc2b-4b1ba58bb008",
   "metadata": {},
   "source": [
    "### Calcula la matriz de wins - losses de las diferencias estadísticamente significativas para un test estadistico dado, junto con la matriz de p-values, a partir de los scores de un problema"
   ]
  },
  {
   "cell_type": "code",
   "execution_count": 7,
   "id": "e9f6032e-7116-4930-a796-a4c0d56090fe",
   "metadata": {},
   "outputs": [],
   "source": [
    "def CalculateWinsLossesMatrixStat(scores,stat):\n",
    "    labels = scores.columns.values\n",
    "    nScores = len(labels)\n",
    "    WinLossMatriz = np.zeros((nScores,nScores)) \n",
    "    pValues = np.zeros((nScores,nScores)) \n",
    "    for i in range(nScores-1):            \n",
    "        score_i = scores.iloc[:,i].values\n",
    "        for j in range(i+1,nScores):\n",
    "            score_j = scores.iloc[:,j].values\n",
    "            if not all(x_i == y_i for x_i, y_i in zip(score_i, score_j)): # si son datos diferentes\n",
    "                _, p_value = stat(score_i, score_j)  \n",
    "                pValues[i,j] = p_value\n",
    "                pValues[j,i] = p_value                \n",
    "                if p_value<0.05:\n",
    "                    if mejor(mean(score_i),mean(score_j)):\n",
    "                        WinLossMatriz[i,j] = 1\n",
    "                        WinLossMatriz[j,i] = -1                        \n",
    "                    if peor(mean(score_i),mean(score_j)):\n",
    "                        WinLossMatriz[i,j] = -1\n",
    "                        WinLossMatriz[j,i] = 1                        \n",
    "    return WinLossMatriz,pValues"
   ]
  },
  {
   "cell_type": "markdown",
   "id": "62ef5da3-3f52-4957-893c-b465b664c248",
   "metadata": {},
   "source": [
    "### Impresión de la matriz wins - losses"
   ]
  },
  {
   "cell_type": "code",
   "execution_count": 8,
   "id": "fc5c1ecf-8085-4cb1-9474-4301ba8e6947",
   "metadata": {},
   "outputs": [],
   "source": [
    "def PrintMatriz(WinLossMatriz,labels):\n",
    "    print(\"win: El algoritmo en la columna gana al algoritmo de la fila\")\n",
    "    print(\"loss: El algoritmo en la columna pierde frente al algoritmo de la fila\")\n",
    "    print(\"tie: El algoritmo en la columna empata con al algoritmo de la fila\")\n",
    "    n = len(labels)\n",
    "    col_width = 10  # Ancho fijo para cada columna\n",
    "    # Imprimir encabezados de columna\n",
    "    print(\" \" * col_width, end=\"\")\n",
    "    for j in range(n):\n",
    "        print(f\"{labels[j]:>{col_width}}\", end=\"\")\n",
    "    print()\n",
    "    for i in range(n):\n",
    "        print(f\"{labels[i]:<{col_width}}\", end=\"\")\n",
    "        for j in range(n):\n",
    "            if i == j:\n",
    "                print(f\"{'-':>{col_width}}\", end=\"\")\n",
    "            elif WinLossMatriz[j,i] == 1:\n",
    "                print(f\"{'win':>{col_width}}\", end=\"\")\n",
    "            elif WinLossMatriz[j,i] == -1:\n",
    "                print(f\"{'loss':>{col_width}}\", end=\"\")\n",
    "            else:\n",
    "                print(f\"{'tie':>{col_width}}\", end=\"\")\n",
    "        print()"
   ]
  },
  {
   "cell_type": "markdown",
   "id": "87d6fb0b-4719-48ce-aa72-4323474113a2",
   "metadata": {},
   "source": [
    "### Impresión  del ranking wins - losses"
   ]
  },
  {
   "cell_type": "code",
   "execution_count": 9,
   "id": "fee859d2-7fff-43f2-8d38-150af1830490",
   "metadata": {},
   "outputs": [],
   "source": [
    "def PrintRanking(WinLoss):\n",
    "    Ranking = sorted(WinLoss, reverse=True)    \n",
    "    print(f\"{'Ranking':<15} {'Wins':>10} {'Losses':>10} {'Wins-Losses':>15}\")\n",
    "    for r in Ranking:\n",
    "        print(r)"
   ]
  },
  {
   "cell_type": "markdown",
   "id": "ad6aa218-a0ef-48cc-ade3-54588524cd14",
   "metadata": {},
   "source": [
    "### Impresión de la matriz de p-values"
   ]
  },
  {
   "cell_type": "code",
   "execution_count": 10,
   "id": "7d47de27-e9e8-4d61-a468-c80ae0e5987c",
   "metadata": {},
   "outputs": [],
   "source": [
    "def PrintPValuesMatriz(pValues, labels):\n",
    "    n = len(labels)\n",
    "    col_width = 15  # Ancho fijo para cada columna, ajusta según sea necesario\n",
    "    print(\"p-values\")\n",
    "    # Imprimir encabezados de columna\n",
    "    print(\" \" * col_width, end=\"\")\n",
    "    for j in range(n):\n",
    "        print(f\"{labels[j]:>{col_width}}\", end=\"\")\n",
    "    print()\n",
    "\n",
    "    # Imprimir filas con datos\n",
    "    for i in range(n):\n",
    "        print(f\"{labels[i]:<{col_width}}\", end=\"\")\n",
    "        for j in range(n):\n",
    "            if i == j:\n",
    "                print(f\"{'-':>{col_width}}\", end=\"\")\n",
    "            else:\n",
    "                print(f\"{pValues[i,j]:>{col_width}.8f}\", end=\"\")\n",
    "        print()"
   ]
  },
  {
   "cell_type": "markdown",
   "id": "daaa48a4-e102-468e-ba1a-8ba9190a15d0",
   "metadata": {},
   "source": [
    "### Realización de los test estadísticos e impresión de resultados"
   ]
  },
  {
   "cell_type": "code",
   "execution_count": 12,
   "id": "624ddb47-b533-46ad-9dc4-6344aa98270b",
   "metadata": {},
   "outputs": [
    {
     "name": "stdout",
     "output_type": "stream",
     "text": [
      "file =  gens\n",
      "    AE1  AE2\n",
      "0  1000   66\n",
      "1   690   67\n",
      "2   908  327\n",
      "3   727   74\n",
      "4   630   72\n",
      "5  1000   86\n",
      "6   674   29\n",
      "7  1000  100\n",
      "8   950  297\n",
      "9   705   81\n",
      "\n",
      "\n",
      "Mean\n",
      "win: El algoritmo en la columna gana al algoritmo de la fila\n",
      "loss: El algoritmo en la columna pierde frente al algoritmo de la fila\n",
      "tie: El algoritmo en la columna empata con al algoritmo de la fila\n",
      "                 AE1       AE2\n",
      "AE1                -       win\n",
      "AE2             loss         -\n",
      "Ranking               Wins     Losses     Wins-Losses\n",
      "AE2                      1          0               1\n",
      "AE1                      0          1              -1\n",
      "\n",
      "\n",
      "Ranksum\n",
      "win: El algoritmo en la columna gana al algoritmo de la fila\n",
      "loss: El algoritmo en la columna pierde frente al algoritmo de la fila\n",
      "tie: El algoritmo en la columna empata con al algoritmo de la fila\n",
      "                 AE1       AE2\n",
      "AE1                -       win\n",
      "AE2             loss         -\n",
      "p-values\n",
      "                           AE1            AE2\n",
      "AE1                          -     0.00017861\n",
      "AE2                 0.00017861              -\n",
      "Ranking               Wins     Losses     Wins-Losses\n",
      "AE2                      1          0               1\n",
      "AE1                      0          1              -1\n",
      "\n",
      "\n",
      "Signed Rank\n",
      "win: El algoritmo en la columna gana al algoritmo de la fila\n",
      "loss: El algoritmo en la columna pierde frente al algoritmo de la fila\n",
      "tie: El algoritmo en la columna empata con al algoritmo de la fila\n",
      "                 AE1       AE2\n",
      "AE1                -       win\n",
      "AE2             loss         -\n",
      "p-values\n",
      "                           AE1            AE2\n",
      "AE1                          -     0.00195312\n",
      "AE2                 0.00195312              -\n",
      "Ranking               Wins     Losses     Wins-Losses\n",
      "AE2                      1          0               1\n",
      "AE1                      0          1              -1\n",
      "\n",
      "\n",
      "Total Mean\n",
      "Ranking               Wins     Losses     Wins-Losses\n",
      "AE2                      1          0               1\n",
      "AE1                      0          1              -1\n",
      "\n",
      "\n",
      "Total Ranksum\n",
      "Ranking               Wins     Losses     Wins-Losses\n",
      "AE2                      1          0               1\n",
      "AE1                      0          1              -1\n",
      "\n",
      "\n",
      "Total Signed Rank\n",
      "Ranking               Wins     Losses     Wins-Losses\n",
      "AE2                      1          0               1\n",
      "AE1                      0          1              -1\n",
      "\n",
      "\n"
     ]
    }
   ],
   "source": [
    "fileName = [\"gens\"] # todas deben tener las mismas cabeceras de algoritmos\n",
    "# En este ejemplo son sklearn.ensemble.RandomForestClassifier, sklearn.svm.SVC y sklearn.neural_network.MLPClassifier \n",
    "\n",
    "scores = pd.read_csv(fileName[0]+\".csv\") # Se coje el primero de ellos para crear los objetos de la clase Ranking\n",
    "labels = scores.columns.values # Nombres de los algoritmos\n",
    "WinsLossesTotalAmountMean = [Ranking(scoreName) for scoreName in labels]\n",
    "WinsLossesTotalAmountRanksum = [Ranking(scoreName) for scoreName in labels]\n",
    "WinsLossesTotalAmountSignedRank = [Ranking(scoreName) for scoreName in labels]\n",
    "\n",
    "for file in fileName:\n",
    "\n",
    "    scores = pd.read_csv(file+\".csv\")\n",
    "    print(\"file = \",file)\n",
    "    print(scores)\n",
    "    print('\\n')\n",
    "    \n",
    "    # WINS-LOSSES DE MEDIAS\n",
    "    # Matriz de dos dimensiones con valores -1, 0, 1 para comparar los algoritmos en cada problema\n",
    "    WinsLossesMatrizMean = CalculateWinsLossesMatrixMean(scores) \n",
    "    # Lista con los objetos Ranking de cada algoritmo \n",
    "    WinsLossesAmountMean = CalculateWinsLossesAmount(WinsLossesMatrizMean,labels)\n",
    "    # Acumula los wins-loss de los algoritmos en todos los problemas\n",
    "    AddWinsLossesAmount(WinsLossesTotalAmountMean,WinsLossesAmountMean)\n",
    "    print(\"Mean\")\n",
    "    PrintMatriz(WinsLossesMatrizMean,labels)\n",
    "    PrintRanking(WinsLossesAmountMean)\n",
    "    print('\\n')\n",
    "  \n",
    "    # WINS-LOSSES Y P-VALUES DE RANK-SUM\n",
    "    # Matriz de dos dimensiones con valores -1, 0, 1 para comparar los algoritmos en cada problema\n",
    "    # y matriz de dos dimensiones para los p-values\n",
    "    WinsLossesMatrizRanksum, pValuesRanksum = CalculateWinsLossesMatrixStat(scores,mannwhitneyu)\n",
    "    # Lista con los objetos Ranking de cada algoritmo \n",
    "    WinsLossesAmountRanksum = CalculateWinsLossesAmount(WinsLossesMatrizRanksum,labels)\n",
    "    # Acumula los wins-loss de los algoritmos en todos los problemas\n",
    "    AddWinsLossesAmount(WinsLossesTotalAmountRanksum,WinsLossesAmountRanksum)\n",
    "    print(\"Ranksum\")    \n",
    "    PrintMatriz(WinsLossesMatrizRanksum,labels)\n",
    "    PrintPValuesMatriz(pValuesRanksum, labels)    \n",
    "    PrintRanking(WinsLossesAmountRanksum)\n",
    "    print('\\n')\n",
    "    \n",
    "    # WINS-LOSSES Y P-VALUES DE SIGNED-RANK\n",
    "    # Matriz de dos dimensiones con valores -1, 0, 1 para comparar los algoritmos en cada problema\n",
    "    # y matriz de dos dimensiones para los p-values\n",
    "    WinsLossesMatrizSignedRank, pValuesSignedRank = CalculateWinsLossesMatrixStat(scores,wilcoxon)\n",
    "    # Lista con los objetos Ranking de cada algoritmo \n",
    "    WinsLossesAmountSignedRank = CalculateWinsLossesAmount(WinsLossesMatrizRanksum,labels)\n",
    "    # Acumula los wins-loss de los algoritmos en todos los problemas\n",
    "    AddWinsLossesAmount(WinsLossesTotalAmountSignedRank,WinsLossesAmountSignedRank)\n",
    "    print(\"Signed Rank\")    \n",
    "    PrintMatriz(WinsLossesMatrizSignedRank,labels)\n",
    "    PrintPValuesMatriz(pValuesSignedRank, labels)    \n",
    "    PrintRanking(WinsLossesAmountSignedRank)\n",
    "    print('\\n')\n",
    "   \n",
    "        \n",
    "print(\"Total Mean\")\n",
    "PrintRanking(WinsLossesTotalAmountMean)\n",
    "print('\\n')\n",
    "\n",
    "print(\"Total Ranksum\")\n",
    "PrintRanking(WinsLossesTotalAmountRanksum)\n",
    "print('\\n')\n",
    "\n",
    "print(\"Total Signed Rank\")\n",
    "PrintRanking(WinsLossesTotalAmountSignedRank)\n",
    "print('\\n')\n"
   ]
  },
  {
   "cell_type": "markdown",
   "id": "8b561d02",
   "metadata": {},
   "source": [
    "Los warning se deben a que los p-values son extremedamente pequeños. El cambio a una aproximación normal ocurre porque, en pruebas exactas, como la prueba de Wilcoxon o la de rangos con signo, el cálculo del valor p se basa en la distribución exacta de los datos. Este tipo de pruebas asume ciertas condiciones en la distribución de los datos para que el cálculo sea preciso. Sin embargo, cuando los valores p resultan extremadamente pequeños, puede indicar que las diferencias entre grupos son demasiado grandes, lo que altera la precisión y estabilidad del cálculo exacto.\n",
    "\n",
    "Al tener valores p tan bajos, el test puede asumir que el cálculo exacto no es viable o que sus resultados podrían ser inestables, por lo que automáticamente opta por una aproximación normal. Esta aproximación permite estimar el valor p basándose en una distribución normal, que es robusta y adecuada para conjuntos de datos grandes o con diferencias pronunciadas, y simplifica los cálculos en esos casos extremos.\n",
    "\n",
    "Este cambio, entonces, asegura estabilidad y eficiencia en los resultados cuando las diferencias observadas son significativas y el valor p exacto cae en el rango de números extremadamente pequeños."
   ]
  }
 ],
 "metadata": {
  "kernelspec": {
   "display_name": "Python 3 (ipykernel)",
   "language": "python",
   "name": "python3"
  },
  "language_info": {
   "codemirror_mode": {
    "name": "ipython",
    "version": 3
   },
   "file_extension": ".py",
   "mimetype": "text/x-python",
   "name": "python",
   "nbconvert_exporter": "python",
   "pygments_lexer": "ipython3",
   "version": "3.9.13"
  },
  "vscode": {
   "interpreter": {
    "hash": "455e7757a0ebd502ee644f6352e1cb927ffca889a6f07fcbaecc25228276d414"
   }
  }
 },
 "nbformat": 4,
 "nbformat_minor": 5
}
