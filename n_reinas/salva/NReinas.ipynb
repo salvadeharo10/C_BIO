{
 "cells": [
  {
   "cell_type": "markdown",
   "metadata": {},
   "source": [
    "**Asignatura**: Computación Bio-inspirada, 2024/2025\n",
    "\n",
    "**Alumnos**:<br>\n",
    "- Salvador de Haro Orenes (salvadorde.haroo@um.es)\n",
    "- Jose María Belmonte Martínez (josemaria.belmontem@um.es)\n",
    "\n",
    "**Máster de Inteligencia Artificial**\n",
    "\n",
    "**Facultad de Informática**\n",
    "\n",
    "![](https://www.um.es/image/layout_set_logo?img_id=175281&t=1726728636242)\n",
    "\n",
    "**Universidad de Murcia**\n",
    "\n",
    "![](https://www.um.es/o/um-lr-principal-um-home-theme/images/logo-um.png)"
   ]
  },
  {
   "cell_type": "markdown",
   "metadata": {},
   "source": [
    "# N-REINAS\n",
    "\n",
    "En este notebook abordaremos la resolución del problema de las N-reinas mediante algoritmos evolutivos. Para ello, usaremos una representación basada en permutaciones para los individuos de la población, es decir, cada individuo (configuración posible del tablero) quedará representado mediante un vector $$individuo_i = (c_{i1}, c_{i2}, \\dots, c_{iN})$$ donde cada posición indica en qué columna se encuentra la reina de la fila correspondiente.\n",
    "\n",
    "En particular, utilizaremos dos algoritmos evolutivos, `AE1` y `AE2`, con las siguientes propiedades:\n",
    "- `AE1`: Esquema de selección proporcional, muestreo estocástico con reemplazamiento, operador de cruce PMX y mutación swap.\n",
    "- `AE2`: Esquema de selección por ranking exponencial, muestreo estocástico con reemplazamiento, operador de cruce PMX y mutación swap.\n",
    "\n",
    "Con el fin de obtener una configuración óptima para las probabilidades de cruce y mutación ($p_c$ y $p_m$) se realizará una búsqueda en un grid de hiperparámetros.\n",
    "\n",
    "Una vez ajustados los valores de las probabilidades, ejecutaremos cada algoritmo evolutivo 10 veces para obtener diferentes métricas promedio de interés, con el fin de poder comparar a los algoritmos mediante test estadísticos."
   ]
  },
  {
   "cell_type": "markdown",
   "metadata": {},
   "source": [
    "## Importación de librerías necesarias"
   ]
  },
  {
   "cell_type": "code",
   "execution_count": 35,
   "metadata": {},
   "outputs": [],
   "source": [
    "import numpy as np\n",
    "from tqdm import tqdm\n",
    "import matplotlib.pyplot as plt\n",
    "from itertools import product\n",
    "import time\n",
    "import os\n",
    "import pandas as pd"
   ]
  },
  {
   "cell_type": "markdown",
   "metadata": {},
   "source": [
    "## Parámetros globables"
   ]
  },
  {
   "cell_type": "code",
   "execution_count": 36,
   "metadata": {},
   "outputs": [],
   "source": [
    "G = 1000\n",
    "N = 100\n",
    "queens = 64\n",
    "ranks_type = ['roulette', 'exponential']\n",
    "c = 0.3 #para seleccion de ranking exponencial; estudiar la posibilidad de ajustar este valor en grid."
   ]
  },
  {
   "cell_type": "markdown",
   "metadata": {},
   "source": [
    "## Definición de individuo"
   ]
  },
  {
   "cell_type": "code",
   "execution_count": 37,
   "metadata": {},
   "outputs": [],
   "source": [
    "class Individuo:\n",
    "    def __init__(self,n):\n",
    "        self.x = np.zeros(n, dtype='int') ## n, dtype='int'\n",
    "        self.f = 0.0\n",
    "    def __lt__(self, ind):\n",
    "        return self.f < ind.f"
   ]
  },
  {
   "cell_type": "markdown",
   "metadata": {},
   "source": [
    "## Inicialización de la población"
   ]
  },
  {
   "cell_type": "code",
   "execution_count": 38,
   "metadata": {},
   "outputs": [],
   "source": [
    "def InitializePopulation(P):\n",
    "    n = P[0].x.size\n",
    "    for I in P:\n",
    "        I.x[:] = np.random.permutation(n)"
   ]
  },
  {
   "cell_type": "markdown",
   "metadata": {},
   "source": [
    "## Función fitness y método de evaluación de individuos"
   ]
  },
  {
   "cell_type": "code",
   "execution_count": 39,
   "metadata": {},
   "outputs": [],
   "source": [
    "def f(x):\n",
    "    \"\"\"Calcula el número de jaques en diagonal entre reinas dado un array de posiciones.\"\"\"\n",
    "    n = len(x)\n",
    "    conflicts = 0\n",
    "\n",
    "    # Revisar conflictos en diagonales\n",
    "    for i in range(n):\n",
    "        for j in range(i + 1, n):\n",
    "            if abs(i - j) == abs(x[i] - x[j]):  # Mismo valor absoluto en la diferencia (diagonal)\n",
    "                conflicts += 1\n",
    "\n",
    "    return conflicts  # Se devuelve el número de conflictos (positivo)\n",
    "\n",
    "def evaluate(I, f):           \n",
    "    \"\"\"Evalúa el fitness de un individuo y lo guarda en I.f\"\"\"\n",
    "    I.f = f(I.x)  # Se pasa I.x como array a la función fitness"
   ]
  },
  {
   "cell_type": "markdown",
   "metadata": {},
   "source": [
    "## Copia de individuo"
   ]
  },
  {
   "cell_type": "code",
   "execution_count": 40,
   "metadata": {},
   "outputs": [],
   "source": [
    "def copia(I1, I2):\n",
    "    np.copyto(I1.x, I2.x)\n",
    "    I1.f = I2.f   "
   ]
  },
  {
   "cell_type": "markdown",
   "metadata": {},
   "source": [
    "## Cálculo de probalidades acumuladas\n",
    "\n",
    "Como los algoritmos evolutivos involucrados utilizan distinto esquema de selección, necesitaremos un método para cada algoritmo."
   ]
  },
  {
   "cell_type": "markdown",
   "metadata": {},
   "source": [
    "### Cálculo de probabilidades acumuladas en `AE1`\n",
    "\n",
    "Este algoritmo utiliza un esquema de selección proporcional, lo cual favorece la maximización de la función objetivo al asignar mayor probabilidad a los individuos con mayor fitness, que en nuestro caso un fitness alto significa un alto número de amenazas en diagonal. Como queremos lo contrario, es decir, hacer que la función objetivo vaya disminuyendo hasta poder alcanzar un valor óptimo de 0, tendremos que transformar de manera lineal la función fitness, de modo que los individuos con fitness más bajo (los mejores) reciban mayor probabilidad de selección mediante el esquema proporcional. La transformación que proponemos es la siguiente:\n",
    "$$ f'({\\bf x})= C- f({\\bf x}) $$\n",
    "\n",
    "donde $C$ es un valor ligeramente superior al máximo valor de $f({\\bf x})$ en la población actual:\n",
    "\n",
    "$$ C=max_{{\\bf x}\\in P}\\{f({\\bf x})\\}+\\epsilon$$\n",
    "\n",
    "De este modo, al maximizar $f'({\\bf x})$ estaremos maximizando $f({\\bf x})$."
   ]
  },
  {
   "cell_type": "code",
   "execution_count": 41,
   "metadata": {},
   "outputs": [],
   "source": [
    "def calculate_cumulative_probabilities_AE1(cumulative_probabilities, P, N):\n",
    "    \"\"\"\n",
    "    Calcula las probabilidades acumuladas para la selección proporcional en un algoritmo genético.\n",
    "\n",
    "    Parámetros:\n",
    "    - cumulative_probabilities: Lista donde se almacenarán las probabilidades acumuladas.\n",
    "    - P: Lista de individuos de la población actual.\n",
    "    - N: Número total de individuos en la población.\n",
    "\n",
    "    Funcionamiento:\n",
    "    - Se usa una transformación lineal en la función de aptitud (fitness) para convertir el problema de minimización en uno de maximización.\n",
    "    - Se calcula la suma total del fitness transformado.\n",
    "    - Se asignan las probabilidades acumuladas a cada individuo en función de su fitness relativo.\n",
    "    \"\"\"\n",
    "\n",
    "    C = max(P).f + 1e-6  # Se elige C como el mayor valor de fitness en la población más un pequeño epsilon (1e-6).\n",
    "\n",
    "    # Se calcula la suma del fitness transformado (C - f) ya que el algoritmo es de minimización.\n",
    "    sum_fitness = sum(C - I.f for I in P)\n",
    "\n",
    "    # Se calcula la primera probabilidad acumulada\n",
    "    cumulative_probabilities[0] = (C - P[0].f) / sum_fitness\n",
    "\n",
    "    # Se calcula la probabilidad acumulada para cada individuo en la población\n",
    "    for i in range(1, N):\n",
    "        cumulative_probabilities[i] = cumulative_probabilities[i - 1] + (C - P[i].f) / sum_fitness"
   ]
  },
  {
   "cell_type": "markdown",
   "metadata": {},
   "source": [
    "### Cálculo de probabilidades acumuladas en `AE2`\n",
    "\n",
    "En la siguiente función implementamos el cáluclo de las probabilidades acumulativas teniendo en cuenta que el algoritmo `AE2` utiliza selección por ranking exponencial."
   ]
  },
  {
   "cell_type": "code",
   "execution_count": 42,
   "metadata": {},
   "outputs": [],
   "source": [
    "def calculate_cumulative_probabilities_AE2(cumulative_probabilities, P, c, rank_type):\n",
    "    \"\"\"\n",
    "    Calcula las probabilidades acumuladas para la selección de ranking exponencial.\n",
    "\n",
    "    Parámetros:\n",
    "    - cumulative_probabilities (numpy.ndarray): Vector donde se almacenarán las probabilidades acumuladas.\n",
    "    - P (list): Lista de individuos de la población actual, ordenados de mejor a peor.\n",
    "    - c (float): Parámetro de control para la selección exponencial. Debe ser mayor que 1.\n",
    "    - rank_type (str): Tipo de ranking a usar. Solo soporta \"exponential\" en esta versión.\n",
    "\n",
    "    Funcionamiento:\n",
    "    - Se asignan probabilidades decrecientes de manera exponencial a los individuos.\n",
    "    - La probabilidad de selección de un individuo depende de su ranking en la población.\n",
    "    \"\"\"\n",
    "\n",
    "    N = len(P)  # Tamaño de la población\n",
    "    \n",
    "    if rank_type == 'exponential':\n",
    "        den = c**N - 1  # Normalización para que la suma total sea 1\n",
    "        cumulative_probabilities[0] = (c - 1) / den  # Probabilidad del primer individuo\n",
    "\n",
    "        for i in range(1, N):\n",
    "            cumulative_probabilities[i] = cumulative_probabilities[i - 1] + ((c - 1) * c**i) / den\n"
   ]
  },
  {
   "cell_type": "markdown",
   "metadata": {},
   "source": [
    "## Muestreo estocástico con reemplazamiento (rueda de ruleta)"
   ]
  },
  {
   "cell_type": "code",
   "execution_count": 43,
   "metadata": {},
   "outputs": [],
   "source": [
    "def selection(P,cumulative_probabilities):\n",
    "    '''\n",
    "    Muestreo estocastico con reemplazamiento a partir de probabilidades acumuladas\n",
    "    '''\n",
    "    r = np.random.random()\n",
    "    i = 0\n",
    "    while (cumulative_probabilities[i]<r):\n",
    "        i += 1 \n",
    "    return P[i]"
   ]
  },
  {
   "cell_type": "markdown",
   "metadata": {},
   "source": [
    "## Cruce PMX"
   ]
  },
  {
   "cell_type": "code",
   "execution_count": 44,
   "metadata": {},
   "outputs": [],
   "source": [
    "def crossover_pmx(parent1, parent2):\n",
    "    n = len(parent1.x)\n",
    "    cx1, cx2 = sorted(np.random.choice(n, 2, replace=False))\n",
    "    \n",
    "    child1, child2 = Individuo(n), Individuo(n)\n",
    "    child1.x[:], child2.x[:] = -1, -1\n",
    "\n",
    "    child1.x[cx1:cx2+1] = parent1.x[cx1:cx2+1]\n",
    "    child2.x[cx1:cx2+1] = parent2.x[cx1:cx2+1]\n",
    "\n",
    "    def completar_hijo(child, parent, cx1, cx2):\n",
    "        mapping = {parent.x[i]: child.x[i] for i in range(cx1, cx2+1)}\n",
    "        assigned = set(child.x[cx1:cx2+1])  # Evitar valores duplicados\n",
    "\n",
    "        for i in range(n):\n",
    "            if i < cx1 or i > cx2:\n",
    "                value = parent.x[i]\n",
    "                while value in mapping and mapping[value] != -1:\n",
    "                    value = mapping[value]\n",
    "                if value in assigned:\n",
    "                    value = next(v for v in range(n) if v not in assigned)\n",
    "                child.x[i] = value\n",
    "                assigned.add(value)\n",
    "\n",
    "        return child\n",
    "\n",
    "    child1 = completar_hijo(child1, parent2, cx1, cx2)\n",
    "    child2 = completar_hijo(child2, parent1, cx1, cx2)\n",
    "\n",
    "    return child1, child2"
   ]
  },
  {
   "cell_type": "markdown",
   "metadata": {},
   "source": [
    "## Mutación Swap"
   ]
  },
  {
   "cell_type": "code",
   "execution_count": 45,
   "metadata": {},
   "outputs": [],
   "source": [
    "def mutation_swap(ind, mutation_prob):\n",
    "    if np.random.random() < mutation_prob:\n",
    "        i, j = np.random.choice(len(ind.x), 2, replace=False)\n",
    "        ind.x[i], ind.x[j] = ind.x[j], ind.x[i]\n",
    "    ind.f = f(ind.x)  # Recalcular fitness siempre\n",
    "    return ind"
   ]
  },
  {
   "cell_type": "markdown",
   "metadata": {},
   "source": [
    "## Función para mostrar una configuración de tablero óptima"
   ]
  },
  {
   "cell_type": "code",
   "execution_count": 46,
   "metadata": {},
   "outputs": [],
   "source": [
    "def plot_n_queens(solution):\n",
    "    \"\"\"Dibuja el tablero de ajedrez con las reinas correctamente alineadas.\"\"\"\n",
    "    N = len(solution)\n",
    "    fig, ax = plt.subplots(figsize=(8, 8))\n",
    "    \n",
    "    # Dibujar el tablero de ajedrez\n",
    "    for i in range(N):\n",
    "        for j in range(N):\n",
    "            color = \"white\" if (i + j) % 2 == 0 else \"gray\"\n",
    "            ax.add_patch(plt.Rectangle((j, N - i - 1), 1, 1, color=color))\n",
    "\n",
    "    # Dibujar líneas de la cuadrícula\n",
    "    ax.set_xticks(np.arange(N+1))\n",
    "    ax.set_yticks(np.arange(N+1))\n",
    "    ax.grid(which=\"major\", color=\"black\", linestyle='-', linewidth=1)\n",
    "    ax.tick_params(bottom=False, left=False, labelbottom=False, labelleft=False)\n",
    "\n",
    "    # Dibujar las reinas en el centro exacto de cada celda\n",
    "    for row, col in enumerate(solution):\n",
    "        ax.text(col + 0.5, N - row - 0.5, '♛', fontsize=20, ha='center', va='center', color=\"red\")\n",
    "\n",
    "    ax.set_xlim(0, N)\n",
    "    ax.set_ylim(0, N)\n",
    "    plt.title(f\"Solución para {N} reinas\")\n",
    "    plt.show()"
   ]
  },
  {
   "cell_type": "markdown",
   "metadata": {},
   "source": [
    "## Funciones para actualizar progreso del algoritmo evolutivo"
   ]
  },
  {
   "cell_type": "code",
   "execution_count": 47,
   "metadata": {},
   "outputs": [],
   "source": [
    "def IniciaProgreso(G, best_fitness_inicial):\n",
    "    \"\"\"\n",
    "    Inicializa la barra de progreso para el Algoritmo Evolutivo.\n",
    "    \n",
    "    Parámetros:\n",
    "    - G (int): Número máximo de generaciones.\n",
    "    - best_fitness_inicial (int): Fitness del mejor individuo en la población inicial.\n",
    "\n",
    "    Retorna:\n",
    "    - best_outputs (list): Historial del mejor fitness en cada generación.\n",
    "    - progression_bar (tqdm object): Barra de progreso.\n",
    "    \"\"\"\n",
    "    best_outputs = [0] * (G + 1)  # Inicializar con valores vacíos\n",
    "    best_outputs[0] = best_fitness_inicial  # Solo el primer valor es el fitness inicial\n",
    "\n",
    "    progression_bar = tqdm(total=G, desc=\"Evolucionando\", unit=\"gen\", leave=False)\n",
    "    return best_outputs, progression_bar\n",
    "\n",
    "def ActualizaProgreso(P, gen, best_outputs, progression_bar):\n",
    "    \"\"\"\n",
    "    Actualiza la barra de progreso con el mejor fitness actual.\n",
    "\n",
    "    Parámetros:\n",
    "    - P (list): Población actual.\n",
    "    - gen (int): Número de generación actual.\n",
    "    - best_outputs (list): Historial de fitness.\n",
    "    - progression_bar (tqdm object): Barra de progreso.\n",
    "    \"\"\"\n",
    "    best_fitness = min(P, key=lambda ind: ind.f).f  # Mejor fitness en la población actual\n",
    "    best_outputs[gen] = best_fitness  # Guardamos el mejor fitness\n",
    "    progression_bar.set_postfix(fitness=best_fitness)  # Actualizar la barra con el mejor fitness\n",
    "    progression_bar.update(1)  # Avanzar la barra en una unidad"
   ]
  },
  {
   "cell_type": "markdown",
   "metadata": {},
   "source": [
    "## Algoritmos evolutivos: `AE1` y `AE2`\n",
    "\n",
    "Ambos algoritmos implementan elitismo para asegurar que el mejor individuo de la población actual sobrevive en la población de la siguiente generación."
   ]
  },
  {
   "cell_type": "markdown",
   "metadata": {},
   "source": [
    "### `AE1`"
   ]
  },
  {
   "cell_type": "code",
   "execution_count": 48,
   "metadata": {},
   "outputs": [],
   "source": [
    "def AE1(G, N, prob, rank_type, random_state, show_progress=True):\n",
    "    \"\"\"\n",
    "    Algoritmo Evolutivo con opción para desactivar la barra de progreso y con elitismo.\n",
    "\n",
    "    Parámetros:\n",
    "    - G (int): Número máximo de generaciones.\n",
    "    - N (int): Tamaño de la población.\n",
    "    - prob (tuple): (probabilidad de cruce, probabilidad de mutación).\n",
    "    - rank_type (str): Tipo de ranking usado en la selección.\n",
    "    - random_state (int): Semilla aleatoria.\n",
    "    - show_progress (bool): Si True, muestra la barra de progreso; si False, no la muestra.\n",
    "\n",
    "    Retorna:\n",
    "    - best_outputs (list): Historial del mejor fitness por generación.\n",
    "    - best_fitness (float): Mejor fitness encontrado.\n",
    "    - best_solution (list): Representación de la mejor solución.\n",
    "    - num_generations (int): Número de generaciones necesarias para encontrar la mejor solución.\n",
    "    \"\"\"\n",
    "\n",
    "    np.random.seed(random_state)\n",
    "    prob_cross, prob_mutation = prob\n",
    "\n",
    "    assert G >= 1, \"El número de generaciones debe ser mayor o igual que 1.\"\n",
    "    assert N >= 2 and not N % 2, \"El tamaño de la población debe ser par y mayor que 1.\"\n",
    "\n",
    "    cumulative_probabilities = np.zeros(N)\n",
    "\n",
    "    # Crear y inicializar población\n",
    "    P = [Individuo(queens) for _ in range(N)]\n",
    "    InitializePopulation(P)\n",
    "\n",
    "    # Evaluar población inicial\n",
    "    for I in P:\n",
    "        evaluate(I, f)\n",
    "\n",
    "    # Guardar mejor individuo inicial (para elitismo)\n",
    "    best_individuo = min(P, key=lambda ind: ind.f)\n",
    "\n",
    "    # Inicializar barra de progreso solo si show_progress es True\n",
    "    best_outputs, progression_bar = (IniciaProgreso(G, best_fitness_inicial=best_individuo.f) \n",
    "                                     if show_progress else ([best_individuo.f] * (G + 1), None))\n",
    "\n",
    "    for gen in range(1, G + 1):\n",
    "        # Calcular probabilidades acumuladas con fitness ajustado\n",
    "        calculate_cumulative_probabilities_AE1(cumulative_probabilities, P, N)\n",
    "\n",
    "        Q = []\n",
    "        i = 0\n",
    "        while i < N:\n",
    "            parent1 = selection(P, cumulative_probabilities)\n",
    "            parent2 = selection(P, cumulative_probabilities)\n",
    "\n",
    "            if np.random.random() < prob_cross:\n",
    "                child1, child2 = crossover_pmx(parent1, parent2)\n",
    "            else:\n",
    "                child1, child2 = Individuo(len(parent1.x)), Individuo(len(parent2.x))\n",
    "                copia(child1, parent1)\n",
    "                copia(child2, parent2)\n",
    "\n",
    "            # Aplicamos mutación con menor probabilidad\n",
    "            child1 = mutation_swap(child1, mutation_prob=prob_mutation)\n",
    "            child2 = mutation_swap(child2, mutation_prob=prob_mutation)\n",
    "\n",
    "            Q.append(child1)\n",
    "            Q.append(child2)\n",
    "            i += 2    \n",
    "\n",
    "        # Evaluar nueva población antes de ordenarla\n",
    "        for I in Q:\n",
    "            evaluate(I, f)\n",
    "\n",
    "        # Sustitución generacional con elitismo\n",
    "        Q = sorted(Q, key=lambda ind: ind.f)  # Ordenar nueva generación (mejores primero)\n",
    "        \n",
    "        # Asegurar que el mejor individuo anterior pase a la nueva generación ----> ELITISMO\n",
    "        if best_individuo.f < Q[-1].f:  # Si el mejor anterior es mejor que el peor de Q\n",
    "            Q[-1] = best_individuo  # Sustituimos al peor de Q con el mejor de la generación anterior\n",
    "        \n",
    "        # Actualizar población con la nueva generación\n",
    "        P = Q\n",
    "\n",
    "        # Guardar mejor individuo actualizado\n",
    "        best_individuo = min(P, key=lambda ind: ind.f)\n",
    "\n",
    "        # Actualizar la barra de progreso solo si está activa\n",
    "        if show_progress:\n",
    "            ActualizaProgreso(P, gen, best_outputs, progression_bar)\n",
    "\n",
    "        # Criterio de terminación (si encontramos una solución válida)\n",
    "        if best_individuo.f == 0:\n",
    "            if show_progress:\n",
    "                progression_bar.set_description(f\"✅ Solución encontrada en {gen} generaciones\")\n",
    "                progression_bar.close()\n",
    "            return best_outputs, best_individuo.f, best_individuo.x, gen\n",
    "\n",
    "    if show_progress:\n",
    "        progression_bar.close()\n",
    "    return best_outputs, best_individuo.f, best_individuo.x, G  # Retornar total de generaciones si no encontró solución"
   ]
  },
  {
   "cell_type": "markdown",
   "metadata": {},
   "source": [
    "### `AE2` "
   ]
  },
  {
   "cell_type": "code",
   "execution_count": 49,
   "metadata": {},
   "outputs": [],
   "source": [
    "def AE2(G, N, prob, rank_type, random_state, show_progress=True):\n",
    "    \"\"\"\n",
    "    Algoritmo Evolutivo con opción para desactivar la barra de progreso y con elitismo.\n",
    "\n",
    "    Parámetros:\n",
    "    - G (int): Número máximo de generaciones.\n",
    "    - N (int): Tamaño de la población.\n",
    "    - prob (tuple): (probabilidad de cruce, probabilidad de mutación).\n",
    "    - rank_type (str): Tipo de ranking usado en la selección.\n",
    "    - random_state (int): Semilla aleatoria.\n",
    "    - show_progress (bool): Si True, muestra la barra de progreso; si False, no la muestra.\n",
    "\n",
    "    Retorna:\n",
    "    - best_outputs (list): Historial del mejor fitness por generación.\n",
    "    - best_fitness (float): Mejor fitness encontrado.\n",
    "    - best_solution (list): Representación de la mejor solución.\n",
    "    - num_generations (int): Número de generaciones necesarias para encontrar la mejor solución.\n",
    "    \"\"\"\n",
    "\n",
    "    np.random.seed(random_state)\n",
    "    prob_cross, prob_mutation = prob\n",
    "\n",
    "    assert G >= 1, \"El número de generaciones debe ser mayor o igual que 1.\"\n",
    "    assert N >= 2 and not N % 2, \"El tamaño de la población debe ser par y mayor que 1.\"\n",
    "\n",
    "    cumulative_probabilities = np.zeros(N)\n",
    "\n",
    "    # Crear y inicializar población\n",
    "    P = [Individuo(queens) for _ in range(N)]\n",
    "    InitializePopulation(P)\n",
    "\n",
    "    # Evaluar población inicial\n",
    "    for I in P:\n",
    "        evaluate(I, f)\n",
    "\n",
    "    # Ordenar la población para que el mejor individuo esté en la primera posición\n",
    "    P = sorted(P, key=lambda ind: ind.f)\n",
    "    best_individuo = P[0]  # Guardar mejor individuo inicial\n",
    "\n",
    "    # Inicializar barra de progreso si está activada\n",
    "    best_outputs, progression_bar = (\n",
    "        IniciaProgreso(G, best_fitness_inicial=best_individuo.f) if show_progress\n",
    "        else ([best_individuo.f] * (G + 1), None)\n",
    "    )\n",
    "\n",
    "    for gen in range(1, G + 1):\n",
    "        calculate_cumulative_probabilities_AE2(cumulative_probabilities, P, c, rank_type)\n",
    "\n",
    "        Q = [Individuo(len(P[0].x)) for _ in range(N)]  # Nueva población\n",
    "\n",
    "        # **Elitismo: Mantener al mejor individuo en la nueva población**\n",
    "        Q[0] = best_individuo  \n",
    "\n",
    "        i = 1  # Comenzamos en 1 porque Q[0] ya está ocupado por el mejor individuo\n",
    "        while i < N:\n",
    "            parent1 = selection(P, cumulative_probabilities)\n",
    "            parent2 = selection(P, cumulative_probabilities)\n",
    "\n",
    "            if np.random.random() < prob_cross:\n",
    "                child1, child2 = crossover_pmx(parent1, parent2)\n",
    "            else:\n",
    "                child1, child2 = Individuo(len(parent1.x)), Individuo(len(parent2.x))\n",
    "                copia(child1, parent1)\n",
    "                copia(child2, parent2)\n",
    "\n",
    "            # Aplicamos mutación con menor probabilidad\n",
    "            child1 = mutation_swap(child1, mutation_prob=prob_mutation)\n",
    "            child2 = mutation_swap(child2, mutation_prob=prob_mutation)\n",
    "\n",
    "            Q[i], Q[i + 1] = child1, child2\n",
    "            i += 2  \n",
    "\n",
    "        # Evaluar nueva población antes de ordenarla\n",
    "        for I in Q[1:]:  # Evaluamos desde el índice 1 porque Q[0] ya tiene el mejor individuo previo\n",
    "            evaluate(I, f)\n",
    "\n",
    "        # Ordenar nueva población\n",
    "        Q = sorted(Q, key=lambda ind: ind.f)\n",
    "\n",
    "        # Reemplazar población anterior por la nueva\n",
    "        P = Q  \n",
    "\n",
    "        # Actualizar mejor individuo si encontramos uno mejor\n",
    "        if P[0].f < best_individuo.f:\n",
    "            best_individuo = P[0]\n",
    "\n",
    "        # Actualizar barra de progreso si está activa\n",
    "        if show_progress:\n",
    "            ActualizaProgreso(P, gen, best_outputs, progression_bar)\n",
    "\n",
    "        # Criterio de terminación: Si encontramos una solución óptima\n",
    "        if best_individuo.f == 0:\n",
    "            if show_progress:\n",
    "                progression_bar.set_description(f\"✅ Solución encontrada en {gen} generaciones\")\n",
    "                progression_bar.close()\n",
    "            return best_outputs, best_individuo.f, best_individuo.x, gen\n",
    "\n",
    "    if show_progress:\n",
    "        progression_bar.close()\n",
    "\n",
    "    return best_outputs, best_individuo.f, best_individuo.x, G  # Retornar total de generaciones si no encontró solución"
   ]
  },
  {
   "cell_type": "markdown",
   "metadata": {},
   "source": [
    "## Ajuste de hiperparámetros mediante GridSearch\n",
    "\n",
    "Para algoritmo, se ajustarán la probabilidad de cruce ($p_c$) y la probabilidad de mutación ($p_m$) mediante una búsqueda en un grid de 10x10 (100 combinaciones posibles, usando 10 valores para $p_c$ y $p_m$). A su vez, para combinación $(p_c, p_m)$, cada algoritmo se ejecutará 3 veces, usando en cada ejecución una semilla de números aleatorios distinta. A partir de esas 3 ejecuciones se calculará el valor fitness promedio obtenido."
   ]
  },
  {
   "cell_type": "code",
   "execution_count": 50,
   "metadata": {},
   "outputs": [],
   "source": [
    "# Definir la grid de hiperparámetros\n",
    "cross_probs = np.linspace(0.1, 1.0, 10)  # 10 valores en (0.0, 1.0]\n",
    "mut_probs = np.linspace(0.05, 0.3, 10)  # 10 valores en (0.0, 0.3]\n",
    "\n",
    "# Crear combinaciones de hiperparámetros\n",
    "param_grid = list(product(cross_probs, mut_probs))\n",
    "\n",
    "# Definir número de repeticiones\n",
    "num_repetitions = 3"
   ]
  },
  {
   "cell_type": "markdown",
   "metadata": {},
   "source": [
    "### Función para ejecutar GridSearch"
   ]
  },
  {
   "cell_type": "code",
   "execution_count": 51,
   "metadata": {},
   "outputs": [],
   "source": [
    "def evaluate_hyperparameters(param_grid, num_repetitions, rank_type, ae, G=1000, N=100):\n",
    "    \"\"\"\n",
    "    Ejecuta Grid Search para determinar la mejor combinación de p_c y p_m.\n",
    "\n",
    "    Parámetros:\n",
    "    - param_grid: Lista con combinaciones de (p_c, p_m).\n",
    "    - num_repetitions: Número de veces que se ejecuta cada combinación con semillas distintas.\n",
    "    - rank_type: Tipo de selección usada (proporcional o ranking exponencial).\n",
    "    - ae: Número entero que indica si el algoritmo evolutivo que deseamos ajustar: 1 o 2.\n",
    "    - G: Número de generaciones.\n",
    "    - N: Tamaño de la población.\n",
    "\n",
    "    Retorna:\n",
    "    - best_params: Mejor combinación de (p_c, p_m) encontrada.\n",
    "    - best_metrics: Métricas asociadas a los mejores hiperparámetros.\n",
    "    \"\"\"\n",
    "\n",
    "    assert ae == 1 or ae == 2 #ae debe ser 1 o 2\n",
    "\n",
    "    results = []\n",
    "\n",
    "    with tqdm(total=len(param_grid), desc=\"Evaluando hiperparámetros\", unit=\"iter\") as pbar:\n",
    "        for p_c, p_m in param_grid:\n",
    "            fitness_values = []\n",
    "            generations_needed = []\n",
    "            success_count = 0  # Contador de ejecuciones exitosas\n",
    "\n",
    "            for rep in range(num_repetitions):\n",
    "                random_state = rep  # Usamos diferentes semillas\n",
    "                prob = (p_c, p_m)\n",
    "\n",
    "                # Ejecutar el algoritmo evolutivo\n",
    "                if ae == 1:\n",
    "                    _, best_fitness, _, num_generations = AE1(G, N, prob, rank_type, random_state, show_progress=False)\n",
    "                else:\n",
    "                    _, best_fitness, _, num_generations = AE2(G, N, prob, rank_type, random_state, show_progress=False)\n",
    "                # Guardar métricas\n",
    "                fitness_values.append(best_fitness)\n",
    "                generations_needed.append(num_generations)\n",
    "\n",
    "                # Contar si encontramos una solución óptima (fitness = 0)\n",
    "                if best_fitness == 0:\n",
    "                    success_count += 1\n",
    "\n",
    "            # Calcular estadísticas de la combinación\n",
    "            avg_fitness = np.mean(fitness_values)\n",
    "            std_fitness = np.std(fitness_values)\n",
    "            avg_generations = np.mean(generations_needed)\n",
    "            std_generations = np.std(generations_needed)\n",
    "            success_rate = success_count / num_repetitions  # Proporción de éxito\n",
    "\n",
    "            results.append((p_c, p_m, avg_fitness, std_fitness, avg_generations, std_generations, success_rate)) #results sera una lista de 10x10 = 100 elementos con los resultados para cada par (pc, pm)\n",
    "\n",
    "            pbar.update(1)  # Avanzar la barra de progreso\n",
    "\n",
    "    # Convertir resultados en un array estructurado\n",
    "    results = np.array(results, dtype=[\n",
    "        ('p_c', float), ('p_m', float),\n",
    "        ('fitness', float), ('std_fitness', float),\n",
    "        ('generations', float), ('std_generations', float),\n",
    "        ('success_rate', float)\n",
    "    ])\n",
    "\n",
    "    # Seleccionar la mejor combinación:\n",
    "    # 🔹 Primero, buscamos la de menor fitness promedio\n",
    "    best_indices = np.where(results['fitness'] == np.min(results['fitness']))[0]\n",
    "\n",
    "    if len(best_indices) == 1:\n",
    "        best_index = best_indices[0]  # Si hay un único mínimo, seleccionamos ese\n",
    "    else:\n",
    "        # 🔹 En caso de empate en fitness, elegimos la que requiera menos generaciones promedio\n",
    "        best_index = best_indices[np.argmin(results['generations'][best_indices])]\n",
    "\n",
    "    best_params = (results[best_index]['p_c'], results[best_index]['p_m'])\n",
    "\n",
    "    best_metrics = {\n",
    "        \"fitness_promedio\": results[best_index]['fitness'],\n",
    "        \"fitness_std\": results[best_index]['std_fitness'],\n",
    "        \"generaciones_promedio\": results[best_index]['generations'],\n",
    "        \"generaciones_std\": results[best_index]['std_generations'],\n",
    "        \"tasa_exito\": results[best_index]['success_rate']\n",
    "    }\n",
    "\n",
    "    return best_params, best_metrics"
   ]
  },
  {
   "cell_type": "markdown",
   "metadata": {},
   "source": [
    "### GridSearch para `AE1`"
   ]
  },
  {
   "cell_type": "code",
   "execution_count": null,
   "metadata": {},
   "outputs": [
    {
     "name": "stderr",
     "output_type": "stream",
     "text": [
      "Evaluando hiperparámetros:  25%|██▌       | 25/100 [08:52<26:17, 21.03s/iter]"
     ]
    }
   ],
   "source": [
    "best_params_ae1, best_metrics_gridsearch_ae1 = evaluate_hyperparameters(param_grid, num_repetitions=3, rank_type=ranks_type[0], ae = 1, G = 500, N = 14)\n",
    "\n",
    "print(f\"🔹 Mejor combinación encontrada: p_c={best_params_ae1[0]}, p_m={best_params_ae1[1]}\")\n",
    "print()\n",
    "print('Donde los resultados estadísticos más relevantes fueron:')\n",
    "print()\n",
    "print(f\"🔹 Fitness promedio: {best_metrics_gridsearch_ae1['fitness_promedio']}\")\n",
    "print(f\"🔹 Desviación estándar del fitness: {best_metrics_gridsearch_ae1['fitness_std']}\")\n",
    "print(f\"🔹 Generaciones promedio para convergencia: {best_metrics_gridsearch_ae1['generaciones_promedio']}\")\n",
    "print(f\"🔹 Desviación estándar de generaciones: {best_metrics_gridsearch_ae1['generaciones_std']}\")\n",
    "print(f\"🔹 Tasa de éxito: {best_metrics_gridsearch_ae1['tasa_exito']}\")"
   ]
  },
  {
   "cell_type": "markdown",
   "metadata": {},
   "source": [
    "### GridSearch para `AE2` "
   ]
  },
  {
   "cell_type": "code",
   "execution_count": null,
   "metadata": {},
   "outputs": [],
   "source": [
    "best_params_ae2, best_metrics_gridsearch_ae2 = evaluate_hyperparameters(param_grid, num_repetitions=3, rank_type=ranks_type[1], G = 500, N = 14)\n",
    "\n",
    "print(f\"🔹 Mejor combinación encontrada: p_c={best_params_ae2[0]}, p_m={best_params_ae2[1]}\")\n",
    "print()\n",
    "print('Donde los resultados estadísticos más relevantes fueron:')\n",
    "print()\n",
    "print(f\"🔹 Fitness promedio: {best_metrics_gridsearch_ae2['fitness_promedio']}\")\n",
    "print(f\"🔹 Desviación estándar del fitness: {best_metrics_gridsearch_ae2['fitness_std']}\")\n",
    "print(f\"🔹 Generaciones promedio para convergencia: {best_metrics_gridsearch_ae2['generaciones_promedio']}\")\n",
    "print(f\"🔹 Desviación estándar de generaciones: {best_metrics_gridsearch_ae2['generaciones_std']}\")\n",
    "print(f\"🔹 Tasa de éxito: {best_metrics_gridsearch_ae2['tasa_exito']}\")"
   ]
  },
  {
   "cell_type": "markdown",
   "metadata": {},
   "source": [
    "## Ejecuciones `AE1` y `AE2` "
   ]
  },
  {
   "cell_type": "markdown",
   "metadata": {},
   "source": [
    "### Función genérica para ejecutar un algoritmo evolutivo"
   ]
  },
  {
   "cell_type": "code",
   "execution_count": null,
   "metadata": {},
   "outputs": [],
   "source": [
    "def EjecutaEA(nRun, G, N, ae, best_params, rank_type):\n",
    "    \"\"\"\n",
    "    Ejecuta el Algoritmo Evolutivo nRun veces y guarda la evolución del fitness.\n",
    "\n",
    "    Parámetros:\n",
    "    - nRun (int): Número de ejecuciones a realizar.\n",
    "    - G (int): Número de generaciones.\n",
    "    - N (int): Tamaño de la población.\n",
    "    - ae (int): Un valor 1 para ejecutar AE1, un valor 2 para ejecutar AE2\n",
    "    - best_params (tuple): (p_c, p_m) de la mejor configuración encontrada.\n",
    "    - rank_type (str): Tipo de ranking usado en la selección.\n",
    "\n",
    "    Retorna:\n",
    "    - best_fitness_by_generations (array): Evolución del fitness en cada ejecución.\n",
    "    - best_fitness_by_execution (array): Mejor fitness final por ejecución.\n",
    "    - best_solution_by_execution (array): Mejor solución por ejecución.\n",
    "    - num_generations_by_execution (array): Número de generaciones necesarias por ejecución.\n",
    "    \"\"\"\n",
    "    \n",
    "    # Inicialización de arrays\n",
    "    best_fitness_by_generations = np.zeros((nRun, G + 1))  # Guardar fitness en cada generación\n",
    "    best_fitness_by_execution = np.zeros(nRun)\n",
    "    best_solution_by_execution = [None] * nRun\n",
    "    num_generations_by_execution = np.zeros(nRun)\n",
    "    \n",
    "    for i in range(nRun):\n",
    "        start_time = time.time()\n",
    "        random_state = i  # Usamos i como semilla para reproducibilidad\n",
    "\n",
    "        # Ejecutar EA y almacenar resultados\n",
    "        if ae == 1:\n",
    "            best_outputs, best_fitness, best_solution, num_generations = AE1(G, N, best_params, rank_type, random_state)\n",
    "        else:\n",
    "            best_outputs, best_fitness, best_solution, num_generations = AE2(G, N, best_params, rank_type, random_state)\n",
    "\n",
    "        best_fitness_by_generations[i] = best_outputs  # Guardar evolución del fitness\n",
    "        best_fitness_by_execution[i] = best_fitness\n",
    "        best_solution_by_execution[i] = best_solution\n",
    "        num_generations_by_execution[i] = num_generations\n",
    "\n",
    "        elapsed_time = time.time() - start_time\n",
    "        print(f\"🔹 Run {i+1}/{nRun} completado en {elapsed_time:.2f} segundos - Mejor fitness: {best_fitness}\")\n",
    "\n",
    "    return best_fitness_by_generations, best_fitness_by_execution, best_solution_by_execution, num_generations_by_execution"
   ]
  },
  {
   "cell_type": "markdown",
   "metadata": {},
   "source": [
    "### Función para graficar la evolución del mejor fitness"
   ]
  },
  {
   "cell_type": "code",
   "execution_count": null,
   "metadata": {},
   "outputs": [],
   "source": [
    "def graficar_evolucion_fitness_grid(best_fitness_by_generations, titulo):\n",
    "    \"\"\"\n",
    "    Grafica la evolución del fitness en un grid de 5x2, mostrando una gráfica por cada ejecución.\n",
    "\n",
    "    Parámetros:\n",
    "    - best_fitness_by_generations (numpy.ndarray): Matriz de tamaño (nRun, G+1) con la evolución del fitness.\n",
    "    - titulo (str): Título general de la figura.\n",
    "    \"\"\"\n",
    "    nRun = best_fitness_by_generations.shape[0]  # Número de ejecuciones\n",
    "    fig, axes = plt.subplots(5, 2, figsize=(12, 15))  # Crear grid de 5x2\n",
    "    fig.suptitle(titulo, fontsize=16)\n",
    "\n",
    "    for i, ax in enumerate(axes.flat):  # Iterar sobre los 10 subgráficos\n",
    "        if i < nRun:  # Solo graficamos si hay datos disponibles\n",
    "            ax.plot(best_fitness_by_generations[i], label=f\"Ejecución {i+1}\", color=\"blue\")\n",
    "            ax.set_xlabel(\"Generaciones\")\n",
    "            ax.set_ylabel(\"Mejor Fitness\")\n",
    "            ax.set_title(f\"Ejecución {i+1}\")\n",
    "            ax.grid()\n",
    "        else:\n",
    "            ax.axis(\"off\")  # Ocultar gráficos extra en caso de haber menos de 10 ejecuciones\n",
    "\n",
    "    plt.tight_layout(rect=[0, 0, 1, 0.96])  # Ajustar el layout sin solapar el título\n",
    "    plt.show()\n"
   ]
  },
  {
   "cell_type": "markdown",
   "metadata": {},
   "source": [
    "### `AE1`"
   ]
  },
  {
   "cell_type": "code",
   "execution_count": null,
   "metadata": {},
   "outputs": [
    {
     "name": "stderr",
     "output_type": "stream",
     "text": [
      "                                                                                                          \r"
     ]
    },
    {
     "name": "stdout",
     "output_type": "stream",
     "text": [
      "🔹 Run 1/10 completado en 38.74 segundos - Mejor fitness: 0\n"
     ]
    },
    {
     "name": "stderr",
     "output_type": "stream",
     "text": [
      "                                                                                                          \r"
     ]
    },
    {
     "name": "stdout",
     "output_type": "stream",
     "text": [
      "🔹 Run 2/10 completado en 82.25 segundos - Mejor fitness: 0\n"
     ]
    },
    {
     "name": "stderr",
     "output_type": "stream",
     "text": [
      "                                                                                                          \r"
     ]
    },
    {
     "name": "stdout",
     "output_type": "stream",
     "text": [
      "🔹 Run 3/10 completado en 91.08 segundos - Mejor fitness: 0\n"
     ]
    },
    {
     "name": "stderr",
     "output_type": "stream",
     "text": [
      "                                                                              \r"
     ]
    },
    {
     "name": "stdout",
     "output_type": "stream",
     "text": [
      "🔹 Run 4/10 completado en 119.01 segundos - Mejor fitness: 2\n"
     ]
    },
    {
     "name": "stderr",
     "output_type": "stream",
     "text": [
      "                                                                              \r"
     ]
    },
    {
     "name": "stdout",
     "output_type": "stream",
     "text": [
      "🔹 Run 5/10 completado en 118.74 segundos - Mejor fitness: 1\n"
     ]
    },
    {
     "name": "stderr",
     "output_type": "stream",
     "text": [
      "                                                                              \r"
     ]
    },
    {
     "name": "stdout",
     "output_type": "stream",
     "text": [
      "🔹 Run 6/10 completado en 122.15 segundos - Mejor fitness: 1\n"
     ]
    },
    {
     "name": "stderr",
     "output_type": "stream",
     "text": [
      "                                                                                                          \r"
     ]
    },
    {
     "name": "stdout",
     "output_type": "stream",
     "text": [
      "🔹 Run 7/10 completado en 87.88 segundos - Mejor fitness: 0\n"
     ]
    },
    {
     "name": "stderr",
     "output_type": "stream",
     "text": [
      "                                                                              \r"
     ]
    },
    {
     "name": "stdout",
     "output_type": "stream",
     "text": [
      "🔹 Run 8/10 completado en 116.27 segundos - Mejor fitness: 2\n"
     ]
    },
    {
     "name": "stderr",
     "output_type": "stream",
     "text": [
      "                                                                                                          \r"
     ]
    },
    {
     "name": "stdout",
     "output_type": "stream",
     "text": [
      "🔹 Run 9/10 completado en 68.16 segundos - Mejor fitness: 0\n"
     ]
    },
    {
     "name": "stderr",
     "output_type": "stream",
     "text": [
      "                                                                                                          "
     ]
    },
    {
     "name": "stdout",
     "output_type": "stream",
     "text": [
      "🔹 Run 10/10 completado en 104.17 segundos - Mejor fitness: 0\n"
     ]
    },
    {
     "name": "stderr",
     "output_type": "stream",
     "text": [
      "\r"
     ]
    }
   ],
   "source": [
    "best_fitness_by_generations_AE1, best_fitness_by_execution_AE1, best_solution_by_execution_AE1, num_generations_by_execution_AE1 = EjecutaEA(nRun=10, G = G, N = N, ae = 1, best_params=best_params_ae2, rank_type=ranks_type[0])"
   ]
  },
  {
   "cell_type": "code",
   "execution_count": null,
   "metadata": {},
   "outputs": [
    {
     "data": {
      "image/png": "[encoded data removed]",
      "text/plain": [
       "<Figure size 1200x1500 with 10 Axes>"
      ]
     },
     "metadata": {},
     "output_type": "display_data"
    }
   ],
   "source": [
    "graficar_evolucion_fitness_grid(best_fitness_by_generations_AE1, titulo=\"Evolución del fitness en los 10 experimentos\")"
   ]
  },
  {
   "cell_type": "code",
   "execution_count": null,
   "metadata": {},
   "outputs": [
    {
     "name": "stdout",
     "output_type": "stream",
     "text": [
      "Fitness Promedio AE1: 0.60\n",
      "Número de Generaciones Promedio AE1: 805.20\n",
      "Tasa de Éxito AE1: 60.00%\n"
     ]
    }
   ],
   "source": [
    "# Calcular métricas clave para AE1\n",
    "fitness_promedio_AE1 = np.mean(best_fitness_by_execution_AE1)  # Fitness promedio\n",
    "generaciones_promedio_AE1 = np.mean(num_generations_by_execution_AE1)  # Generaciones promedio\n",
    "tasa_exito_AE1 = np.sum(np.array(best_fitness_by_execution_AE1) == 0) / len(best_fitness_by_execution_AE1)  # Tasa de éxito\n",
    "\n",
    "# Mostrar resultados en consola\n",
    "print(f\"Fitness Promedio AE1: {fitness_promedio_AE1:.2f}\")\n",
    "print(f\"Número de Generaciones Promedio AE1: {generaciones_promedio_AE1:.2f}\")\n",
    "print(f\"Tasa de Éxito AE1: {tasa_exito_AE1:.2%}\")  # Convertimos a porcentaje"
   ]
  },
  {
   "cell_type": "markdown",
   "metadata": {},
   "source": [
    "### `AE2`"
   ]
  },
  {
   "cell_type": "code",
   "execution_count": null,
   "metadata": {},
   "outputs": [],
   "source": [
    "best_fitness_by_generations_AE2, best_fitness_by_execution_AE2, best_solution_by_execution_AE2, num_generations_by_execution_AE2 = EjecutaEA(nRun=10, G = G, N = N, ae = 2, best_params=best_params_ae2, rank_type=ranks_type[1])"
   ]
  },
  {
   "cell_type": "code",
   "execution_count": null,
   "metadata": {},
   "outputs": [],
   "source": [
    "graficar_evolucion_fitness_grid(best_fitness_by_generations_AE2, titulo=\"Evolución del fitness en los 10 experimentos\")"
   ]
  },
  {
   "cell_type": "code",
   "execution_count": null,
   "metadata": {},
   "outputs": [],
   "source": [
    "# Calcular métricas clave para AE2\n",
    "fitness_promedio_AE2 = np.mean(best_fitness_by_execution_AE2)  # Fitness promedio\n",
    "generaciones_promedio_AE2 = np.mean(num_generations_by_execution_AE2)  # Generaciones promedio\n",
    "tasa_exito_AE2 = np.sum(np.array(best_fitness_by_execution_AE2) == 0) / len(best_fitness_by_execution_AE2)  # Tasa de éxito\n",
    "\n",
    "# Mostrar resultados en consola\n",
    "print(f\"Fitness Promedio AE2: {fitness_promedio_AE2:.2f}\")\n",
    "print(f\"Número de Generaciones Promedio AE2: {generaciones_promedio_AE2:.2f}\")\n",
    "print(f\"Tasa de Éxito AE2: {tasa_exito_AE2:.2%}\")  # Convertimos a porcentaje"
   ]
  },
  {
   "cell_type": "markdown",
   "metadata": {},
   "source": [
    "## Creación de fichero CSV para los tests estadísticos"
   ]
  },
  {
   "cell_type": "code",
   "execution_count": null,
   "metadata": {},
   "outputs": [
    {
     "name": "stdout",
     "output_type": "stream",
     "text": [
      "✅ Resultados de AE1 guardados en num_gen.csv. Ahora ejecuta el notebook de AE2.\n"
     ]
    }
   ],
   "source": [
    "# Nombre del archivo CSV donde se guardarán los resultados\n",
    "csv_filename = \"num_gen.csv\"\n",
    "\n",
    "# Datos de AE1\n",
    "num_generations_ae1 = num_generations_by_execution_AE1  # Lista con iteraciones de AE1\n",
    "\n",
    "# Crear un DataFrame con la columna AE1\n",
    "df_ae1 = pd.DataFrame({\"AE1\": num_generations_ae1})\n",
    "\n",
    "# Guardar o crear el archivo\n",
    "df_ae1.to_csv(csv_filename, index=True)  # Se guarda con índice para representar la ejecución\n",
    "\n",
    "print(f\"✅ Resultados de AE1 guardados en {csv_filename}. Ahora ejecuta el notebook de AE2.\")"
   ]
  },
  {
   "cell_type": "code",
   "execution_count": null,
   "metadata": {},
   "outputs": [],
   "source": [
    "# Datos de AE2\n",
    "num_generations_ae2 = num_generations_by_execution_AE2  # Lista con iteraciones de AE2\n",
    "\n",
    "# Cargar el archivo si existe\n",
    "if os.path.exists(csv_filename):\n",
    "    df_existing = pd.read_csv(csv_filename, index_col=0)  # Cargar sin modificar índice\n",
    "    df_existing[\"AE2\"] = num_generations_ae2  # Agregar columna AE2\n",
    "    df_existing.to_csv(csv_filename)  # Guardar de nuevo\n",
    "    print(f\"✅ Resultados de AE2 añadidos en {csv_filename}.\")\n",
    "else:\n",
    "    print(f\"⚠️ ERROR: No se encontró {csv_filename}. Ejecuta primero el notebook de AE1.\")"
   ]
  }
 ],
 "metadata": {
  "kernelspec": {
   "display_name": "ML",
   "language": "python",
   "name": "python3"
  },
  "language_info": {
   "codemirror_mode": {
    "name": "ipython",
    "version": 3
   },
   "file_extension": ".py",
   "mimetype": "text/x-python",
   "name": "python",
   "nbconvert_exporter": "python",
   "pygments_lexer": "ipython3",
   "version": "3.12.6"
  }
 },
 "nbformat": 4,
 "nbformat_minor": 2
}
