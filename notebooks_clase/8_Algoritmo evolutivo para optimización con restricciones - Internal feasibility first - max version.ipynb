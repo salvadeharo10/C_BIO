{
 "cells": [
  {
   "cell_type": "markdown",
   "id": "39a89ea3",
   "metadata": {},
   "source": [
    "# Algoritmo evolutivo para optimización con restricciones – Internal feasibility first – max version\n",
    "\n",
    "### Descripción\n",
    "\n",
    "<font size=\"4\"> Algoritmo evolutivo para optimización continua con restricciones (minimización), enfoque \"primero factibilidad\", interno, versión max.\n",
    "\n",
    "### Componentes\n",
    "\n",
    "- <font size=\"3\"> Representación real\n",
    "    \n",
    "- <font size=\"3\"> Manejo de restricciones con enfoque \"primero factibilidad\", interno, versión max\n",
    "    \n",
    "- <font size=\"3\"> Selección por torneo binario\n",
    "    \n",
    "- <font size=\"3\"> Muestreo estocástico con reemplazamiento\n",
    "    \n",
    "- <font size=\"3\"> Sustitución $(\\mu+\\lambda)$\n",
    "    \n",
    "- <font size=\"3\"> Elitista\n",
    "\n",
    "- <font size=\"3\"> Cruce uniforme, aritmético y SBX\n",
    "\n",
    "- <font size=\"3\"> Mutación uniforme, 'small' y polinomial\n",
    "   \n",
    "### Comentarios\n",
    "    \n",
    "- <font size=\"3\"> Se requiere ordenar una población de $2 \\cdot N$ individuos con los $\\mu$ padres más los $\\lambda$ hijos, $\\mu=\\lambda=N$.   \n",
    "    \n",
    "- <font size=\"3\"> Problemas de test obtenidos de:\n",
    "\n",
    "    <font size=\"3\"> https://en.wikipedia.org/wiki/Test_functions_for_optimization#Test_functions_for_constrained_optimization\n",
    "    \n",
    "    <font size=\"3\"> http://www-optima.amp.i.kyoto-u.ac.jp/member/student/hedar/Hedar_files/TestGO.htm\n",
    "    \n",
    "---"
   ]
  },
  {
   "cell_type": "markdown",
   "id": "f1538b9c-c9b7-403e-a204-1d25d5cfcf46",
   "metadata": {},
   "source": [
    "### Requerimientos"
   ]
  },
  {
   "cell_type": "code",
   "execution_count": 1,
   "id": "2aa4f662",
   "metadata": {},
   "outputs": [],
   "source": [
    "import numpy as np\n",
    "import math\n",
    "from tqdm import tqdm\n",
    "import landscapes.single_objective as lso\n",
    "import matplotlib.pyplot as plt\n",
    "import heapq "
   ]
  },
  {
   "cell_type": "markdown",
   "id": "135f106b-8214-4f7a-a0b1-faf258f84013",
   "metadata": {},
   "source": [
    "### Parámetros del algoritmo evolutivo\n",
    "- $G$: Número de generaciones\n",
    "- $N$: Tamaño de la población\n",
    "- $random\\_state$: Semilla para reproducibilidad\n",
    "- $prob$: Probabilidades\n",
    "  - $prob\\_cross$: Probabilidades de cruce\n",
    "    - $p\\_c$: Probabilidad de cruce\n",
    "    - $uniform\\_crossover\\_probability$: Probabilidad de cruce uniforme\n",
    "    - $arithmetic\\_crossover\\_probability$: Probabilidad de cruce aritmético\n",
    "    - $SBX\\_crossover\\_probability$: Probabilidad de cruce SBX\n",
    "  - $prob\\_mutation$: Probabilidades de mutación\n",
    "    - $p\\_m$: Probabilidad de mutación\n",
    "    - $uniform\\_mutation\\_probability$: Probabilidad de mutación uniforme \n",
    "    - $small\\_mutation\\_probability$: Probabilidad de mutación small \n",
    "    - $polynomial\\_mutation\\_probability$: Probabilidad de mutación small \n",
    "    - $epsilon$: Máximo cambio en mutación small"
   ]
  },
  {
   "cell_type": "code",
   "execution_count": 2,
   "id": "d0ccd32c-32fa-4c70-9dd9-6153062a62ff",
   "metadata": {},
   "outputs": [],
   "source": [
    "G = 10000\n",
    "N = 100\n",
    "random_state = 1\n",
    "\n",
    "p_c = 0.7\n",
    "uniform_crossover_probability = 0.4 \n",
    "arithmetic_crossover_probability = 0.2\n",
    "SBX_crossover_probability = 0.4\n",
    "\n",
    "p_m = 0.1\n",
    "uniform_mutation_probability = 0.4\n",
    "small_mutation_probability = 0.2\n",
    "polynomial_mutation_probability = 0.4\n",
    "epsilon = 1e-6\n",
    "\n",
    "prob_cross = p_c,uniform_crossover_probability,arithmetic_crossover_probability,SBX_crossover_probability\n",
    "prob_mutation = p_m,uniform_mutation_probability,small_mutation_probability,polynomial_mutation_probability,epsilon\n",
    "prob = prob_cross,prob_mutation"
   ]
  },
  {
   "cell_type": "markdown",
   "id": "843a84f4",
   "metadata": {},
   "source": [
    "### Definición del problema de optimización con restricciones\n",
    "- $L$: Límite inferior de espacio de búsqueda\n",
    "- $U$: Límite superior de espacio de búsqueda\n",
    "- $f$: Función objetivo\n",
    "- $g$: Restricciones (se cumplen las restricciones si son menor o igual que cero)"
   ]
  },
  {
   "cell_type": "code",
   "execution_count": 3,
   "id": "7d49a932",
   "metadata": {},
   "outputs": [],
   "source": [
    "# Rosenbrock function constrained with a cubic and a line\n",
    "\n",
    "def Rosenbrock_objective(x):\n",
    "    f = (1-x[0])**2+100*(x[1]-x[0]**2)**2\n",
    "    return f\n",
    "\n",
    "def Rosenbrock_constraints(x):\n",
    "    g = np.zeros(2)\n",
    "    g[0] = (x[0]-1)**3-x[1]+1 # <=0\n",
    "    g[1] = x[0]+x[1]-2 # <=0\n",
    "    return g\n",
    "\n",
    "def Rosenbrock():\n",
    "    n = 2 # Número de variables de decisión    \n",
    "    L = np.array([-1.5,-0.5])\n",
    "    U = np.array([1.5,2.5])\n",
    "    f = Rosenbrock_objective\n",
    "    g = Rosenbrock_constraints\n",
    "    return L,U,f,g\n",
    "\n",
    "# G3 problem\n",
    "  \n",
    "def G3_objective(x):\n",
    "    f = (np.sqrt(x.size)**x.size)*np.prod(x)\n",
    "    return -f\n",
    "\n",
    "def G3_constraints(x):\n",
    "    g = np.zeros(1)\n",
    "    g[0] = np.abs(sum([i*i for i in x])-1)-1e-4\n",
    "    return g\n",
    "\n",
    "def G3():\n",
    "    n = 10 # Número de variables de decisión\n",
    "    L = np.full(n, 0.0)\n",
    "    U = np.full(n, 1.0)\n",
    "    f = G3_objective\n",
    "    g = G3_constraints\n",
    "    return L,U,f,g\n",
    "\n",
    "# G1 problem\n",
    "\n",
    "def G1_objective(x):\n",
    "    f = 5*sum(x[0:4])-5*sum([x[i]*x[i] for i in range(4)])-sum(x[4:])\n",
    "    return f\n",
    "\n",
    "def G1_constraints(x):\n",
    "    g = np.zeros(9)\n",
    "    g[0] = 2*x[0]+2*x[1]+x[9]+x[10]-10\n",
    "    g[1] = 2*x[0]+2*x[2]+x[9]+x[11]-10\n",
    "    g[2] = 2*x[1]+2*x[2]+x[10]+x[11]-10    \n",
    "    g[3] = -8*x[0]+x[9]\n",
    "    g[4] = -8*x[1]+x[10]    \n",
    "    g[5] = -8*x[2]+x[11]\n",
    "    g[6] = -2*x[3]-x[4]+x[9]\n",
    "    g[7] = -2*x[5]-x[6]+x[10]    \n",
    "    g[8] = -2*x[7]-x[8]+x[11]\n",
    "    return g \n",
    "\n",
    "def G1():\n",
    "    n = 13 # Número de variables de decisión\n",
    "    L = np.full(n, 0.0)\n",
    "    U = np.full(n, 1.0)\n",
    "    U[9] = 100\n",
    "    U[10] = 100\n",
    "    U[11] = 100\n",
    "    f = G1_objective\n",
    "    g = G1_constraints\n",
    "    return L,U,f,g\n",
    "\n",
    "L,U,f,g = Rosenbrock()\n",
    "#L,U,f,g = G3()\n",
    "#L,U,f,g = G1()"
   ]
  },
  {
   "cell_type": "markdown",
   "id": "94c4780a",
   "metadata": {},
   "source": [
    "### Definición de individuo"
   ]
  },
  {
   "cell_type": "code",
   "execution_count": 4,
   "id": "a8187c76",
   "metadata": {},
   "outputs": [],
   "source": [
    "class Individuo:\n",
    "    def __init__(self,n):\n",
    "        self.x = np.zeros(n)\n",
    "        self.f = 0.0\n",
    "        self.g = 0.0\n",
    "    def __lt__(self, ind):\n",
    "        if self.g <= 0.0 and ind.g <= 0.0:\n",
    "            return self.f < ind.f\n",
    "        return self.g < ind.g"
   ]
  },
  {
   "cell_type": "markdown",
   "id": "26f9c8e6-179a-4271-9bcf-ba88d9714928",
   "metadata": {},
   "source": [
    "### Inicialización de la población"
   ]
  },
  {
   "cell_type": "code",
   "execution_count": 5,
   "id": "af85e7e1-39fd-4653-9d1d-d7d8905e093b",
   "metadata": {},
   "outputs": [],
   "source": [
    "def InitializePopulation(P,L,U):\n",
    "    for I in P:\n",
    "        I.x[:] = np.random.uniform(L, U, I.x.size)"
   ]
  },
  {
   "cell_type": "markdown",
   "id": "79632804-7b18-4414-9ca7-9997424926c1",
   "metadata": {},
   "source": [
    "### Función de evaluación"
   ]
  },
  {
   "cell_type": "code",
   "execution_count": 6,
   "id": "42fdd773-58cd-4950-a157-1a4970f6c03b",
   "metadata": {},
   "outputs": [],
   "source": [
    "def evaluate(I,f,g):           \n",
    "    I.f = f(I.x)\n",
    "    I.g = max(g(I.x))"
   ]
  },
  {
   "cell_type": "markdown",
   "id": "005380c3-647f-49b0-a53e-6417cae90b13",
   "metadata": {},
   "source": [
    "### Copia de individuo"
   ]
  },
  {
   "cell_type": "code",
   "execution_count": 7,
   "id": "a1f562ef-ecdd-4c2f-9b65-93a6c166a05b",
   "metadata": {},
   "outputs": [],
   "source": [
    "def copia(I1, I2):\n",
    "    np.copyto(I1.x, I2.x)\n",
    "    I1.f = I2.f   \n",
    "    I1.g = I2.g"
   ]
  },
  {
   "cell_type": "markdown",
   "id": "22d2e9b3",
   "metadata": {},
   "source": [
    "### Selección por torneo binario"
   ]
  },
  {
   "cell_type": "code",
   "execution_count": 8,
   "id": "18210ed7",
   "metadata": {},
   "outputs": [],
   "source": [
    "def binary_tournament_selection(P):\n",
    "    return min(np.random.choice(P,2,replace=False))"
   ]
  },
  {
   "cell_type": "markdown",
   "id": "0721c2ed",
   "metadata": {},
   "source": [
    "### Cruce\n",
    "- Cruce con probabilidad $p\\_c$ y:\n",
    "    - cruce uniforme (con probabilidad $uniform\\_crossover\\_probability$)\n",
    "    - cruce aritmético (con probabilidad $arithmetic\\_crossover\\_probability$)\n",
    "    - cruce SBX en otro caso"
   ]
  },
  {
   "cell_type": "code",
   "execution_count": 9,
   "id": "c67ca7a2",
   "metadata": {},
   "outputs": [],
   "source": [
    "def uniform_crossover(x1,x2):\n",
    "    for l in range(x1.size):\n",
    "        if np.random.random()<=0.5:\n",
    "            x1[l], x2[l] = x2[l], x1[l] \n",
    "            \n",
    "def arithmetic_crossover(x1,x2):\n",
    "    alpha = np.random.random()\n",
    "    x1[:], x2[:] = alpha*x1+(1-alpha)*x2, alpha*x2+(1-alpha)*x1\n",
    "        \n",
    "def SBX_crossover(x1,x2,L,U):\n",
    "    eta = 10\n",
    "    u = np.random.rand()\n",
    "    if u <= 0.5:\n",
    "        beta = (2 * u) ** (1 / (eta + 1))\n",
    "    else:\n",
    "        beta = (1 / (2 * (1 - u))) ** (1 / (eta + 1))    \n",
    "    x1[:], x2[:] = 0.5*((1+beta)*x1+(1-beta)*x2), 0.5 *((1-beta)*x1+(1+beta)*x2)\n",
    "    x1[:], x2[:] = np.clip(x1,L,U), np.clip(x2,L,U)\n",
    "    \n",
    "def crossover(x1,x2,prob_cross,L,U): \n",
    "    p_c,uniform_crossover_probability,arithmetic_crossover_probability,SBX_crossover_probability = prob_cross\n",
    "    if np.random.random()<=p_c:\n",
    "        r = np.random.random()\n",
    "        if r<=uniform_crossover_probability:\n",
    "            uniform_crossover(x1,x2)\n",
    "        elif r<=uniform_crossover_probability+arithmetic_crossover_probability:\n",
    "            arithmetic_crossover(x1,x2)\n",
    "        else:\n",
    "            SBX_crossover(x1,x2,L,U)"
   ]
  },
  {
   "cell_type": "markdown",
   "id": "42726f6e",
   "metadata": {},
   "source": [
    "### Mutación\n",
    "- Mutación con probabilidad $p\\_m$ y:\n",
    "    - mutación uniforme numerica (con probabilidad $uniform\\_mutation\\_probability$)\n",
    "    - mutación small (con probabilidad $small\\_mutation\\_probability$) \n",
    "    - mutación polinomial en otro caso"
   ]
  },
  {
   "cell_type": "code",
   "execution_count": 10,
   "id": "8297d8bd",
   "metadata": {},
   "outputs": [],
   "source": [
    "def uniform_mutation(x,p_m,L,U):\n",
    "    for l in range(x.size):\n",
    "        if np.random.random()<=p_m:\n",
    "            x[l] = np.random.uniform(L[l],U[l])\n",
    "    \n",
    "def small_mutation(x,p_m,epsilon,L,U):\n",
    "    for l in range(x.size):\n",
    "        if np.random.random()<=p_m:\n",
    "            if np.random.random()<=0.5:\n",
    "                x[l] += np.random.uniform(0,epsilon)\n",
    "            else:\n",
    "                x[l] -= np.random.uniform(0,epsilon)\n",
    "    x[:] = np.clip(x,L,U)\n",
    "                \n",
    "def polynomial_mutation(x,p_m,L,U):\n",
    "    eta_m = 20\n",
    "    for l in range(x.size):\n",
    "        if np.random.random()<=p_m:\n",
    "            u = np.random.random()\n",
    "            if u<=0.5:\n",
    "                 x[l] += ((2*u)**(1/(1+eta_m))-1)*(x[l]-L[l])\n",
    "            else:\n",
    "                 x[l] += (1-(2*(1-u))**(1/(1+eta_m)))*(U[l]-x[l])\n",
    "    x[:] = np.clip(x,L,U)\n",
    "                \n",
    "def mutation(x,prob_mutation,L,U):\n",
    "    p_m,uniform_mutation_probability,small_mutation_probability,polynomial_mutation_probability,epsilon = prob_mutation\n",
    "    r = np.random.random()\n",
    "    if r<=uniform_mutation_probability:\n",
    "        uniform_mutation(x,p_m,L,U)\n",
    "    elif r<=uniform_mutation_probability+small_mutation_probability:\n",
    "        small_mutation(x,p_m,epsilon,L,U)\n",
    "    else:\n",
    "        polynomial_mutation(x,p_m,L,U)"
   ]
  },
  {
   "cell_type": "markdown",
   "id": "d005178f-e3f1-4f87-8d3b-6278dddc9211",
   "metadata": {},
   "source": [
    "### Progreso del algoritmo"
   ]
  },
  {
   "cell_type": "code",
   "execution_count": 11,
   "id": "6f1e7f0b-7b90-4178-89e5-826a7a30af53",
   "metadata": {},
   "outputs": [],
   "source": [
    "def IniciaProgreso(P,G):\n",
    "    best_outputs_f = [0]*(G+1) # Para visualizar la gráfica de evolución al final    \n",
    "    best_outputs_g = [0]*(G+1) # Para visualizar la gráfica de evolución al final    \n",
    "    progression_bar = tqdm()\n",
    "    ActualizaProgreso(P,0,best_outputs_f,best_outputs_g,progression_bar)    \n",
    "    return best_outputs_f,best_outputs_g,progression_bar\n",
    "    \n",
    "def ActualizaProgreso(P,gen,best_outputs_f,best_outputs_g,progression_bar):\n",
    "    best_individuo = min(P)\n",
    "    progression_bar.set_description(\"Generation: %s Objective: %s Feasibility: %s \" % (str(gen), str(best_individuo.f), str(best_individuo.g)))\n",
    "    best_outputs_f[gen] = best_individuo.f # Añadir mejor fitness (para visualización)\n",
    "    best_outputs_g[gen] = best_individuo.g\n",
    "    progression_bar.update(1)"
   ]
  },
  {
   "cell_type": "markdown",
   "id": "60442801",
   "metadata": {},
   "source": [
    "### Algoritmo evolutivo"
   ]
  },
  {
   "cell_type": "code",
   "execution_count": 12,
   "id": "2b18b2d3",
   "metadata": {},
   "outputs": [],
   "source": [
    "def EA(G,N,prob,f,g,L,U,random_state):\n",
    "    \n",
    "    np.random.seed(random_state)\n",
    "    \n",
    "    prob_cross,prob_mutation = prob\n",
    "    p_c,uniform_crossover_probability,arithmetic_crossover_probability,SBX_crossover_probability = prob_cross\n",
    "    p_m,uniform_mutation_probability,small_mutation_probability,polynomial_mutation_probability,epsilon = prob_mutation\n",
    "    \n",
    "    # Aserciones\n",
    "    \n",
    "    assert G >= 1, \"El número de generaciones debe ser mayor o igual que 1.\"  \n",
    "    assert N >= 2 and not N % 2, \"El tamaño de la población debe ser par y mayor que 1.\"  \n",
    "    \n",
    "    def AssertProbability(p):\n",
    "        assert p>=0 and p<=1, \"La probabilidad debe estar entre 0 y 1.\"\n",
    "\n",
    "    AssertProbability(p_c)\n",
    "    AssertProbability(uniform_crossover_probability)\n",
    "    AssertProbability(arithmetic_crossover_probability)\n",
    "    AssertProbability(SBX_crossover_probability)    \n",
    "    assert uniform_crossover_probability + arithmetic_crossover_probability + SBX_crossover_probability == 1.0, \"Error en suma de probabilidades de cruce.\"\n",
    "    \n",
    "    AssertProbability(p_m)\n",
    "    AssertProbability(uniform_mutation_probability)\n",
    "    AssertProbability(small_mutation_probability)\n",
    "    AssertProbability(polynomial_mutation_probability)\n",
    "    assert uniform_mutation_probability + small_mutation_probability + polynomial_mutation_probability == 1.0, \"Error en suma de probabilidades de mutación.\"\n",
    "\n",
    "    n = L.size # Número de variables de decisión  \n",
    "    \n",
    "    # Crear población inicial con N individuos\n",
    "    P = [Individuo(n) for _ in range(N)]\n",
    "    InitializePopulation(P,L,U)\n",
    "    \n",
    "    # Evaluar población inicial\n",
    "    for I in P:\n",
    "        evaluate(I,f,g)\n",
    "    \n",
    "    # Crear población auxilar \n",
    "    Q = [Individuo(n) for _ in range(2*N)]\n",
    "    \n",
    "    # Evoluciona durante G generaciones\n",
    "    best_outputs_f,best_outputs_g,progression_bar = IniciaProgreso(P,G)    \n",
    "    for gen in range(1,G+1):\n",
    "        for i in range(N):\n",
    "            copia(Q[i],P[i])\n",
    "        i=N\n",
    "        while i < 2*N:\n",
    "            copia(Q[i],binary_tournament_selection(P))\n",
    "            copia(Q[i+1],binary_tournament_selection(P))\n",
    "            crossover(Q[i].x,Q[i+1].x,prob_cross,L,U)\n",
    "            mutation(Q[i].x,prob_mutation,L,U)\n",
    "            mutation(Q[i+1].x,prob_mutation,L,U)\n",
    "            evaluate(Q[i],f,g)\n",
    "            evaluate(Q[i+1],f,g)\n",
    "            i += 2  \n",
    "        R = heapq.nsmallest(N,Q)\n",
    "        for i in range(N):\n",
    "            copia(P[i],R[i])\n",
    "        ActualizaProgreso(P,gen,best_outputs_f,best_outputs_g,progression_bar)\n",
    "        # print([I.x for I in P])\n",
    "    best_individuo = min(P)\n",
    "    return best_outputs_f,best_outputs_g, best_individuo.f, best_individuo.g, best_individuo.x"
   ]
  },
  {
   "cell_type": "markdown",
   "id": "3c947df3-e6f3-48aa-bddf-dd987c0c8879",
   "metadata": {},
   "source": [
    "### Ejecución del algoritmo evolutivo"
   ]
  },
  {
   "cell_type": "code",
   "execution_count": 13,
   "id": "add3ee15",
   "metadata": {},
   "outputs": [
    {
     "name": "stderr",
     "output_type": "stream",
     "text": [
      "Generation: 10000 Objective: 6.805058389399289e-19 Feasibility: -3.6415315207705135e-13 : : 10001it [03:06, 53.72it/s]"
     ]
    },
    {
     "name": "stdout",
     "output_type": "stream",
     "text": [
      "x:  [1. 1.]\n",
      "f:  6.805058389399289e-19\n",
      "maxg:  -3.6415315207705135e-13\n",
      "CPU times: total: 2min 58s\n",
      "Wall time: 3min 6s\n"
     ]
    },
    {
     "name": "stderr",
     "output_type": "stream",
     "text": [
      "\n"
     ]
    }
   ],
   "source": [
    "%%time\n",
    "best_outputs_f, best_outputs_g, best_f, best_g, best_solution = EA(G,N,prob,f,g,L,U,random_state)\n",
    "print(\"x: \",best_solution)\n",
    "print(\"f: \",best_f)\n",
    "print(\"maxg: \",best_g)"
   ]
  },
  {
   "cell_type": "markdown",
   "id": "f56369b9",
   "metadata": {},
   "source": [
    "### Visualización de la evolución del algoritmo"
   ]
  },
  {
   "cell_type": "code",
   "execution_count": 14,
   "id": "257d4aa3",
   "metadata": {},
   "outputs": [
    {
     "data": {
      "image/png": "[encoded data removed]",
      "text/plain": [
       "<Figure size 432x288 with 1 Axes>"
      ]
     },
     "metadata": {
      "needs_background": "light"
     },
     "output_type": "display_data"
    },
    {
     "data": {
      "image/png": "[encoded data removed]",
      "text/plain": [
       "<Figure size 432x288 with 1 Axes>"
      ]
     },
     "metadata": {
      "needs_background": "light"
     },
     "output_type": "display_data"
    }
   ],
   "source": [
    "def VisualizaEvolucion(best_outputs,ylabel,file):\n",
    "    fig, ax = plt.subplots()\n",
    "    ax.set_title(\"Algorithm evolution\")\n",
    "    plt.plot(best_outputs)\n",
    "    plt.xlabel(\"Generation\")\n",
    "    plt.ylabel(ylabel)\n",
    "    #matplotlib.pyplot.savefig(file)    \n",
    "    plt.show()\n",
    "\n",
    "VisualizaEvolucion(best_outputs_f,\"$f$\",\"EvolutionMuLambdaObjective.png\")\n",
    "VisualizaEvolucion(best_outputs_g,\"$maxg$\",\"EvolutionMuLambdaMaxConstraint.png\")"
   ]
  }
 ],
 "metadata": {
  "kernelspec": {
   "display_name": "Python 3 (ipykernel)",
   "language": "python",
   "name": "python3"
  },
  "language_info": {
   "codemirror_mode": {
    "name": "ipython",
    "version": 3
   },
   "file_extension": ".py",
   "mimetype": "text/x-python",
   "name": "python",
   "nbconvert_exporter": "python",
   "pygments_lexer": "ipython3",
   "version": "3.8.10"
  }
 },
 "nbformat": 4,
 "nbformat_minor": 5
}
