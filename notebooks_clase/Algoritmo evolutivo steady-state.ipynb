{
 "cells": [
  {
   "cell_type": "markdown",
   "id": "39a89ea3",
   "metadata": {},
   "source": [
    "# Algoritmo evolutivo steady-state\n",
    "\n",
    "### Descripción\n",
    "\n",
    "<font size=\"4\"> Algoritmo evolutivo steady-state para optimización continua (minimización).\n",
    "\n",
    "### Componentes\n",
    "    \n",
    "- <font size=\"3\"> Representación real\n",
    "    \n",
    "- <font size=\"3\"> Selección por truncamiento\n",
    "    \n",
    "- <font size=\"3\"> Sustitución steady-state con truncamiento inverso\n",
    "    \n",
    "- <font size=\"3\"> Elitismo\n",
    "    \n",
    "- <font size=\"3\"> Cruce uniforme, aritmético y SBX\n",
    "    \n",
    "- <font size=\"3\"> Mutación uniforme, 'small' y polinomial \n",
    "    \n",
    "### Comentarios\n",
    "\n",
    "- <font size=\"3\"> No hay población auxiliar, sólo hay una población que se va actualizando.\n",
    "\n",
    "- <font size=\"3\"> Se requiere ordenar la población (por el truncamiento).\n",
    "\n",
    "- <font size=\"3\"> La selección de los individuos que mueren se hace por truncamiento inverso con muestreo estocástico con reemplazamiento.\n",
    "    \n",
    "---"
   ]
  },
  {
   "cell_type": "markdown",
   "id": "383f728d-5942-4be8-a0c6-e998abe550b1",
   "metadata": {},
   "source": [
    "### Requerimientos"
   ]
  },
  {
   "cell_type": "code",
   "execution_count": 1,
   "id": "2aa4f662",
   "metadata": {},
   "outputs": [],
   "source": [
    "import numpy as np\n",
    "import heapq \n",
    "from tqdm import tqdm\n",
    "import matplotlib.pyplot as plt\n",
    "import landscapes.single_objective as lso"
   ]
  },
  {
   "cell_type": "markdown",
   "id": "a266ae5e-bd79-4d8a-ac6b-1980d87efeda",
   "metadata": {},
   "source": [
    "### Parámetros del algoritmo evolutivo\n",
    "- $G$: Número de generaciones\n",
    "- $N$: Tamaño de la población\n",
    "- $random\\_state$: Semilla para reproducibilidad\n",
    "- $prob$: Probabilidades\n",
    "  - $prob\\_cross$: Probabilidades de cruce\n",
    "    - $p\\_c$: Probabilidad de cruce\n",
    "    - $uniform\\_crossover\\_probability$: Probabilidad de cruce uniforme\n",
    "    - $arithmetic\\_crossover\\_probability$: Probabilidad de cruce aritmético\n",
    "    - $SBX\\_crossover\\_probability$: Probabilidad de cruce SBX\n",
    "  - $prob\\_mutation$: Probabilidades de mutación\n",
    "    - $p\\_m$: Probabilidad de mutación\n",
    "    - $uniform\\_mutation\\_probability$: Probabilidad de mutación uniforme \n",
    "    - $small\\_mutation\\_probability$: Probabilidad de mutación small \n",
    "    - $polynomial\\_mutation\\_probability$: Probabilidad de mutación small \n",
    "    - $epsilon$: Máximo cambio en mutación small\n",
    "- $param$: Parámetros de la selección por truncamiento:\n",
    "    - $T$: Umbral de truncamiento\n",
    "    - $M$: Tamaño maximo de conjunto de sustitución"
   ]
  },
  {
   "cell_type": "code",
   "execution_count": 2,
   "id": "3b1ca6ab-50b4-4096-a0fa-9abfacaef671",
   "metadata": {},
   "outputs": [],
   "source": [
    "G = 1000\n",
    "N = 100\n",
    "random_state = 1\n",
    "\n",
    "p_c = 0.6\n",
    "uniform_crossover_probability = 1.0 \n",
    "arithmetic_crossover_probability = 0.0\n",
    "SBX_crossover_probability = 0.0\n",
    "\n",
    "p_m = 0.01\n",
    "uniform_mutation_probability = 1.0\n",
    "small_mutation_probability = 0.0\n",
    "polynomial_mutation_probability = 0.0\n",
    "epsilon = 1e-6\n",
    "\n",
    "prob_cross = p_c,uniform_crossover_probability,arithmetic_crossover_probability,SBX_crossover_probability\n",
    "prob_mutation = p_m,uniform_mutation_probability,small_mutation_probability,polynomial_mutation_probability,epsilon\n",
    "prob = prob_cross,prob_mutation\n",
    "\n",
    "T = 0.5\n",
    "M = 50\n",
    "param = T,M"
   ]
  },
  {
   "cell_type": "markdown",
   "id": "843a84f4",
   "metadata": {},
   "source": [
    "### Definición del problema de optimización\n",
    "- $L$: Límite inferior de espacio de búsqueda\n",
    "- $U$: Límite superior de espacio de búsqueda\n",
    "- $f$: Función objetivo"
   ]
  },
  {
   "cell_type": "code",
   "execution_count": 3,
   "id": "7d49a932",
   "metadata": {},
   "outputs": [],
   "source": [
    "def Rastrigin():\n",
    "    n = 20 # Número de variables de decisión  \n",
    "    L = np.full(n, -5.12)\n",
    "    U = np.full(n, 5.12)\n",
    "    f = lso.rastrigin\n",
    "    return L,U,f\n",
    "\n",
    "def Sphere():\n",
    "    n = 10 # Número de variables de decisión  \n",
    "    L = np.full(n, -5.12)\n",
    "    U = np.full(n,  5.12)    \n",
    "    f = lso.sphere\n",
    "    return L,U,f\n",
    "\n",
    "def Rosenbrock():\n",
    "    n = 5 # Número de variables de decisión  \n",
    "    L = np.full(n, -2.048)\n",
    "    U = np.full(n, 2.048)\n",
    "    f = lso.rosenbrock\n",
    "    return L,U,f\n",
    "\n",
    "L,U,f = Rastrigin()\n",
    "# L,U,f = Sphere()\n",
    "# L,U,f = Rosenbrock()"
   ]
  },
  {
   "cell_type": "markdown",
   "id": "94c4780a",
   "metadata": {},
   "source": [
    "### Definición de individuo"
   ]
  },
  {
   "cell_type": "code",
   "execution_count": 4,
   "id": "a8187c76",
   "metadata": {},
   "outputs": [],
   "source": [
    "class Individuo:\n",
    "    def __init__(self,n):\n",
    "        self.x = np.zeros(n)\n",
    "        self.f = 0.0\n",
    "    def __lt__(self, ind):\n",
    "        return self.f < ind.f"
   ]
  },
  {
   "cell_type": "markdown",
   "id": "ea1fabc9-3b1b-4551-a68e-139fa0a36a20",
   "metadata": {},
   "source": [
    "### Inicialización de la población"
   ]
  },
  {
   "cell_type": "code",
   "execution_count": 5,
   "id": "0a998b40-aea9-4167-8530-56ec02ea12d7",
   "metadata": {},
   "outputs": [],
   "source": [
    "def InitializePopulation(P,L,U):\n",
    "    n = L.size\n",
    "    for I in P:\n",
    "        I.x[:] = np.random.uniform(L, U, n)"
   ]
  },
  {
   "cell_type": "markdown",
   "id": "31e56508-d1e2-4187-b1a7-7bc5a511cf71",
   "metadata": {},
   "source": [
    "### Función de evaluación"
   ]
  },
  {
   "cell_type": "code",
   "execution_count": 6,
   "id": "0fb5e737-12e0-45ff-9bdc-b90df8e7ba47",
   "metadata": {},
   "outputs": [],
   "source": [
    "def evaluate(I,f):           \n",
    "    I.f = f(I.x)"
   ]
  },
  {
   "cell_type": "markdown",
   "id": "c860c3b3-2a41-4efb-8230-3da1fb2ce21b",
   "metadata": {},
   "source": [
    "### Copia de individuo"
   ]
  },
  {
   "cell_type": "code",
   "execution_count": 7,
   "id": "d26359b9-8413-4ef2-912d-972a600b4a11",
   "metadata": {},
   "outputs": [],
   "source": [
    "def copia(I1, I2):\n",
    "    np.copyto(I1.x, I2.x)\n",
    "    I1.f = I2.f   "
   ]
  },
  {
   "cell_type": "markdown",
   "id": "22d2e9b3",
   "metadata": {},
   "source": [
    "### Selección por truncamiento"
   ]
  },
  {
   "cell_type": "code",
   "execution_count": 8,
   "id": "18210ed7",
   "metadata": {},
   "outputs": [],
   "source": [
    "def selection(P,T):\n",
    "    return P[np.random.randint(T*len(P))]"
   ]
  },
  {
   "cell_type": "markdown",
   "id": "83bfeabc-ca5b-4758-a66c-743c710dc2aa",
   "metadata": {},
   "source": [
    "### Selección por truncamiento inverso"
   ]
  },
  {
   "cell_type": "code",
   "execution_count": 9,
   "id": "409fefa3-4c6f-4507-b0fc-a4b65aa5077f",
   "metadata": {},
   "outputs": [],
   "source": [
    "def inverted_selection(P,T):\n",
    "    return P[np.random.randint(T*len(P),len(P))]"
   ]
  },
  {
   "cell_type": "markdown",
   "id": "0721c2ed",
   "metadata": {},
   "source": [
    "### Cruce\n",
    "- Cruce con probabilidad $p\\_c$ y:\n",
    "    - cruce uniforme (con probabilidad $uniform\\_crossover\\_probability$)\n",
    "    - cruce aritmético (con probabilidad $arithmetic\\_crossover\\_probability$)\n",
    "    - cruce SBX en otro caso"
   ]
  },
  {
   "cell_type": "code",
   "execution_count": 10,
   "id": "c67ca7a2",
   "metadata": {},
   "outputs": [],
   "source": [
    "def uniform_crossover(x1,x2):\n",
    "    for l in range(x1.size):\n",
    "        if np.random.random()<=0.5:\n",
    "            x1[l], x2[l] = x2[l], x1[l] \n",
    "            \n",
    "def arithmetic_crossover(x1,x2):\n",
    "    alpha = np.random.random()\n",
    "    x1[:], x2[:] = alpha*x1+(1-alpha)*x2, alpha*x2+(1-alpha)*x1\n",
    "        \n",
    "def SBX_crossover(x1,x2,L,U):\n",
    "    eta = 10\n",
    "    u = np.random.rand()\n",
    "    if u <= 0.5:\n",
    "        beta = (2 * u) ** (1 / (eta + 1))\n",
    "    else:\n",
    "        beta = (1 / (2 * (1 - u))) ** (1 / (eta + 1))    \n",
    "    x1[:], x2[:] = 0.5*((1+beta)*x1+(1-beta)*x2), 0.5 *((1-beta)*x1+(1+beta)*x2)\n",
    "    x1[:], x2[:] = np.clip(x1,L,U), np.clip(x2,L,U)\n",
    "    \n",
    "def crossover(x1,x2,prob_cross,L,U): \n",
    "    p_c,uniform_crossover_probability,arithmetic_crossover_probability,SBX_crossover_probability = prob_cross\n",
    "    if np.random.random()<=p_c:\n",
    "        r = np.random.random()\n",
    "        if r<=uniform_crossover_probability:\n",
    "            uniform_crossover(x1,x2)\n",
    "        elif r<=uniform_crossover_probability+arithmetic_crossover_probability:\n",
    "            arithmetic_crossover(x1,x2)\n",
    "        else:\n",
    "            SBX_crossover(x1,x2,L,U)"
   ]
  },
  {
   "cell_type": "markdown",
   "id": "42726f6e",
   "metadata": {},
   "source": [
    "### Mutación\n",
    "- Mutación con probabilidad $p\\_m$ y:\n",
    "    - mutación uniforme numerica (con probabilidad $uniform\\_mutation\\_probability$)\n",
    "    - mutación small (con probabilidad $small\\_mutation\\_probability$) \n",
    "    - mutación polinomial en otro caso"
   ]
  },
  {
   "cell_type": "code",
   "execution_count": 11,
   "id": "8297d8bd",
   "metadata": {},
   "outputs": [],
   "source": [
    "def uniform_mutation(x,p_m,L,U):\n",
    "    for l in range(x.size):\n",
    "        if np.random.random()<=p_m:\n",
    "            x[l] = np.random.uniform(L[l],U[l])\n",
    "    \n",
    "def small_mutation(x,p_m,epsilon,L,U):\n",
    "    for l in range(x.size):\n",
    "        if np.random.random()<=p_m:\n",
    "            if np.random.random()<=0.5:\n",
    "                x[l] += np.random.uniform(0,epsilon)\n",
    "            else:\n",
    "                x[l] -= np.random.uniform(0,epsilon)\n",
    "    x[:] = np.clip(x,L,U)\n",
    "                \n",
    "def polynomial_mutation(x,p_m,L,U):\n",
    "    eta_m = 20\n",
    "    for l in range(x.size):\n",
    "        if np.random.random()<=p_m:\n",
    "            u = np.random.random()\n",
    "            if u<=0.5:\n",
    "                 x[l] += ((2*u)**(1/(1+eta_m))-1)*(x[l]-L[l])\n",
    "            else:\n",
    "                 x[l] += (1-(2*(1-u))**(1/(1+eta_m)))*(U[l]-x[l])\n",
    "    x[:] = np.clip(x,L,U)\n",
    "                \n",
    "def mutation(x,prob_mutation,L,U):\n",
    "    p_m,uniform_mutation_probability,small_mutation_probability,polynomial_mutation_probability,epsilon = prob_mutation\n",
    "    r = np.random.random()\n",
    "    if r<=uniform_mutation_probability:\n",
    "        uniform_mutation(x,p_m,L,U)\n",
    "    elif r<=uniform_mutation_probability+small_mutation_probability:\n",
    "        small_mutation(x,p_m,epsilon,L,U)\n",
    "    else:\n",
    "        polynomial_mutation(x,p_m,L,U)"
   ]
  },
  {
   "cell_type": "markdown",
   "id": "5628c334-b803-4487-b31f-a8ba0b9a8531",
   "metadata": {},
   "source": [
    "### Progreso del algoritmo"
   ]
  },
  {
   "cell_type": "code",
   "execution_count": 12,
   "id": "08d5d60c-28a9-4ec8-9c32-57b47943a1e7",
   "metadata": {},
   "outputs": [],
   "source": [
    "def IniciaProgreso(P,G):\n",
    "    best_outputs = [0]*(G+1) # Para visualizar la gráfica de evolución al final    \n",
    "    progression_bar = tqdm()\n",
    "    ActualizaProgreso(P,0,best_outputs,progression_bar)    \n",
    "    return best_outputs,progression_bar\n",
    "    \n",
    "def ActualizaProgreso(P,gen,best_outputs,progression_bar):\n",
    "    best_fitness = min(P).f\n",
    "    progression_bar.set_description(\"Generation: %s Fitness: %s \" % (str(gen), str(best_fitness)))\n",
    "    best_outputs[gen] = best_fitness # Añadir mejor fitness (para visualización)\n",
    "    progression_bar.update(1)"
   ]
  },
  {
   "cell_type": "markdown",
   "id": "60442801",
   "metadata": {},
   "source": [
    "### Algoritmo evolutivo"
   ]
  },
  {
   "cell_type": "code",
   "execution_count": 13,
   "id": "2b18b2d3",
   "metadata": {},
   "outputs": [],
   "source": [
    "def EA(G,N,prob,param,f,L,U,random_state):\n",
    "    \n",
    "    np.random.seed(random_state)\n",
    "    \n",
    "    prob_cross,prob_mutation = prob\n",
    "    p_c,uniform_crossover_probability,arithmetic_crossover_probability,SBX_crossover_probability = prob_cross\n",
    "    p_m,uniform_mutation_probability,small_mutation_probability,polynomial_mutation_probability,epsilon = prob_mutation\n",
    "    \n",
    "    T,M = param\n",
    "    \n",
    "    # Aserciones\n",
    "    \n",
    "    assert G >= 1, \"El número de generaciones debe ser mayor o igual que 1.\"  \n",
    "    assert N >= 2 and not N % 2, \"El tamaño de la población debe ser par y mayor que 1.\"  \n",
    "    \n",
    "    def AssertProbability(p):\n",
    "        assert p>=0 and p<=1, \"La probabilidad debe estar entre 0 y 1.\"\n",
    "\n",
    "    AssertProbability(p_c)\n",
    "    AssertProbability(uniform_crossover_probability)\n",
    "    AssertProbability(arithmetic_crossover_probability)\n",
    "    AssertProbability(SBX_crossover_probability)    \n",
    "    assert uniform_crossover_probability + arithmetic_crossover_probability + SBX_crossover_probability == 1.0, \"Error en suma de probabilidades de cruce.\"\n",
    "    \n",
    "    AssertProbability(p_m)\n",
    "    AssertProbability(uniform_mutation_probability)\n",
    "    AssertProbability(small_mutation_probability)\n",
    "    AssertProbability(polynomial_mutation_probability)\n",
    "    assert uniform_mutation_probability + small_mutation_probability + polynomial_mutation_probability == 1.0, \"Error en suma de probabilidades de mutación.\"\n",
    "    \n",
    "    assert T >= 1/N and T <= 1, \"T debe estar en [1/N,1].\"  \n",
    "    assert M >0 and not M % 2, \"El número de sustituciones debe ser par y mayor que 0.\"  \n",
    "    assert M >= 1 and M <= N, \"El número de sustituciones debe estar en [1,N].\"  \n",
    "    assert M <= N-T*N, \"El número de sustituciones debe ser menor que el tamaño de la población menos el número de padres.\" \n",
    "    \n",
    "    n = L.size # Número de variables de decisión  \n",
    "    \n",
    "    # Crear población inicial con N individuos\n",
    "    P = [Individuo(n) for _ in range(N)]\n",
    "    InitializePopulation(P,L,U)\n",
    "    \n",
    "    # Evaluar población inicial\n",
    "    for I in P:\n",
    "        evaluate(I,f)\n",
    "    \n",
    "    # Crear población auxilar \n",
    "    Q = [Individuo(n) for _ in range(M)]\n",
    "        \n",
    "    P.sort()            \n",
    "    \n",
    "    # Evoluciona durante G generaciones\n",
    "    best_outputs, progression_bar = IniciaProgreso(P,G)    \n",
    "    for gen in range(1,G+1):\n",
    "        i = 0\n",
    "        while i < M:\n",
    "            copia(Q[i],selection(P,T))\n",
    "            copia(Q[i+1],selection(P,T))\n",
    "            crossover(Q[i].x,Q[i+1].x,prob_cross,L,U)\n",
    "            mutation(Q[i].x,prob_mutation,L,U)\n",
    "            mutation(Q[i+1].x,prob_mutation,L,U)\n",
    "            i += 2\n",
    "        # Sustituir población con truncamiento inverso \n",
    "        for I in Q:\n",
    "            evaluate(I,f)\n",
    "            dead = inverted_selection(P,T)\n",
    "            if I < dead:\n",
    "                copia(dead,I)\n",
    "        P.sort()            \n",
    "        ActualizaProgreso(P,gen,best_outputs,progression_bar)\n",
    "    best_individuo = P[0]\n",
    "    return best_outputs, best_individuo.f, best_individuo.x"
   ]
  },
  {
   "cell_type": "markdown",
   "id": "d8a37a96",
   "metadata": {},
   "source": [
    "### Ejecución del algoritmo evolutivo"
   ]
  },
  {
   "cell_type": "code",
   "execution_count": 14,
   "id": "add3ee15",
   "metadata": {},
   "outputs": [
    {
     "name": "stderr",
     "output_type": "stream",
     "text": [
      "Generation: 1000 Fitness: 1.6693911174641016 : : 1001it [00:03, 264.97it/s]"
     ]
    },
    {
     "name": "stdout",
     "output_type": "stream",
     "text": [
      "x:  [ 0.01090979  0.00301135 -0.00274135 -0.00674764 -0.01336578  0.00452392\n",
      " -0.01653636 -0.03210468 -0.00468824 -0.01399358 -0.04289684 -0.01482984\n",
      " -0.02599251 -0.01032882  0.00863957  0.00117131  0.00018434 -0.02044934\n",
      " -0.05539728  0.01245299]\n",
      "f:  1.6693911174641016\n",
      "CPU times: total: 3.56 s\n",
      "Wall time: 3.8 s\n"
     ]
    },
    {
     "name": "stderr",
     "output_type": "stream",
     "text": [
      "\n"
     ]
    }
   ],
   "source": [
    "%%time\n",
    "best_outputs, best_fitness, best_solution = EA(G,N,prob,param,f,L,U,random_state)\n",
    "print(\"x: \",best_solution)\n",
    "print(\"f: \",best_fitness)"
   ]
  },
  {
   "cell_type": "markdown",
   "id": "f56369b9",
   "metadata": {},
   "source": [
    "### Visualización de la evolución del algoritmo"
   ]
  },
  {
   "cell_type": "code",
   "execution_count": 15,
   "id": "257d4aa3",
   "metadata": {},
   "outputs": [
    {
     "data": {
      "image/png": "[encoded data removed]",
      "text/plain": [
       "<Figure size 432x288 with 1 Axes>"
      ]
     },
     "metadata": {
      "needs_background": "light"
     },
     "output_type": "display_data"
    }
   ],
   "source": [
    "def VisualizaEvolucion(best_outputs):\n",
    "    fig, ax = plt.subplots()\n",
    "    ax.set_title(\"Algorithm evolution\")\n",
    "    plt.plot(best_outputs)\n",
    "    plt.xlabel(\"Generation\")\n",
    "    plt.ylabel(\"Fitness\")\n",
    "    plt.show()\n",
    "    \n",
    "VisualizaEvolucion(best_outputs)"
   ]
  }
 ],
 "metadata": {
  "kernelspec": {
   "display_name": "Python 3 (ipykernel)",
   "language": "python",
   "name": "python3"
  },
  "language_info": {
   "codemirror_mode": {
    "name": "ipython",
    "version": 3
   },
   "file_extension": ".py",
   "mimetype": "text/x-python",
   "name": "python",
   "nbconvert_exporter": "python",
   "pygments_lexer": "ipython3",
   "version": "3.8.10"
  }
 },
 "nbformat": 4,
 "nbformat_minor": 5
}
