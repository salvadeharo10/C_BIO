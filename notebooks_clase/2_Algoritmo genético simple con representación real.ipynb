{
 "cells": [
  {
   "cell_type": "markdown",
   "id": "39a89ea3",
   "metadata": {},
   "source": [
    "# Algoritmo genético simple con representación real\n",
    "\n",
    "### Descripción\n",
    "\n",
    "<font size=\"4\"> Algoritmo evolutivo con representación real para optimización continua (minimización).\n",
    " \n",
    "### Componentes\n",
    "    \n",
    "- <font size=\"3\"> Representación real\n",
    "\n",
    "- <font size=\"3\"> Selección proporcional\n",
    "    \n",
    "- <font size=\"3\"> Muestreo estocástico con reemplazamiento\n",
    "\n",
    "- <font size=\"3\"> Sustitución generacional completa\n",
    "    \n",
    "- <font size=\"3\"> Elitismo    \n",
    "    \n",
    "- <font size=\"3\"> Cruce uniforme, aritmético y SBX\n",
    "    \n",
    "- <font size=\"3\"> Mutación uniforme, 'small' y polinomial \n",
    "\n",
    "### Notas de implementación\n",
    "    \n",
    "- <font size=\"3\"> La selección proporcional está diseñada para maximización, con $f({\\bf x})\\geq 0$. Para que el algoritmo sea de minimización se requiere transformar el fitness. En este algoritmo se ha hecho una transformación lineal de la siguiente forma:\n",
    "\n",
    "    $$f'({\\bf x})= C- f({\\bf x}) $$\n",
    "\n",
    "    <font size=\"3\"> donde $C$ es un valor ligeramente superior al máximo valor de $f({\\bf x})$ en la población actual:\n",
    "\n",
    "    $$ C=\\max_{{\\bf x}\\in P}\\{f({\\bf x})\\}+\\epsilon$$\n",
    "        \n",
    "    \n",
    "### Comentarios adicionales\n",
    "\n",
    "- <font size=\"3\"> No hay que ordenar la población.\n",
    "\n",
    "- <font size=\"3\"> Se requiere calcular el máximo de la población para la transformación lineal.\n",
    "\n",
    "- <font size=\"3\"> Se requiere calcular el mínimo de la población para el elitismo.\n",
    "    \n",
    "- <font size=\"3\"> Presión selectiva alta.\n",
    "\n",
    "---"
   ]
  },
  {
   "cell_type": "markdown",
   "id": "cfd84040-4ada-49ed-a72b-cb95a4c02a7a",
   "metadata": {
    "tags": []
   },
   "source": [
    "### Requerimientos"
   ]
  },
  {
   "cell_type": "code",
   "execution_count": 1,
   "id": "2aa4f662",
   "metadata": {},
   "outputs": [],
   "source": [
    "import numpy as np\n",
    "from tqdm import tqdm\n",
    "import matplotlib.pyplot as plt\n",
    "import landscapes.single_objective as lso"
   ]
  },
  {
   "cell_type": "markdown",
   "id": "e802241e",
   "metadata": {},
   "source": [
    "### Parámetros del algoritmo evolutivo\n",
    "- $G$: Número de generaciones\n",
    "- $N$: Tamaño de la población\n",
    "- $random\\_state$: Semilla para reproducibilidad\n",
    "- $prob$: Probabilidades\n",
    "  - $prob\\_cross$: Probabilidades de cruce\n",
    "    - $p\\_c$: Probabilidad de cruce\n",
    "    - $uniform\\_crossover\\_probability$: Probabilidad de cruce uniforme\n",
    "    - $arithmetic\\_crossover\\_probability$: Probabilidad de cruce aritmético\n",
    "    - $SBX\\_crossover\\_probability$: Probabilidad de cruce SBX\n",
    "  - $prob\\_mutation$: Probabilidades de mutación\n",
    "    - $p\\_m$: Probabilidad de mutación\n",
    "    - $uniform\\_mutation\\_probability$: Probabilidad de mutación uniforme \n",
    "    - $small\\_mutation\\_probability$: Probabilidad de mutación small \n",
    "    - $polynomial\\_mutation\\_probability$: Probabilidad de mutación small \n",
    "    - $epsilon$: Máximo cambio en mutación small"
   ]
  },
  {
   "cell_type": "code",
   "execution_count": 2,
   "id": "7a4c1cd7-f236-4dfb-8bec-ce6b1e7e982e",
   "metadata": {},
   "outputs": [],
   "source": [
    "G = 1000\n",
    "N = 100\n",
    "random_state = 1\n",
    "\n",
    "p_c = 0.6\n",
    "uniform_crossover_probability = 1.0 \n",
    "arithmetic_crossover_probability = 0.0\n",
    "SBX_crossover_probability = 0.0\n",
    "\n",
    "p_m = 0.01\n",
    "uniform_mutation_probability = 1.0\n",
    "small_mutation_probability = 0.0\n",
    "polynomial_mutation_probability = 0.0\n",
    "epsilon = 1e-6\n",
    "\n",
    "prob_cross = p_c,uniform_crossover_probability,arithmetic_crossover_probability,SBX_crossover_probability\n",
    "prob_mutation = p_m,uniform_mutation_probability,small_mutation_probability,polynomial_mutation_probability,epsilon\n",
    "prob = prob_cross,prob_mutation"
   ]
  },
  {
   "cell_type": "markdown",
   "id": "843a84f4",
   "metadata": {},
   "source": [
    "### Definición del problema de optimización\n",
    "- $L$: Límite inferior de espacio de búsqueda\n",
    "- $U$: Límite superior de espacio de búsqueda\n",
    "- $f$: Función objetivo"
   ]
  },
  {
   "cell_type": "code",
   "execution_count": 3,
   "id": "7d49a932",
   "metadata": {},
   "outputs": [],
   "source": [
    "def Rastrigin():\n",
    "    n = 20 # Número de variables de decisión  \n",
    "    L = np.full(n, -5.12)\n",
    "    U = np.full(n, 5.12)\n",
    "    f = lso.rastrigin\n",
    "    return L,U,f\n",
    "\n",
    "def Sphere():\n",
    "    n = 10 # Número de variables de decisión  \n",
    "    L = np.full(n, -5.12)\n",
    "    U = np.full(n,  5.12)    \n",
    "    f = lso.sphere\n",
    "    return L,U,f\n",
    "\n",
    "def Rosenbrock():\n",
    "    n = 5 # Número de variables de decisión  \n",
    "    L = np.full(n, -2.048)\n",
    "    U = np.full(n, 2.048)\n",
    "    f = lso.rosenbrock\n",
    "    return L,U,f\n",
    "\n",
    "L,U,f = Rastrigin()\n",
    "# L,U,f = Sphere()\n",
    "# L,U,f = Rosenbrock()"
   ]
  },
  {
   "cell_type": "markdown",
   "id": "94c4780a",
   "metadata": {},
   "source": [
    "### Definición de individuo"
   ]
  },
  {
   "cell_type": "code",
   "execution_count": 4,
   "id": "a8187c76",
   "metadata": {},
   "outputs": [],
   "source": [
    "class Individuo:\n",
    "    def __init__(self,n):\n",
    "        self.x = np.zeros(n)\n",
    "        self.f = 0.0\n",
    "    def __lt__(self, ind):\n",
    "        return self.f < ind.f"
   ]
  },
  {
   "cell_type": "markdown",
   "id": "b18d0d7a",
   "metadata": {},
   "source": [
    "### Inicialización de la población"
   ]
  },
  {
   "cell_type": "code",
   "execution_count": 5,
   "id": "dd0f4001",
   "metadata": {},
   "outputs": [],
   "source": [
    "def InitializePopulation(P,L,U):\n",
    "    for I in P:\n",
    "        I.x[:] = np.random.uniform(L, U, I.x.size)"
   ]
  },
  {
   "cell_type": "markdown",
   "id": "f01f7140-df5f-4fb2-9152-5362bad7e4b9",
   "metadata": {},
   "source": [
    "### Función de evaluación"
   ]
  },
  {
   "cell_type": "code",
   "execution_count": 6,
   "id": "b2a759c9-9fe9-4bf1-8219-d1e7da41472e",
   "metadata": {},
   "outputs": [],
   "source": [
    "def evaluate(I,f):           \n",
    "    I.f = f(I.x)"
   ]
  },
  {
   "cell_type": "markdown",
   "id": "29019e37-0ceb-4e70-8239-e3e14f92a0d5",
   "metadata": {},
   "source": [
    "### Copia de individuo"
   ]
  },
  {
   "cell_type": "code",
   "execution_count": 7,
   "id": "b9db3053-380e-47c1-bd64-56373306291b",
   "metadata": {},
   "outputs": [],
   "source": [
    "def copia(I1, I2):\n",
    "    np.copyto(I1.x, I2.x)\n",
    "    I1.f = I2.f   "
   ]
  },
  {
   "cell_type": "markdown",
   "id": "22d2e9b3",
   "metadata": {},
   "source": [
    "### Cálculo de las probabilidades acumuladas"
   ]
  },
  {
   "cell_type": "code",
   "execution_count": 8,
   "id": "18210ed7",
   "metadata": {},
   "outputs": [],
   "source": [
    "def calculate_cumulative_probabilities(cumulative_probabilities,P,N):\n",
    "    C = max(P).f+1e-6 # Para transformación lineal\n",
    "    sum_fitness = sum(C-I.f for I in P) # se usa C-f ya que el algoritmo es para minimización\n",
    "    cumulative_probabilities[0] = (C-P[0].f)/sum_fitness\n",
    "    for i in range(1,N):\n",
    "        cumulative_probabilities[i] = cumulative_probabilities[i-1] + (C-P[i].f)/sum_fitness"
   ]
  },
  {
   "cell_type": "markdown",
   "id": "5b34b75a-6659-4443-aa8c-af23c29d4731",
   "metadata": {},
   "source": [
    "### Selección proporcional y muestreo estocástico con reemplazamiento (rueda de ruleta)"
   ]
  },
  {
   "cell_type": "code",
   "execution_count": 9,
   "id": "9d45ece4-4f19-4f3b-b67b-319d74dfd922",
   "metadata": {},
   "outputs": [],
   "source": [
    "def selection(P,cumulative_probabilities):\n",
    "    r = np.random.random()\n",
    "    i = 0\n",
    "    while (cumulative_probabilities[i]<r):\n",
    "        i += 1 \n",
    "    return P[i]"
   ]
  },
  {
   "cell_type": "markdown",
   "id": "0721c2ed",
   "metadata": {},
   "source": [
    "### Cruce\n",
    "- Cruce con probabilidad $p\\_c$ y:\n",
    "    - cruce uniforme (con probabilidad $uniform\\_crossover\\_probability$) \n",
    "    - cruce aritmético (con probabilidad $arithmetic\\_crossover\\_probability$)\n",
    "    - cruce SBX en otro caso"
   ]
  },
  {
   "cell_type": "code",
   "execution_count": 10,
   "id": "c67ca7a2",
   "metadata": {},
   "outputs": [],
   "source": [
    "def uniform_crossover(x1,x2):\n",
    "    for l in range(x1.size):\n",
    "        if np.random.random()<=0.5:\n",
    "            x1[l], x2[l] = x2[l], x1[l] \n",
    "            \n",
    "def arithmetic_crossover(x1,x2):\n",
    "    alpha = np.random.random()\n",
    "    x1[:], x2[:] = alpha*x1+(1-alpha)*x2, alpha*x2+(1-alpha)*x1\n",
    "        \n",
    "def SBX_crossover(x1,x2,L,U):\n",
    "    eta = 10\n",
    "    u = np.random.rand()\n",
    "    if u <= 0.5:\n",
    "        beta = (2 * u) ** (1 / (eta + 1))\n",
    "    else:\n",
    "        beta = (1 / (2 * (1 - u))) ** (1 / (eta + 1))    \n",
    "    x1[:], x2[:] = 0.5*((1+beta)*x1+(1-beta)*x2), 0.5 *((1-beta)*x1+(1+beta)*x2)\n",
    "    x1[:], x2[:] = np.clip(x1,L,U), np.clip(x2,L,U)\n",
    "    \n",
    "def crossover(x1,x2,prob_cross,L,U): \n",
    "    p_c,uniform_crossover_probability,arithmetic_crossover_probability,SBX_crossover_probability = prob_cross\n",
    "    if np.random.random()<=p_c:\n",
    "        r = np.random.random()\n",
    "        if r<=uniform_crossover_probability:\n",
    "            uniform_crossover(x1,x2)\n",
    "        elif r<=uniform_crossover_probability+arithmetic_crossover_probability:\n",
    "            arithmetic_crossover(x1,x2)\n",
    "        else:\n",
    "            SBX_crossover(x1,x2,L,U)"
   ]
  },
  {
   "cell_type": "markdown",
   "id": "42726f6e",
   "metadata": {},
   "source": [
    "### Mutación\n",
    "- Mutación con probabilidad $p\\_m$ y:\n",
    "    - mutación uniforme numerica (con probabilidad $uniform\\_mutation\\_probability$)\n",
    "    - mutación small (con probabilidad $small\\_mutation\\_probability$) \n",
    "    - mutación polinomial en otro caso"
   ]
  },
  {
   "cell_type": "code",
   "execution_count": 11,
   "id": "8297d8bd",
   "metadata": {},
   "outputs": [],
   "source": [
    "def uniform_mutation(x,p_m,L,U):\n",
    "    for l in range(x.size):\n",
    "        if np.random.random()<=p_m:\n",
    "            x[l] = np.random.uniform(L[l],U[l])\n",
    "    \n",
    "def small_mutation(x,p_m,epsilon,L,U):\n",
    "    for l in range(x.size):\n",
    "        if np.random.random()<=p_m:\n",
    "            if np.random.random()<=0.5:\n",
    "                x[l] += np.random.uniform(0,epsilon)\n",
    "            else:\n",
    "                x[l] -= np.random.uniform(0,epsilon)\n",
    "    x[:] = np.clip(x,L,U)\n",
    "                \n",
    "def polynomial_mutation(x,p_m,L,U):\n",
    "    eta_m = 20\n",
    "    for l in range(x.size):\n",
    "        if np.random.random()<=p_m:\n",
    "            u = np.random.random()\n",
    "            if u<=0.5:\n",
    "                 x[l] += ((2*u)**(1/(1+eta_m))-1)*(x[l]-L[l])\n",
    "            else:\n",
    "                 x[l] += (1-(2*(1-u))**(1/(1+eta_m)))*(U[l]-x[l])\n",
    "    x[:] = np.clip(x,L,U)\n",
    "                \n",
    "def mutation(x,prob_mutation,L,U):\n",
    "    p_m,uniform_mutation_probability,small_mutation_probability,polynomial_mutation_probability,epsilon = prob_mutation\n",
    "    r = np.random.random()\n",
    "    if r<=uniform_mutation_probability:\n",
    "        uniform_mutation(x,p_m,L,U)\n",
    "    elif r<=uniform_mutation_probability+small_mutation_probability:\n",
    "        small_mutation(x,p_m,epsilon,L,U)\n",
    "    else:\n",
    "        polynomial_mutation(x,p_m,L,U)"
   ]
  },
  {
   "cell_type": "markdown",
   "id": "acab7f41-ece2-42d9-b7bd-86b530d4da78",
   "metadata": {},
   "source": [
    "### Progreso del algoritmo"
   ]
  },
  {
   "cell_type": "code",
   "execution_count": 12,
   "id": "54f4b696-2ffa-4b1c-b056-53e7c76fd985",
   "metadata": {},
   "outputs": [],
   "source": [
    "def IniciaProgreso(P,G):\n",
    "    best_outputs = [0]*(G+1) # Para visualizar la gráfica de evolución al final    \n",
    "    progression_bar = tqdm()\n",
    "    ActualizaProgreso(P,0,best_outputs,progression_bar)    \n",
    "    return best_outputs,progression_bar\n",
    "    \n",
    "def ActualizaProgreso(P,gen,best_outputs,progression_bar):\n",
    "    best_fitness = min(P).f\n",
    "    progression_bar.set_description(\"Generation: %s Fitness: %s \" % (str(gen), str(best_fitness)))\n",
    "    best_outputs[gen] = best_fitness # Añadir mejor fitness (para visualización)\n",
    "    progression_bar.update(1)"
   ]
  },
  {
   "cell_type": "markdown",
   "id": "60442801",
   "metadata": {},
   "source": [
    "### Algoritmo evolutivo"
   ]
  },
  {
   "cell_type": "code",
   "execution_count": 13,
   "id": "2b18b2d3",
   "metadata": {},
   "outputs": [],
   "source": [
    "def EA(G,N,prob,f,L,U,random_state):\n",
    "    \n",
    "    np.random.seed(random_state)\n",
    "    \n",
    "    prob_cross,prob_mutation = prob\n",
    "    p_c,uniform_crossover_probability,arithmetic_crossover_probability,SBX_crossover_probability = prob_cross\n",
    "    p_m,uniform_mutation_probability,small_mutation_probability,polynomial_mutation_probability,epsilon = prob_mutation\n",
    "    \n",
    "    # Aserciones\n",
    "    \n",
    "    assert G >= 1, \"El número de generaciones debe ser mayor o igual que 1.\"  \n",
    "    assert N >= 2 and not N % 2, \"El tamaño de la población debe ser par y mayor que 1.\"  \n",
    "    \n",
    "    def AssertProbability(p):\n",
    "        assert p>=0 and p<=1, \"La probabilidad debe estar entre 0 y 1.\"\n",
    "\n",
    "    AssertProbability(p_c)\n",
    "    AssertProbability(uniform_crossover_probability)\n",
    "    AssertProbability(arithmetic_crossover_probability)\n",
    "    AssertProbability(SBX_crossover_probability)    \n",
    "    assert uniform_crossover_probability + arithmetic_crossover_probability + SBX_crossover_probability == 1.0, \"Error en suma de probabilidades de cruce.\"\n",
    "    \n",
    "    AssertProbability(p_m)\n",
    "    AssertProbability(uniform_mutation_probability)\n",
    "    AssertProbability(small_mutation_probability)\n",
    "    AssertProbability(polynomial_mutation_probability)\n",
    "    assert uniform_mutation_probability + small_mutation_probability + polynomial_mutation_probability == 1.0, \"Error en suma de probabilidades de mutación.\"\n",
    "\n",
    "    cumulative_probabilities = np.zeros(N)\n",
    "    \n",
    "    n = L.size # Número de variables de decisión  \n",
    "    \n",
    "    # Crear población inicial con N individuos\n",
    "    P = [Individuo(n) for _ in range(N)]\n",
    "    InitializePopulation(P,L,U)\n",
    "    \n",
    "    # Evaluar población inicial\n",
    "    for I in P:\n",
    "        evaluate(I,f)\n",
    "    \n",
    "    # Crear población auxilar \n",
    "    Q = [Individuo(n) for _ in range(N)]\n",
    "    \n",
    "    # Para Elitismo    \n",
    "    best_individuo = min(P)\n",
    "\n",
    "    # Evoluciona durante G generaciones\n",
    "    best_outputs, progression_bar = IniciaProgreso(P,G)    \n",
    "    for gen in range(1,G+1):\n",
    "        calculate_cumulative_probabilities(cumulative_probabilities,P,N)\n",
    "        i = 0\n",
    "        while i < N:\n",
    "            copia(Q[i],selection(P,cumulative_probabilities))\n",
    "            copia(Q[i+1],selection(P,cumulative_probabilities))\n",
    "            crossover(Q[i].x,Q[i+1].x,prob_cross,L,U)\n",
    "            mutation(Q[i].x,prob_mutation,L,U)\n",
    "            mutation(Q[i+1].x,prob_mutation,L,U)\n",
    "            i += 2 \n",
    "        copia(P[0],best_individuo) # Para Elitismo\n",
    "        for i in range(1,N):\n",
    "            copia(P[i],Q[i])\n",
    "            evaluate(P[i],f)\n",
    "        best_individuo = min(P)\n",
    "        ActualizaProgreso(P,gen,best_outputs,progression_bar)\n",
    "    return best_outputs, best_individuo.f, best_individuo.x"
   ]
  },
  {
   "cell_type": "markdown",
   "id": "d8a37a96",
   "metadata": {},
   "source": [
    "### Ejecución del algoritmo evolutivo"
   ]
  },
  {
   "cell_type": "code",
   "execution_count": 14,
   "id": "add3ee15",
   "metadata": {},
   "outputs": [
    {
     "name": "stderr",
     "output_type": "stream",
     "text": [
      "Generation: 1000 Fitness: 2.466240659494275 : : 1001it [00:02, 343.20it/s]"
     ]
    },
    {
     "name": "stdout",
     "output_type": "stream",
     "text": [
      "x:  [ 0.00427248  0.02267118  0.01725392 -0.0526208   0.0352122   0.0228612\n",
      "  0.00886388 -0.0124764  -0.04210904 -0.00374733  0.02189537 -0.04890602\n",
      " -0.00520596  0.02495996 -0.01032882 -0.01585568 -0.00404043 -0.02044934\n",
      "  0.00545354 -0.02775874]\n",
      "f:  2.466240659494275\n",
      "CPU times: total: 3.14 s\n",
      "Wall time: 2.92 s\n"
     ]
    },
    {
     "name": "stderr",
     "output_type": "stream",
     "text": [
      "\n"
     ]
    }
   ],
   "source": [
    "%%time\n",
    "best_outputs, best_fitness, best_solution = EA(G,N,prob,f,L,U,random_state)\n",
    "print(\"x: \",best_solution)\n",
    "print(\"f: \",best_fitness)"
   ]
  },
  {
   "cell_type": "markdown",
   "id": "c636aafb-e18c-4503-b4bb-0ad486a1c0e7",
   "metadata": {},
   "source": [
    "### Visualización de la evolución del algoritmo"
   ]
  },
  {
   "cell_type": "code",
   "execution_count": 15,
   "id": "ea292d8c-3415-4f4f-9aaf-7d06617e8611",
   "metadata": {},
   "outputs": [
    {
     "data": {
      "image/png": "[encoded data removed]",
      "text/plain": [
       "<Figure size 640x480 with 1 Axes>"
      ]
     },
     "metadata": {},
     "output_type": "display_data"
    }
   ],
   "source": [
    "def VisualizaEvolucion(best_outputs):\n",
    "    fig, ax = plt.subplots()\n",
    "    ax.set_title(\"Algorithm evolution\")\n",
    "    plt.plot(best_outputs)\n",
    "    plt.xlabel(\"Generation\")\n",
    "    plt.ylabel(\"Fitness\")\n",
    "    plt.savefig(\"AGS-RR.png\")\n",
    "    plt.show()\n",
    "    \n",
    "VisualizaEvolucion(best_outputs)"
   ]
  }
 ],
 "metadata": {
  "kernelspec": {
   "display_name": "Python 3 (ipykernel)",
   "language": "python",
   "name": "python3"
  },
  "language_info": {
   "codemirror_mode": {
    "name": "ipython",
    "version": 3
   },
   "file_extension": ".py",
   "mimetype": "text/x-python",
   "name": "python",
   "nbconvert_exporter": "python",
   "pygments_lexer": "ipython3",
   "version": "3.10.8"
  }
 },
 "nbformat": 4,
 "nbformat_minor": 5
}
