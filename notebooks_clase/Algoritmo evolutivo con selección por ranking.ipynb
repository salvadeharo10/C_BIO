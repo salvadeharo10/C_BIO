{
 "cells": [
  {
   "cell_type": "markdown",
   "id": "39a89ea3",
   "metadata": {},
   "source": [
    "# Algoritmo evolutivo con selección por ranking\n",
    "\n",
    "### Descripción\n",
    "\n",
    "<font size=\"4\"> Algoritmo evolutivo con selección por ranking para optimización continua (minimización).\n",
    "\n",
    "### Componentes\n",
    "    \n",
    "- <font size=\"3\"> Representación real\n",
    "    \n",
    "- <font size=\"3\"> Selección por ranking (lineal, no lineal, exponencial)\n",
    "    \n",
    "- <font size=\"3\"> Muestreo estocástico con reemplazamiento\n",
    "    \n",
    "- <font size=\"3\"> Sustitución generacional completa\n",
    "    \n",
    "- <font size=\"3\"> Elitismo\n",
    "    \n",
    "- <font size=\"3\"> Cruce uniforme, aritmético y SBX\n",
    "\n",
    "- <font size=\"3\"> Mutación uniforme, 'small' y polinomial\n",
    "\n",
    "### Notas de implementación\n",
    "\n",
    "- <font size=\"3\"> El ranking lineal y exponencial se ha implementado como aparece en: ${\\it \\small\\mbox{Tobias Blickle and Lothar Thiele (1995), A Comparison of Selection Schemes used in Genetic Algorithms}}$, modificado para tratar poblaciones ordenadas de mejor a peor.\n",
    "\n",
    "- <font size=\"3\"> El ranking no lineal se ha implementado como aparece en: ${\\it \\small \\mbox{Zbigniew Michalewicz (1996), Genetic Algorithms + Data Structures = Evolution Programs}}$\n",
    "    \n",
    "### Comentarios adicionales\n",
    "    \n",
    "- <font size=\"3\"> Se requiere ordenar la población.\n",
    "    \n",
    "- <font size=\"3\"> Se puede controlar la presión selectiva.\n",
    "\n",
    "---"
   ]
  },
  {
   "cell_type": "markdown",
   "id": "6abb2e77-c157-4d19-9b18-ac4b9fc29e1f",
   "metadata": {},
   "source": [
    "### Requerimientos"
   ]
  },
  {
   "cell_type": "code",
   "execution_count": 1,
   "id": "2aa4f662",
   "metadata": {},
   "outputs": [],
   "source": [
    "import numpy as np\n",
    "from tqdm import tqdm\n",
    "import matplotlib.pyplot as plt\n",
    "import landscapes.single_objective as lso"
   ]
  },
  {
   "cell_type": "markdown",
   "id": "927bb762-1b76-4ba3-a7a7-eea30a0fb186",
   "metadata": {},
   "source": [
    "### Parámetros del algoritmo evolutivo\n",
    "- $G$: Número de generaciones\n",
    "- $N$: Tamaño de la población\n",
    "- $random\\_state$: Semilla para reproducibilidad\n",
    "- $prob$: Probabilidades\n",
    "  - $prob\\_cross$: Probabilidades de cruce\n",
    "    - $p\\_c$: Probabilidad de cruce\n",
    "    - $uniform\\_crossover\\_probability$: Probabilidad de cruce uniforme\n",
    "    - $arithmetic\\_crossover\\_probability$: Probabilidad de cruce aritmético\n",
    "    - $SBX\\_crossover\\_probability$: Probabilidad de cruce SBX\n",
    "  - $prob\\_mutation$: Probabilidades de mutación\n",
    "    - $p\\_m$: Probabilidad de mutación\n",
    "    - $uniform\\_mutation\\_probability$: Probabilidad de mutación uniforme \n",
    "    - $small\\_mutation\\_probability$: Probabilidad de mutación small \n",
    "    - $polynomial\\_mutation\\_probability$: Probabilidad de mutación small \n",
    "    - $epsilon$: Máximo cambio en mutación small\n",
    "- $param$: Parámetros del ranking:\n",
    "    - $amin$: Número esperado  de descendientes del peor individuo para selección por ranking lineal\n",
    "    - $amax$:  Número esperado de descendientes del mejor individuo para selección por ranking lineal ($1<=amax<=2$)\n",
    "    - $q$: Presión selectiva en ranking no lineal de Michalewicz, alto es más presión\n",
    "    - $c$: Presión selectiva en ranking exponencial, bajo es más presión\n",
    "    - $rank\\_type$: Tipo de ranking: 'linear', 'nonlinear', 'exponential'"
   ]
  },
  {
   "cell_type": "code",
   "execution_count": 2,
   "id": "8438888f-4bc2-436b-b507-b9b0f4423bcb",
   "metadata": {},
   "outputs": [],
   "source": [
    "G = 1000\n",
    "N = 100\n",
    "random_state = 1\n",
    "\n",
    "p_c = 0.6\n",
    "uniform_crossover_probability = 1.0 \n",
    "arithmetic_crossover_probability = 0.0\n",
    "SBX_crossover_probability = 0.0\n",
    "\n",
    "p_m = 0.01\n",
    "uniform_mutation_probability = 1.0\n",
    "small_mutation_probability = 0.0\n",
    "polynomial_mutation_probability = 0.0\n",
    "epsilon = 1e-6\n",
    "\n",
    "prob_cross = p_c,uniform_crossover_probability,arithmetic_crossover_probability,SBX_crossover_probability\n",
    "prob_mutation = p_m,uniform_mutation_probability,small_mutation_probability,polynomial_mutation_probability,epsilon\n",
    "prob = prob_cross,prob_mutation\n",
    "\n",
    "amin = 0\n",
    "amax = 2-amin\n",
    "q = 0.7\n",
    "c = 0.3\n",
    "rank_type = 'exponential'\n",
    "\n",
    "param = amin,amax,q,c,rank_type"
   ]
  },
  {
   "cell_type": "markdown",
   "id": "843a84f4",
   "metadata": {},
   "source": [
    "### Definición del problema de optimización\n",
    "- $L$: Límite inferior de espacio de búsqueda\n",
    "- $U$: Límite superior de espacio de búsqueda\n",
    "- $f$: Función objetivo"
   ]
  },
  {
   "cell_type": "code",
   "execution_count": 3,
   "id": "7d49a932",
   "metadata": {},
   "outputs": [],
   "source": [
    "def Rastrigin():\n",
    "    n = 20 # Número de variables de decisión  \n",
    "    L = np.full(n, -5.12)\n",
    "    U = np.full(n, 5.12)\n",
    "    f = lso.rastrigin\n",
    "    return L,U,f\n",
    "\n",
    "def Sphere():\n",
    "    n = 10 # Número de variables de decisión  \n",
    "    L = np.full(n, -5.12)\n",
    "    U = np.full(n,  5.12)    \n",
    "    f = lso.sphere\n",
    "    return L,U,f\n",
    "\n",
    "def Rosenbrock():\n",
    "    n = 5 # Número de variables de decisión  \n",
    "    L = np.full(n, -2.048)\n",
    "    U = np.full(n, 2.048)\n",
    "    f = lso.rosenbrock\n",
    "    return L,U,f\n",
    "\n",
    "L,U,f = Rastrigin()\n",
    "# L,U,f = Sphere()\n",
    "# L,U,f = Rosenbrock()"
   ]
  },
  {
   "cell_type": "markdown",
   "id": "94c4780a",
   "metadata": {},
   "source": [
    "### Definición de individuo"
   ]
  },
  {
   "cell_type": "code",
   "execution_count": 4,
   "id": "a8187c76",
   "metadata": {},
   "outputs": [],
   "source": [
    "class Individuo:\n",
    "    def __init__(self,n):\n",
    "        self.x = np.zeros(n)\n",
    "        self.f = 0.0\n",
    "    def __lt__(self, ind):\n",
    "        return self.f < ind.f"
   ]
  },
  {
   "cell_type": "markdown",
   "id": "69378930-03a2-4267-9aa6-427d3f54f8d2",
   "metadata": {},
   "source": [
    "### Inicialización de la población"
   ]
  },
  {
   "cell_type": "code",
   "execution_count": 5,
   "id": "190dc0e3-dea3-4f03-97df-3796a95c2552",
   "metadata": {},
   "outputs": [],
   "source": [
    "def InitializePopulation(P,L,U):\n",
    "    n = L.size\n",
    "    for I in P:\n",
    "        I.x[:] = np.random.uniform(L, U, n)"
   ]
  },
  {
   "cell_type": "markdown",
   "id": "ca34ec40-76e0-448c-940e-4131b21c4194",
   "metadata": {},
   "source": [
    "### Función de evaluación"
   ]
  },
  {
   "cell_type": "code",
   "execution_count": 6,
   "id": "382b3fa1-c7a1-4e50-a6c3-a353064e4f58",
   "metadata": {},
   "outputs": [],
   "source": [
    "def evaluate(I,f):           \n",
    "    I.f = f(I.x)"
   ]
  },
  {
   "cell_type": "markdown",
   "id": "a11bf5c3-00f7-4305-8e23-94250fbcb0a3",
   "metadata": {},
   "source": [
    "### Copia de individuo"
   ]
  },
  {
   "cell_type": "code",
   "execution_count": 7,
   "id": "e85c5aa3-309f-49e7-9718-dceb6fb7e956",
   "metadata": {},
   "outputs": [],
   "source": [
    "def copia(I1, I2):\n",
    "    np.copyto(I1.x, I2.x)\n",
    "    I1.f = I2.f   "
   ]
  },
  {
   "cell_type": "markdown",
   "id": "22d2e9b3",
   "metadata": {},
   "source": [
    "### Cálculo de las probabilidades acumuladas"
   ]
  },
  {
   "cell_type": "code",
   "execution_count": 8,
   "id": "18210ed7",
   "metadata": {},
   "outputs": [],
   "source": [
    "def calculate_cumulative_probabilities(cumulative_probabilities,P,N,param):\n",
    "    amin,amax,q,c,rank_type = param    \n",
    "    if rank_type == 'linear':\n",
    "        cumulative_probabilities[0] = amax\n",
    "        for i in range(1,N):\n",
    "            cumulative_probabilities[i] = cumulative_probabilities[i-1]+(amax+(amin-amax)*i/(N-1))/N\n",
    "    if rank_type == 'nonlinear':   \n",
    "        cumulative_probabilities[0] = q\n",
    "        for i in range(1,N):\n",
    "            cumulative_probabilities[i] = cumulative_probabilities[i-1]+q*(1-q)**i    \n",
    "    if rank_type == 'exponential':\n",
    "        den = c**N-1\n",
    "        cumulative_probabilities[0] = (c-1)/den\n",
    "        for i in range(1,N):\n",
    "            cumulative_probabilities[i] = cumulative_probabilities[i-1]+(c-1)*c**i/den"
   ]
  },
  {
   "cell_type": "markdown",
   "id": "5b34b75a-6659-4443-aa8c-af23c29d4731",
   "metadata": {},
   "source": [
    "### Selección por ranking y muestreo estocástico con reemplazamiento"
   ]
  },
  {
   "cell_type": "code",
   "execution_count": 9,
   "id": "9d45ece4-4f19-4f3b-b67b-319d74dfd922",
   "metadata": {},
   "outputs": [],
   "source": [
    "def selection(P,cumulative_probabilities):\n",
    "    r = np.random.random()\n",
    "    i = 0\n",
    "    while (cumulative_probabilities[i]<r):\n",
    "        i += 1 \n",
    "    return P[i]"
   ]
  },
  {
   "cell_type": "markdown",
   "id": "0721c2ed",
   "metadata": {},
   "source": [
    "### Cruce\n",
    "- Cruce con probabilidad $p\\_c$ y:\n",
    "    - cruce uniforme (con probabilidad $uniform\\_crossover\\_probability$)\n",
    "    - cruce aritmético (con probabilidad $arithmetic\\_crossover\\_probability$)\n",
    "    - cruce SBX en otro caso"
   ]
  },
  {
   "cell_type": "code",
   "execution_count": 10,
   "id": "c67ca7a2",
   "metadata": {},
   "outputs": [],
   "source": [
    "def uniform_crossover(x1,x2):\n",
    "    for l in range(x1.size):\n",
    "        if np.random.random()<=0.5:\n",
    "            x1[l], x2[l] = x2[l], x1[l] \n",
    "            \n",
    "def arithmetic_crossover(x1,x2):\n",
    "    alpha = np.random.random()\n",
    "    x1[:], x2[:] = alpha*x1+(1-alpha)*x2, alpha*x2+(1-alpha)*x1\n",
    "        \n",
    "def SBX_crossover(x1,x2,L,U):\n",
    "    eta = 10\n",
    "    u = np.random.rand()\n",
    "    if u <= 0.5:\n",
    "        beta = (2 * u) ** (1 / (eta + 1))\n",
    "    else:\n",
    "        beta = (1 / (2 * (1 - u))) ** (1 / (eta + 1))    \n",
    "    x1[:], x2[:] = 0.5*((1+beta)*x1+(1-beta)*x2), 0.5 *((1-beta)*x1+(1+beta)*x2)\n",
    "    x1[:], x2[:] = np.clip(x1,L,U), np.clip(x2,L,U)\n",
    "    \n",
    "def crossover(x1,x2,prob_cross,L,U): \n",
    "    p_c,uniform_crossover_probability,arithmetic_crossover_probability,SBX_crossover_probability = prob_cross\n",
    "    if np.random.random()<=p_c:\n",
    "        r = np.random.random()\n",
    "        if r<=uniform_crossover_probability:\n",
    "            uniform_crossover(x1,x2)\n",
    "        elif r<=uniform_crossover_probability+arithmetic_crossover_probability:\n",
    "            arithmetic_crossover(x1,x2)\n",
    "        else:\n",
    "            SBX_crossover(x1,x2,L,U)"
   ]
  },
  {
   "cell_type": "markdown",
   "id": "42726f6e",
   "metadata": {},
   "source": [
    "### Mutación\n",
    "- Mutación con probabilidad $p\\_m$ y:\n",
    "    - mutación uniforme numerica (con probabilidad $uniform\\_mutation\\_probability$)\n",
    "    - mutación small (con probabilidad $small\\_mutation\\_probability$) \n",
    "    - mutación polinomial en otro caso"
   ]
  },
  {
   "cell_type": "code",
   "execution_count": 11,
   "id": "8297d8bd",
   "metadata": {},
   "outputs": [],
   "source": [
    "def uniform_mutation(x,p_m,L,U):\n",
    "    for l in range(x.size):\n",
    "        if np.random.random()<=p_m:\n",
    "            x[l] = np.random.uniform(L[l],U[l])\n",
    "    \n",
    "def small_mutation(x,p_m,epsilon,L,U):\n",
    "    for l in range(x.size):\n",
    "        if np.random.random()<=p_m:\n",
    "            if np.random.random()<=0.5:\n",
    "                x[l] += np.random.uniform(0,epsilon)\n",
    "            else:\n",
    "                x[l] -= np.random.uniform(0,epsilon)\n",
    "    x[:] = np.clip(x,L,U)\n",
    "                \n",
    "def polynomial_mutation(x,p_m,L,U):\n",
    "    eta_m = 20\n",
    "    for l in range(x.size):\n",
    "        if np.random.random()<=p_m:\n",
    "            u = np.random.random()\n",
    "            if u<=0.5:\n",
    "                 x[l] += ((2*u)**(1/(1+eta_m))-1)*(x[l]-L[l])\n",
    "            else:\n",
    "                 x[l] += (1-(2*(1-u))**(1/(1+eta_m)))*(U[l]-x[l])\n",
    "    x[:] = np.clip(x,L,U)\n",
    "                \n",
    "def mutation(x,prob_mutation,L,U):\n",
    "    p_m,uniform_mutation_probability,small_mutation_probability,polynomial_mutation_probability,epsilon = prob_mutation\n",
    "    r = np.random.random()\n",
    "    if r<=uniform_mutation_probability:\n",
    "        uniform_mutation(x,p_m,L,U)\n",
    "    elif r<=uniform_mutation_probability+small_mutation_probability:\n",
    "        small_mutation(x,p_m,epsilon,L,U)\n",
    "    else:\n",
    "        polynomial_mutation(x,p_m,L,U)"
   ]
  },
  {
   "cell_type": "markdown",
   "id": "3d036cef-c406-4b40-b064-730f79b157ab",
   "metadata": {},
   "source": [
    "### Progreso del algoritmo"
   ]
  },
  {
   "cell_type": "code",
   "execution_count": 12,
   "id": "31031861-1875-421b-a168-b036e363358a",
   "metadata": {},
   "outputs": [],
   "source": [
    "def IniciaProgreso(P,G):\n",
    "    best_outputs = [0]*(G+1) # Para visualizar la gráfica de evolución al final    \n",
    "    progression_bar = tqdm()\n",
    "    ActualizaProgreso(P,0,best_outputs,progression_bar)    \n",
    "    return best_outputs,progression_bar\n",
    "    \n",
    "def ActualizaProgreso(P,gen,best_outputs,progression_bar):\n",
    "    best_fitness = min(P).f\n",
    "    progression_bar.set_description(\"Generation: %s Fitness: %s \" % (str(gen), str(best_fitness)))\n",
    "    best_outputs[gen] = best_fitness # Añadir mejor fitness (para visualización)\n",
    "    progression_bar.update(1)"
   ]
  },
  {
   "cell_type": "markdown",
   "id": "60442801",
   "metadata": {},
   "source": [
    "### Algoritmo evolutivo"
   ]
  },
  {
   "cell_type": "code",
   "execution_count": 13,
   "id": "2b18b2d3",
   "metadata": {},
   "outputs": [],
   "source": [
    "def EA(G,N,prob,param,f,L,U,random_state):\n",
    "    \n",
    "    np.random.seed(random_state)\n",
    "    \n",
    "    prob_cross,prob_mutation = prob\n",
    "    p_c,uniform_crossover_probability,arithmetic_crossover_probability,SBX_crossover_probability = prob_cross\n",
    "    p_m,uniform_mutation_probability,small_mutation_probability,polynomial_mutation_probability,epsilon = prob_mutation\n",
    "    \n",
    "    # Aserciones\n",
    "    \n",
    "    assert G >= 1, \"El número de generaciones debe ser mayor o igual que 1.\"  \n",
    "    assert N >= 2 and not N % 2, \"El tamaño de la población debe ser par y mayor que 1.\"  \n",
    "    \n",
    "    def AssertProbability(p):\n",
    "        assert p>=0 and p<=1, \"La probabilidad debe estar entre 0 y 1.\"\n",
    "\n",
    "    AssertProbability(p_c)\n",
    "    AssertProbability(uniform_crossover_probability)\n",
    "    AssertProbability(arithmetic_crossover_probability)\n",
    "    AssertProbability(SBX_crossover_probability)    \n",
    "    assert uniform_crossover_probability + arithmetic_crossover_probability + SBX_crossover_probability == 1.0, \"Error en suma de probabilidades de cruce.\"\n",
    "    \n",
    "    AssertProbability(p_m)\n",
    "    AssertProbability(uniform_mutation_probability)\n",
    "    AssertProbability(small_mutation_probability)\n",
    "    AssertProbability(polynomial_mutation_probability)\n",
    "    assert uniform_mutation_probability + small_mutation_probability + polynomial_mutation_probability == 1.0, \"Error en suma de probabilidades de mutación.\"\n",
    "\n",
    "    cumulative_probabilities = np.zeros(N)\n",
    "    \n",
    "    n = L.size # Número de variables de decisión  \n",
    "    \n",
    "    # Crear población inicial con N individuos\n",
    "    P = [Individuo(n) for _ in range(N)]\n",
    "    InitializePopulation(P,L,U)\n",
    "    \n",
    "    # Evaluar población inicial\n",
    "    for I in P:\n",
    "        evaluate(I,f)\n",
    "    \n",
    "    # Crear población auxilar \n",
    "    Q = [Individuo(n) for _ in range(N)]\n",
    "    \n",
    "    P.sort()    \n",
    "\n",
    "    # Para Elitismo    \n",
    "    best_individuo = P[0]\n",
    "        \n",
    "    # Evoluciona durante G generaciones\n",
    "    best_outputs, progression_bar = IniciaProgreso(P,G)    \n",
    "    for gen in range(1,G+1):\n",
    "        calculate_cumulative_probabilities(cumulative_probabilities,P,N,param)\n",
    "        i = 0\n",
    "        while i < N:\n",
    "            copia(Q[i],selection(P,cumulative_probabilities))\n",
    "            copia(Q[i+1],selection(P,cumulative_probabilities))\n",
    "            crossover(Q[i].x,Q[i+1].x,prob_cross,L,U)\n",
    "            mutation(Q[i].x,prob_mutation,L,U)\n",
    "            mutation(Q[i+1].x,prob_mutation,L,U)\n",
    "            i += 2    \n",
    "        copia(P[0],best_individuo)\n",
    "        for i in range(1,N):\n",
    "            copia(P[i],Q[i])\n",
    "            evaluate(P[i],f)                            \n",
    "        P.sort()\n",
    "        best_individuo = P[0]\n",
    "        ActualizaProgreso(P,gen,best_outputs,progression_bar)\n",
    "    return best_outputs, best_individuo.f, best_individuo.x"
   ]
  },
  {
   "cell_type": "markdown",
   "id": "d8a37a96",
   "metadata": {},
   "source": [
    "### Ejecución del algoritmo evolutivo"
   ]
  },
  {
   "cell_type": "code",
   "execution_count": 14,
   "id": "add3ee15",
   "metadata": {},
   "outputs": [
    {
     "name": "stderr",
     "output_type": "stream",
     "text": [
      "Generation: 1000 Fitness: 0.29462443834177066 : : 1001it [00:04, 212.38it/s]"
     ]
    },
    {
     "name": "stdout",
     "output_type": "stream",
     "text": [
      "x:  [-3.14910378e-04 -5.61225734e-05  3.08695641e-03 -6.74763901e-03\n",
      "  1.35017596e-03  4.52392048e-03  5.66340455e-03 -1.24764033e-02\n",
      " -5.15477419e-04  8.67679773e-03 -8.46266725e-03 -1.02596520e-02\n",
      " -5.20595593e-03  5.26802920e-03  8.28552258e-03 -1.36166526e-02\n",
      " -4.04042646e-03 -1.88895631e-02  5.45354252e-03  1.60180572e-02]\n",
      "f:  0.29462443834177066\n",
      "CPU times: total: 4.81 s\n",
      "Wall time: 4.74 s\n"
     ]
    },
    {
     "name": "stderr",
     "output_type": "stream",
     "text": [
      "\n"
     ]
    }
   ],
   "source": [
    "%%time\n",
    "best_outputs, best_fitness, best_solution = EA(G,N,prob,param,f,L,U,random_state)\n",
    "print(\"x: \",best_solution)\n",
    "print(\"f: \",best_fitness)"
   ]
  },
  {
   "cell_type": "markdown",
   "id": "f56369b9",
   "metadata": {},
   "source": [
    "### Visualización de la evolución del algoritmo"
   ]
  },
  {
   "cell_type": "code",
   "execution_count": 15,
   "id": "257d4aa3",
   "metadata": {},
   "outputs": [
    {
     "data": {
      "image/png": "[encoded data removed]",
      "text/plain": [
       "<Figure size 432x288 with 1 Axes>"
      ]
     },
     "metadata": {
      "needs_background": "light"
     },
     "output_type": "display_data"
    }
   ],
   "source": [
    "def VisualizaEvolucion(best_outputs):\n",
    "    fig, ax = plt.subplots()\n",
    "    ax.set_title(\"Algorithm evolution\")\n",
    "    plt.plot(best_outputs)\n",
    "    plt.xlabel(\"Generation\")\n",
    "    plt.ylabel(\"Fitness\")\n",
    "    plt.show()\n",
    "    \n",
    "VisualizaEvolucion(best_outputs)"
   ]
  }
 ],
 "metadata": {
  "kernelspec": {
   "display_name": "Python 3 (ipykernel)",
   "language": "python",
   "name": "python3"
  },
  "language_info": {
   "codemirror_mode": {
    "name": "ipython",
    "version": 3
   },
   "file_extension": ".py",
   "mimetype": "text/x-python",
   "name": "python",
   "nbconvert_exporter": "python",
   "pygments_lexer": "ipython3",
   "version": "3.8.10"
  }
 },
 "nbformat": 4,
 "nbformat_minor": 5
}
