{
  "cells": [
    {
      "cell_type": "markdown",
      "id": "39a89ea3",
      "metadata": {
        "id": "39a89ea3"
      },
      "source": [
        "# Algoritmo genético simple\n",
        "\n",
        "### Descripción\n",
        "    \n",
        "<font size=\"4\"> Algoritmo genético simple de Goldberg para optimización continua (minimización).\n",
        "\n",
        "### Componentes\n",
        "\n",
        "- <font size=\"3\"> Representación binaria\n",
        "    \n",
        "- <font size=\"3\"> Selección proporcional\n",
        "    \n",
        "- <font size=\"3\"> Muestreo estocástico con reemplazamiento\n",
        "    \n",
        "- <font size=\"3\"> Sustitución generacional completa\n",
        "    \n",
        "- <font size=\"3\"> Elitismo\n",
        "    \n",
        "- <font size=\"3\"> Cruce uniforme\n",
        "    \n",
        "- <font size=\"3\"> Mutación bit-flip\n",
        "    \n",
        "\n",
        "### Notas de implementación\n",
        "    \n",
        "- <font size=\"3\"> La selección proporcional está diseñada para maximización, con $f({\\bf x})\\geq 0$. Para que el algoritmo sea de minimización se requiere transformar el fitness. En este algoritmo se ha hecho una transformación lineal de la siguiente forma:\n",
        "\n",
        "    $$f'({\\bf x})= C- f({\\bf x}) $$\n",
        "\n",
        "    <font size=\"3\"> donde $C$ es un valor ligeramente superior al máximo valor de $f({\\bf x})$ en la población actual:\n",
        "\n",
        "    $$ C=\\max_{{\\bf x}\\in P}\\{f({\\bf x})\\}+\\epsilon$$\n",
        "        \n",
        "\n",
        "Es decir, nuestro objetivo es minimizar $f(x)$, pero la selección proporcional no está diseñada para eso, porque asigna mayor probabilidad de selección a aquellos individuos con fitness alto. Por tanto, convertimos el problema de minimización de $f(x)$ en un problema de maximizar al transformar linealmente la función fitness, es decir, la función $f'({\\bf x})= C- f({\\bf x})$, ya que esto si lo podemos hacer con selección proporcional. Al maximizar $f'(x)$ estaremos minimizando a $f(x)$.\n",
        "\n",
        "### Comentarios adicionales\n",
        "\n",
        "- <font size=\"3\"> No hay que ordenar la población.\n",
        "\n",
        "- <font size=\"3\"> Se requiere calcular el máximo de la población para la transformación lineal, es decor, para calcular $C$ en cada generación.\n",
        "\n",
        "- <font size=\"3\"> Se requiere calcular el mínimo de la población para el elitismo.\n",
        "    \n",
        "- <font size=\"3\"> Presión selectiva alta, lo que significa que los individuos más aptos tienen una probabilidad significativamente mayor de ser seleccionados, lo que puede acelerar la convergencia pero también aumentar el riesgo de estancamiento en óptimos locales.\n",
        "\n",
        "---"
      ]
    },
    {
      "cell_type": "markdown",
      "id": "fb863252-22fc-4c3c-98d7-441ef051a26e",
      "metadata": {
        "id": "fb863252-22fc-4c3c-98d7-441ef051a26e"
      },
      "source": [
        "### Requerimientos"
      ]
    },
    {
      "cell_type": "code",
      "source": [
        "!pip install landscapes"
      ],
      "metadata": {
        "colab": {
          "base_uri": "https://localhost:8080/"
        },
        "id": "WEFVCto3nykW",
        "outputId": "6082ffa2-c772-4ab5-94c3-56e08cb53c65"
      },
      "id": "WEFVCto3nykW",
      "execution_count": 1,
      "outputs": [
        {
          "output_type": "stream",
          "name": "stdout",
          "text": [
            "Collecting landscapes\n",
            "  Downloading landscapes-0.0.12-py3-none-any.whl.metadata (17 kB)\n",
            "Downloading landscapes-0.0.12-py3-none-any.whl (15 kB)\n",
            "Installing collected packages: landscapes\n",
            "Successfully installed landscapes-0.0.12\n"
          ]
        }
      ]
    },
    {
      "cell_type": "code",
      "execution_count": 2,
      "id": "2aa4f662",
      "metadata": {
        "id": "2aa4f662"
      },
      "outputs": [],
      "source": [
        "import numpy as np\n",
        "from tqdm import tqdm\n",
        "import matplotlib.pyplot as plt\n",
        "import landscapes.single_objective as lso"
      ]
    },
    {
      "cell_type": "markdown",
      "id": "3b44f2dc-e4a4-49fc-a676-ab11aa214cec",
      "metadata": {
        "id": "3b44f2dc-e4a4-49fc-a676-ab11aa214cec"
      },
      "source": [
        "### Parámetros del algoritmo evolutivo\n",
        "- $precision$: precisión requerida para las variables de decisión (número de cifras decimales). Las variables de decisión determinan el fenotipo de cada individuo, que constituye la interpretación de la información codificada en su cromosoma. Es decir, recordemos que cada individuo $i$ en la generación $t$, $X_i^t$, se representa mediante una terna $$X_i^t = (c_i^t, x_i^t, f_i^t)$$ donde:\n",
        "    - $c_i^t$ es el cromosoma, con $c_i^t = (b_{i1}^t, b_{i2}^t, \\dots, b_{i_{\\text{long}}}^t)$\n",
        "    - $x_i^t$ es el fenotipo, con $x_i^t = (x_{i1}^t, x_{i2}^t, \\dots, x_{in}^t)$, siendo $n$ el número de variables de decisión.\n",
        "    - $f_i^t$ es el valor fitness, con $f_i^t = \\text{eval}(c_i^t) = f(x_i^t) = f(x_{i1}^t, x_{i2}^t, \\dots, x_{in}^t)$\n",
        "\n",
        "- $G$: Número de generaciones\n",
        "- $N$: Tamaño de la población\n",
        "- $p\\_c$: Probabilidad de cruce\n",
        "- $p\\_m$: Probabilidad de mutación\n",
        "- $random\\_state$: Semilla para reproducibilidad"
      ]
    },
    {
      "cell_type": "code",
      "execution_count": 18,
      "id": "28945886-9637-4786-a0d3-2315729dc575",
      "metadata": {
        "id": "28945886-9637-4786-a0d3-2315729dc575"
      },
      "outputs": [],
      "source": [
        "precision = 6\n",
        "G = 1000\n",
        "N = 100\n",
        "p_c = 0.6\n",
        "p_m = 0.01\n",
        "random_state = 1"
      ]
    },
    {
      "cell_type": "markdown",
      "id": "843a84f4",
      "metadata": {
        "id": "843a84f4"
      },
      "source": [
        "### Definición del problema de optimización\n",
        "- $L$: Límite inferior de espacio de búsqueda\n",
        "- $U$: Límite superior de espacio de búsqueda\n",
        "- $f$: Función objetivo"
      ]
    },
    {
      "cell_type": "markdown",
      "source": [
        "Lo que se define a continuación son funcines fitness típicas que actuan a modo de *benchmarks* para evaluar la convergencia de un algoritmo genético. Es decir, son las funciones objetivo y que queremos optimizar."
      ],
      "metadata": {
        "id": "W-cY8ScFp7bj"
      },
      "id": "W-cY8ScFp7bj"
    },
    {
      "cell_type": "code",
      "execution_count": 24,
      "id": "7d49a932",
      "metadata": {
        "id": "7d49a932"
      },
      "outputs": [],
      "source": [
        "def Rastrigin():\n",
        "    n = 20 # Número de variables de decisión\n",
        "    L = np.full(n, -5.12)\n",
        "    U = np.full(n, 5.12)\n",
        "    f = lso.rastrigin\n",
        "    return L,U,f\n",
        "\n",
        "def Sphere():\n",
        "    n = 10 # Número de variables de decisión\n",
        "    L = np.full(n, -5.12)\n",
        "    U = np.full(n,  5.12)\n",
        "    f = lso.sphere\n",
        "    return L,U,f\n",
        "\n",
        "def Rosenbrock():\n",
        "    n = 5 # Número de variables de decisión\n",
        "    L = np.full(n, -2.048)\n",
        "    U = np.full(n, 2.048)\n",
        "    f = lso.rosenbrock\n",
        "    return L,U,f\n",
        "\n",
        "#L,U,f = Rastrigin()\n",
        "L,U,f = Sphere()\n",
        "# L,U,f = Rosenbrock()"
      ]
    },
    {
      "cell_type": "markdown",
      "id": "94c4780a",
      "metadata": {
        "id": "94c4780a"
      },
      "source": [
        "### Definición de individuo"
      ]
    },
    {
      "cell_type": "code",
      "execution_count": 5,
      "id": "a8187c76",
      "metadata": {
        "id": "a8187c76"
      },
      "outputs": [],
      "source": [
        "class Individuo:\n",
        "    def __init__(self, n, long):\n",
        "        \"\"\"\n",
        "        Constructor de la clase Individuo.\n",
        "\n",
        "        Parámetros:\n",
        "        - n: Número de variables de decisión (dimensión del fenotipo).\n",
        "        - long: Longitud del cromosoma (cantidad de bits para representación binaria).\n",
        "        \"\"\"\n",
        "        self.x = np.zeros(long, dtype='int')  # Cromosoma representado como un array de ceros (binario).\n",
        "        self.dec = np.zeros(n)  # Fenotipo: valores decodificados de las variables de decisión.\n",
        "        self.f = 0.0  # Valor de la función de aptitud (fitness).\n",
        "\n",
        "    def __lt__(self, ind):\n",
        "        \"\"\"\n",
        "        Sobrecarga del operador '<' para comparar individuos.\n",
        "        Permite ordenar individuos en función de su fitness.\n",
        "\n",
        "        Parámetro:\n",
        "        - ind: Otro individuo con el que se compara.\n",
        "\n",
        "        Retorna:\n",
        "        - True si el fitness del individuo actual es menor que el del otro individuo.\n",
        "        \"\"\"\n",
        "        return self.f < ind.f"
      ]
    },
    {
      "cell_type": "markdown",
      "id": "04f4cc4b-c982-40d2-952b-fddddb767069",
      "metadata": {
        "id": "04f4cc4b-c982-40d2-952b-fddddb767069"
      },
      "source": [
        "### Inicialización de la población"
      ]
    },
    {
      "cell_type": "code",
      "execution_count": 6,
      "id": "b1fe2cdc-25f4-4319-9463-286936ff4839",
      "metadata": {
        "id": "b1fe2cdc-25f4-4319-9463-286936ff4839"
      },
      "outputs": [],
      "source": [
        "def InitializePopulation(P):\n",
        "    \"\"\"\n",
        "    Inicializa la población generando cromosomas aleatorios para cada individuo.\n",
        "\n",
        "    Parámetro:\n",
        "    - P: Lista de objetos de la clase Individuo que representan la población.\n",
        "\n",
        "    Funcionamiento:\n",
        "    - Se obtiene la longitud del cromosoma de los individuos de la población.\n",
        "    - Para cada individuo en P, se asignan valores aleatorios (0 o 1) a su cromosoma.\n",
        "    \"\"\"\n",
        "    long = P[0].x.size  # Obtiene la longitud del cromosoma del primer individuo.\n",
        "    for I in P:\n",
        "        I.x[:] = np.random.randint(0, 2, long)  # Asigna una cadena de bits aleatoria (0 o 1) a cada individuo."
      ]
    },
    {
      "cell_type": "markdown",
      "id": "f0e2a301-7bfe-4b93-aa07-d41e9bd4336d",
      "metadata": {
        "id": "f0e2a301-7bfe-4b93-aa07-d41e9bd4336d"
      },
      "source": [
        "### Decodificación"
      ]
    },
    {
      "cell_type": "code",
      "execution_count": 8,
      "id": "2ef5e319-c6fb-47d2-9736-9b5bf60a9f93",
      "metadata": {
        "id": "2ef5e319-c6fb-47d2-9736-9b5bf60a9f93"
      },
      "outputs": [],
      "source": [
        "def decode(I, L, U, longitudes, div_dom):\n",
        "    \"\"\"\n",
        "    Decodifica el cromosoma binario de un individuo en valores reales dentro de un dominio específico.\n",
        "\n",
        "    Parámetros:\n",
        "    - I: Individuo cuyo cromosoma se va a decodificar.\n",
        "    - L: Límite inferior del dominio de cada variable de decisión.\n",
        "    - U: Límite superior del dominio de cada variable de decisión.\n",
        "    - longitudes: Lista con la cantidad de bits usados para representar cada variable de decisión.\n",
        "    - div_dom: Factor de normalización para el cambio de escala.\n",
        "\n",
        "    Funcionamiento:\n",
        "    - Convierte la representación binaria en base 10.\n",
        "    - Mapea el valor obtenido al intervalo real definido por [L, U].\n",
        "    \"\"\"\n",
        "\n",
        "    idx = 0  # Índice para recorrer todo el cromosoma (genotipo)\n",
        "\n",
        "    for i in range(I.dec.size):  # Itera sobre cada variable de decisión\n",
        "        # Conversión de binario a base 10\n",
        "        power = 1  #inicialmente, power = 2^0 = 1. Factor de peso en la conversión binaria\n",
        "        for _ in range(longitudes[i]):\n",
        "            I.dec[i] += I.x[idx] * power  # Suma el valor del bit con su peso\n",
        "            idx += 1  # Mueve el índice al siguiente bit\n",
        "            power *= 2  # Aumenta la potencia de 2"
      ]
    },
    {
      "cell_type": "markdown",
      "id": "917f0d27-b705-4d32-9c18-b11d6fd20c2c",
      "metadata": {
        "id": "917f0d27-b705-4d32-9c18-b11d6fd20c2c"
      },
      "source": [
        "### Función de evaluación"
      ]
    },
    {
      "cell_type": "code",
      "execution_count": 9,
      "id": "1189cf59-ca70-4582-a64a-d612a4d2d2f6",
      "metadata": {
        "id": "1189cf59-ca70-4582-a64a-d612a4d2d2f6"
      },
      "outputs": [],
      "source": [
        "def evaluate(I,f):\n",
        "    I.f = f(I.dec)"
      ]
    },
    {
      "cell_type": "markdown",
      "id": "fb80644f-6a1e-4011-8050-522232669082",
      "metadata": {
        "id": "fb80644f-6a1e-4011-8050-522232669082"
      },
      "source": [
        "### Copia de individuo"
      ]
    },
    {
      "cell_type": "code",
      "execution_count": 10,
      "id": "52ccf2bb-afb8-4a0a-a145-100a1e01a7b6",
      "metadata": {
        "id": "52ccf2bb-afb8-4a0a-a145-100a1e01a7b6"
      },
      "outputs": [],
      "source": [
        "def copia(I1, I2):\n",
        "    np.copyto(I1.x, I2.x)\n",
        "    I1.f = I2.f"
      ]
    },
    {
      "cell_type": "markdown",
      "id": "22d2e9b3",
      "metadata": {
        "id": "22d2e9b3"
      },
      "source": [
        "### Cálculo de las probabilidades acumuladas"
      ]
    },
    {
      "cell_type": "code",
      "execution_count": 12,
      "id": "18210ed7",
      "metadata": {
        "id": "18210ed7"
      },
      "outputs": [],
      "source": [
        "def calculate_cumulative_probabilities(cumulative_probabilities, P, N):\n",
        "    \"\"\"\n",
        "    Calcula las probabilidades acumuladas para la selección proporcional en un algoritmo genético.\n",
        "\n",
        "    Parámetros:\n",
        "    - cumulative_probabilities: Lista donde se almacenarán las probabilidades acumuladas.\n",
        "    - P: Lista de individuos de la población actual.\n",
        "    - N: Número total de individuos en la población.\n",
        "\n",
        "    Funcionamiento:\n",
        "    - Se usa una transformación lineal en la función de aptitud (fitness) para convertir el problema de minimización en uno de maximización.\n",
        "    - Se calcula la suma total del fitness transformado.\n",
        "    - Se asignan las probabilidades acumuladas a cada individuo en función de su fitness relativo.\n",
        "    \"\"\"\n",
        "\n",
        "    C = max(P).f + 1e-6  # Se elige C como el mayor valor de fitness en la población más un pequeño epsilon (1e-6).\n",
        "\n",
        "    # Se calcula la suma del fitness transformado (C - f) ya que el algoritmo es de minimización.\n",
        "    sum_fitness = sum(C - I.f for I in P)\n",
        "\n",
        "    # Se calcula la primera probabilidad acumulada\n",
        "    cumulative_probabilities[0] = (C - P[0].f) / sum_fitness\n",
        "\n",
        "    # Se calcula la probabilidad acumulada para cada individuo en la población\n",
        "    for i in range(1, N):\n",
        "        cumulative_probabilities[i] = cumulative_probabilities[i - 1] + (C - P[i].f) / sum_fitness"
      ]
    },
    {
      "cell_type": "markdown",
      "id": "5b34b75a-6659-4443-aa8c-af23c29d4731",
      "metadata": {
        "id": "5b34b75a-6659-4443-aa8c-af23c29d4731"
      },
      "source": [
        "### Selección proporcional y muestreo estocástico con reemplazamiento (rueda de ruleta)"
      ]
    },
    {
      "cell_type": "code",
      "execution_count": 11,
      "id": "9d45ece4-4f19-4f3b-b67b-319d74dfd922",
      "metadata": {
        "id": "9d45ece4-4f19-4f3b-b67b-319d74dfd922"
      },
      "outputs": [],
      "source": [
        "def selection(P,cumulative_probabilities):\n",
        "    r = np.random.random()\n",
        "    i = 0\n",
        "    while (cumulative_probabilities[i]<r):\n",
        "        i += 1\n",
        "    return P[i]"
      ]
    },
    {
      "cell_type": "markdown",
      "id": "0721c2ed",
      "metadata": {
        "id": "0721c2ed"
      },
      "source": [
        "### Cruce\n",
        "- Cruce uniforme con probabilidad $p\\_c$"
      ]
    },
    {
      "cell_type": "code",
      "execution_count": 13,
      "id": "c67ca7a2",
      "metadata": {
        "id": "c67ca7a2"
      },
      "outputs": [],
      "source": [
        "def crossover(x1,x2,p_c):\n",
        "    if np.random.random()<=p_c:\n",
        "        for l in range(x1.size):\n",
        "            if np.random.random()<=0.5:\n",
        "                x1[l], x2[l] = x2[l], x1[l]"
      ]
    },
    {
      "cell_type": "markdown",
      "id": "42726f6e",
      "metadata": {
        "id": "42726f6e"
      },
      "source": [
        "### Mutación\n",
        "- Mutación bit-flip con probabilidad $p\\_m$"
      ]
    },
    {
      "cell_type": "code",
      "execution_count": 14,
      "id": "8297d8bd",
      "metadata": {
        "id": "8297d8bd"
      },
      "outputs": [],
      "source": [
        "def mutation(x,p_m):\n",
        "    for l in range(x.size):\n",
        "        if np.random.random()<=p_m:\n",
        "            x[l] = 0 if x[l]==1 else 1"
      ]
    },
    {
      "cell_type": "markdown",
      "id": "c8a15753-53be-4e16-beb0-65968052a191",
      "metadata": {
        "id": "c8a15753-53be-4e16-beb0-65968052a191"
      },
      "source": [
        "### Progreso del algoritmo"
      ]
    },
    {
      "cell_type": "code",
      "execution_count": 15,
      "id": "f60f5655-d7f4-47dc-bb27-5b37920f5e10",
      "metadata": {
        "id": "f60f5655-d7f4-47dc-bb27-5b37920f5e10"
      },
      "outputs": [],
      "source": [
        "def IniciaProgreso(P,G):\n",
        "    best_outputs = [0]*(G+1) # Para visualizar la gráfica de evolución al final\n",
        "    progression_bar = tqdm()\n",
        "    ActualizaProgreso(P,0,best_outputs,progression_bar)\n",
        "    return best_outputs,progression_bar\n",
        "\n",
        "def ActualizaProgreso(P,g,best_outputs,progression_bar):\n",
        "    best_fitness = min(P).f\n",
        "    progression_bar.set_description(\"Processing ... Generation: %s Fitness: %s \" % (str(g), str(best_fitness)))\n",
        "    best_outputs[g] = best_fitness # Añadir mejor fitness (para visualización)\n",
        "    progression_bar.update(1)"
      ]
    },
    {
      "cell_type": "markdown",
      "id": "60442801",
      "metadata": {
        "id": "60442801"
      },
      "source": [
        "### Algoritmo genético"
      ]
    },
    {
      "cell_type": "code",
      "execution_count": 28,
      "id": "2b18b2d3",
      "metadata": {
        "id": "2b18b2d3"
      },
      "outputs": [],
      "source": [
        "def EA(G, N, p_c, p_m, f, L, U, precision, random_state):\n",
        "\n",
        "    np.random.seed(random_state)\n",
        "\n",
        "    # Aserciones\n",
        "    assert G >= 1, \"El número de generaciones debe ser mayor o igual que 1.\"\n",
        "    assert N >= 2 and not N % 2, \"El tamaño de la población debe ser par y mayor que 1.\"\n",
        "    assert precision >= 0, \"La precisión debe ser mayor o igual que 0.\"\n",
        "\n",
        "    def AssertProbability(p):\n",
        "        assert p>=0 and p<=1, \"La probabilidad debe estar entre 0 y 1.\"\n",
        "\n",
        "    AssertProbability(p_c)\n",
        "    AssertProbability(p_m)\n",
        "\n",
        "    n = L.size # Número de variables de decisión\n",
        "\n",
        "    # Calcular logitudes de las variables, longitud total del cromosoma y número de divisiones del dominio para el cambio de escala de las variables\n",
        "    longitudes = [int(np.ceil(np.log2((U[i]-L[i])*(10**precision)))) for i in range(n) ]\n",
        "    long = sum(longitudes)\n",
        "    div_dom = [2**longitudes[i]-1 for i in range(n)]\n",
        "\n",
        "    cumulative_probabilities = np.zeros(N)\n",
        "\n",
        "    # Crear población inicial con N individuos\n",
        "    P = [Individuo(n,long) for _ in range(N)]\n",
        "    InitializePopulation(P)\n",
        "\n",
        "    # Evaluar población inicial\n",
        "    for I in P:\n",
        "        decode(I,L,U,longitudes,div_dom)\n",
        "        evaluate(I,f)\n",
        "\n",
        "    # Crear población auxilar\n",
        "    Q = [Individuo(n,long) for _ in range(N)]\n",
        "\n",
        "\n",
        "    # Para Elitismo\n",
        "    best_individuo = min(P)\n",
        "    print(f'en el estado inicial, el mejor individuo tiene fitness {best_individuo.f}')\n",
        "\n",
        "    # Evoluciona durante G generaciones\n",
        "    best_outputs, progression_bar = IniciaProgreso(P,G)\n",
        "    for g in range(1,G+1):\n",
        "        calculate_cumulative_probabilities(cumulative_probabilities,P,N)\n",
        "        i = 0\n",
        "        while i < N: #creamos los descendientes mediante seleccion, cruce y mutacion\n",
        "            copia(Q[i],selection(P,cumulative_probabilities))\n",
        "            copia(Q[i+1],selection(P,cumulative_probabilities))\n",
        "            crossover(Q[i].x,Q[i+1].x,p_c)\n",
        "            mutation(Q[i].x,p_m)\n",
        "            mutation(Q[i+1].x,p_m)\n",
        "            i += 2\n",
        "        copia(P[0],best_individuo) #elitismo\n",
        "        for i in range(1,N): #actualizamos la poblacion restante para constituir la nueva generacion\n",
        "            copia(P[i],Q[i])\n",
        "            decode(P[i],L,U,longitudes,div_dom)\n",
        "            evaluate(P[i],f)\n",
        "        ActualizaProgreso(P,g,best_outputs,progression_bar)\n",
        "        best_individuo = min(P)\n",
        "    return best_outputs, best_individuo.f, best_individuo.dec"
      ]
    },
    {
      "cell_type": "markdown",
      "id": "d8a37a96",
      "metadata": {
        "id": "d8a37a96"
      },
      "source": [
        "### Ejecución del algoritmo genético"
      ]
    },
    {
      "cell_type": "code",
      "execution_count": 29,
      "id": "add3ee15",
      "metadata": {
        "colab": {
          "base_uri": "https://localhost:8080/"
        },
        "id": "add3ee15",
        "outputId": "c4f05fad-f846-43b9-f1df-3b73be37b67e"
      },
      "outputs": [
        {
          "output_type": "stream",
          "name": "stdout",
          "text": [
            "en el estado inicial, el mejor individuo tiene fitness 299335592089286.0\n"
          ]
        },
        {
          "output_type": "stream",
          "name": "stderr",
          "text": [
            "Processing ... Generation: 1000 Fitness: 299335592089286.0 : : 1001it [00:45, 21.99it/s]"
          ]
        },
        {
          "output_type": "stream",
          "name": "stdout",
          "text": [
            "x:  [ 2255347. 12525329. 13592009.  7526768.   520315. 12461694.  1917666.\n",
            "   542280.  6516851. 14373623.]\n",
            "f:  299335592089286.0\n",
            "CPU times: user 43.4 s, sys: 898 ms, total: 44.3 s\n",
            "Wall time: 45.6 s\n"
          ]
        },
        {
          "output_type": "stream",
          "name": "stderr",
          "text": [
            "\n"
          ]
        }
      ],
      "source": [
        "%%time\n",
        "best_outputs, best_fitness, best_solution = EA(G, N, p_c, p_m, f, L, U, precision, random_state)\n",
        "print(\"x: \",best_solution)\n",
        "print(\"f: \",best_fitness)"
      ]
    },
    {
      "cell_type": "markdown",
      "id": "7c90a1eb-0335-4a98-a3e1-aab800027b0f",
      "metadata": {
        "id": "7c90a1eb-0335-4a98-a3e1-aab800027b0f"
      },
      "source": [
        "### Visualización de la evolución del algoritmo"
      ]
    },
    {
      "cell_type": "code",
      "execution_count": 27,
      "id": "b32b4dfe-ca04-43ca-abd6-897f2a311b13",
      "metadata": {
        "colab": {
          "base_uri": "https://localhost:8080/",
          "height": 472
        },
        "id": "b32b4dfe-ca04-43ca-abd6-897f2a311b13",
        "outputId": "6eac7aed-e508-45d3-de3c-1f0ce73fbe34"
      },
      "outputs": [
        {
          "output_type": "display_data",
          "data": {
            "text/plain": [
              "<Figure size 640x480 with 1 Axes>"
            ],
            "image/png": "[encoded data removed]"
          },
          "metadata": {}
        }
      ],
      "source": [
        "def VisualizaEvolucion(best_outputs):\n",
        "    fig, ax = plt.subplots()\n",
        "    ax.set_title(\"Evolución del algoritmo\")\n",
        "    plt.plot(best_outputs)\n",
        "    plt.xlabel(\"Iteración\")\n",
        "    plt.ylabel(\"Fitness\")\n",
        "    plt.show()\n",
        "\n",
        "VisualizaEvolucion(best_outputs)"
      ]
    }
  ],
  "metadata": {
    "kernelspec": {
      "display_name": "Python 3 (ipykernel)",
      "language": "python",
      "name": "python3"
    },
    "language_info": {
      "codemirror_mode": {
        "name": "ipython",
        "version": 3
      },
      "file_extension": ".py",
      "mimetype": "text/x-python",
      "name": "python",
      "nbconvert_exporter": "python",
      "pygments_lexer": "ipython3",
      "version": "3.12.4"
    },
    "colab": {
      "provenance": []
    }
  },
  "nbformat": 4,
  "nbformat_minor": 5
}